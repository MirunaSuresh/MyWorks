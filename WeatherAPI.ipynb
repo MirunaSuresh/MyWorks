{
 "cells": [
  {
   "cell_type": "code",
   "execution_count": 6,
   "metadata": {},
   "outputs": [
    {
     "name": "stdout",
     "output_type": "stream",
     "text": [
      "{\"data\":[{\"wind_cdir\":\"ESE\",\"rh\":100,\"pod\":\"n\",\"pres\":1027.75,\"timezone\":\"Arctic\\/Longyearbyen\",\"ob_time\":\"2019-12-18 12:05\",\"country_code\":\"SJ\",\"clouds\":0,\"ts\":1576670725,\"solar_rad\":0,\"state_code\":\"21\",\"city_name\":\"Longyearbyen\",\"wind_spd\":1.46565,\"last_ob_time\":\"2019-12-18T11:45:00\",\"wind_cdir_full\":\"east-southeast\",\"slp\":1028.06,\"vis\":24.1344,\"lon\":33.86,\"uv\":0,\"datetime\":\"2019-12-18:12\",\"h_angle\":null,\"dewpt\":-27.2,\"aqi\":null,\"dhi\":0,\"wind_dir\":111,\"elev_angle\":-22.82,\"ghi\":0,\"precip\":null,\"sunrise\":\"00:00\",\"lat\":151.2,\"weather\":{\"icon\":\"c01n\",\"code\":\"800\",\"description\":\"Clear sky\"},\"sunset\":\"99:99\",\"temp\":-24.5,\"dni\":0,\"station\":\"E7440\",\"app_temp\":-35.5}],\"count\":1}\n",
      "\n"
     ]
    }
   ],
   "source": [
    "import http.client\n",
    "\n",
    "conn = http.client.HTTPSConnection(\"weatherbit-v1-mashape.p.rapidapi.com\")\n",
    "\n",
    "headers = {\n",
    "    'x-rapidapi-host': \"weatherbit-v1-mashape.p.rapidapi.com\",\n",
    "    'x-rapidapi-key': \"144cc93591msh269e93225a70ffbp108cc7jsn13c0c38e8d10\"\n",
    "    }\n",
    "\n",
    "conn.request(\"GET\", \"/current?lang=en&lon=33.86&lat=151.2\", headers=headers)\n",
    "\n",
    "res = conn.getresponse()\n",
    "data = res.read()\n",
    "\n",
    "print(data.decode(\"utf-8\"))"
   ]
  },
  {
   "cell_type": "code",
   "execution_count": null,
   "metadata": {},
   "outputs": [],
   "source": []
  }
 ],
 "metadata": {
  "kernelspec": {
   "display_name": "Python 3",
   "language": "python",
   "name": "python3"
  },
  "language_info": {
   "codemirror_mode": {
    "name": "ipython",
    "version": 3
   },
   "file_extension": ".py",
   "mimetype": "text/x-python",
   "name": "python",
   "nbconvert_exporter": "python",
   "pygments_lexer": "ipython3",
   "version": "3.7.4"
  }
 },
 "nbformat": 4,
 "nbformat_minor": 2
}
