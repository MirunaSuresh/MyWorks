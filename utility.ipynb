{
 "cells": [
  {
   "cell_type": "code",
   "execution_count": 6,
   "metadata": {},
   "outputs": [],
   "source": [
    "def random_num_count(n,a,b,x):\n",
    "    count=0\n",
    "    list=[]\n",
    "    for i in range(100):\n",
    "        num= random.uniform(0,100)\n",
    "        if num>x:\n",
    "            count+=1\n",
    "        list.append(num)\n",
    "    print(list)\n",
    "    return count"
   ]
  },
  {
   "cell_type": "code",
   "execution_count": 7,
   "metadata": {},
   "outputs": [],
   "source": [
    "def reverse(list):\n",
    "    i= len(list)-1\n",
    "    new_list=[]\n",
    "    while i>=0:\n",
    "        new_list.append(list[i])\n",
    "        print(list[i],end= ' ')\n",
    "        i-=1\n",
    "    return new_list\n",
    "\n"
   ]
  },
  {
   "cell_type": "code",
   "execution_count": 8,
   "metadata": {},
   "outputs": [],
   "source": [
    "def factorial(n):\n",
    "    if n==1 or n==0:\n",
    "        return 1\n",
    "    else:\n",
    "        return n*factorial(n-1)"
   ]
  },
  {
   "cell_type": "code",
   "execution_count": 9,
   "metadata": {},
   "outputs": [],
   "source": [
    "def sort_list(name_list):\n",
    "    new_list=[]\n",
    "\n",
    "    while name_list!=[]:\n",
    "        smallest = name_list[0]\n",
    "        index=0\n",
    "        for j in range(len(name_list)):\n",
    "            if name_list[j]<smallest:\n",
    "                smallest= name_list[j]\n",
    "                index=j\n",
    "        #print(smallest)\n",
    "        new_list.append(smallest)\n",
    "        #print(index)\n",
    "        del name_list[index]\n",
    "\n",
    "    #print(new_list)\n",
    "    return new_list"
   ]
  },
  {
   "cell_type": "code",
   "execution_count": 10,
   "metadata": {},
   "outputs": [],
   "source": [
    "def weirdness(number):\n",
    "    if number%2!=0:\n",
    "        print(\"weird\")\n",
    "    else:\n",
    "        if number>=2 and number <6:\n",
    "            print(\"Not weird\")\n",
    "        elif number>=6 and number <21:\n",
    "            print(\"weird\")\n",
    "        elif number>20:\n",
    "            print(\"Not weird\")"
   ]
  },
  {
   "cell_type": "code",
   "execution_count": 11,
   "metadata": {},
   "outputs": [],
   "source": [
    "def bubble_sort(list):\n",
    "    for x in range (len(list)):\n",
    "        for i in range (len(list)-1):\n",
    "            if list[i] > list[i+1]:\n",
    "                list[i],list[i+1]=list[i+1],list[i]\n",
    "    return list\n"
   ]
  },
  {
   "cell_type": "code",
   "execution_count": null,
   "metadata": {},
   "outputs": [],
   "source": [
    "def randomize_list(list):\n",
    "    dict = {}\n",
    "    for i in range(len(list)):\n",
    "        dict.add(rand.randint(0,100),list[i])\n",
    "    print(dict)\n",
    "        "
   ]
  }
 ],
 "metadata": {
  "kernelspec": {
   "display_name": "Python 3",
   "language": "python",
   "name": "python3"
  },
  "language_info": {
   "codemirror_mode": {
    "name": "ipython",
    "version": 3
   },
   "file_extension": ".py",
   "mimetype": "text/x-python",
   "name": "python",
   "nbconvert_exporter": "python",
   "pygments_lexer": "ipython3",
   "version": "3.7.4"
  }
 },
 "nbformat": 4,
 "nbformat_minor": 2
}
