{
 "cells": [
  {
   "cell_type": "code",
   "execution_count": 1,
   "metadata": {},
   "outputs": [
    {
     "name": "stdout",
     "output_type": "stream",
     "text": [
      "Mongo version 3.10.0\n"
     ]
    }
   ],
   "source": [
    "\n",
    "\n",
    "\n",
    "\n",
    "from IPython.core.display import display, HTML\n",
    "import pymongo\n",
    "from pymongo import MongoClient\n",
    "print ('Mongo version ' + pymongo.__version__)\n"
   ]
  },
  {
   "cell_type": "code",
   "execution_count": 2,
   "metadata": {},
   "outputs": [],
   "source": [
    "#client = MongoClient('localhost', 27017)\n",
    "myclient = pymongo.MongoClient(\"mongodb://localhost:27017/\")\n"
   ]
  },
  {
   "cell_type": "code",
   "execution_count": 3,
   "metadata": {},
   "outputs": [],
   "source": [
    "mydb = myclient[\"mydatabase\"]"
   ]
  },
  {
   "cell_type": "code",
   "execution_count": 4,
   "metadata": {},
   "outputs": [
    {
     "name": "stdout",
     "output_type": "stream",
     "text": [
      "MongoClient(host=['localhost:27017'], document_class=dict, tz_aware=False, connect=True)\n"
     ]
    }
   ],
   "source": [
    "print(myclient)"
   ]
  },
  {
   "cell_type": "code",
   "execution_count": 5,
   "metadata": {},
   "outputs": [
    {
     "name": "stdout",
     "output_type": "stream",
     "text": [
      "Database(MongoClient(host=['localhost:27017'], document_class=dict, tz_aware=False, connect=True), 'mydatabase')\n"
     ]
    }
   ],
   "source": [
    "print(mydb)"
   ]
  },
  {
   "cell_type": "code",
   "execution_count": 6,
   "metadata": {},
   "outputs": [
    {
     "name": "stdout",
     "output_type": "stream",
     "text": [
      "['admin', 'config', 'local']\n"
     ]
    }
   ],
   "source": [
    "print(myclient.list_database_names())"
   ]
  },
  {
   "cell_type": "code",
   "execution_count": 7,
   "metadata": {},
   "outputs": [
    {
     "name": "stdout",
     "output_type": "stream",
     "text": [
      "NO\n"
     ]
    }
   ],
   "source": [
    "dblist = myclient.list_database_names()\n",
    "if \"mydatabase\" in dblist:\n",
    "  print(\"The database exists.\")\n",
    "else :\n",
    "    print(\"NO\")"
   ]
  },
  {
   "cell_type": "code",
   "execution_count": 8,
   "metadata": {},
   "outputs": [],
   "source": [
    "mycol = mydb[\"customers\"]"
   ]
  },
  {
   "cell_type": "code",
   "execution_count": 9,
   "metadata": {},
   "outputs": [
    {
     "name": "stdout",
     "output_type": "stream",
     "text": [
      "NO\n"
     ]
    }
   ],
   "source": [
    "dblist = myclient.list_database_names()\n",
    "if \"mydatabase\" in dblist:\n",
    "  print(\"The database exists.\")\n",
    "else :\n",
    "    print(\"NO\")"
   ]
  },
  {
   "cell_type": "code",
   "execution_count": 10,
   "metadata": {},
   "outputs": [
    {
     "name": "stdout",
     "output_type": "stream",
     "text": [
      "[]\n"
     ]
    }
   ],
   "source": [
    "print(mydb.list_collection_names())"
   ]
  },
  {
   "cell_type": "code",
   "execution_count": 11,
   "metadata": {},
   "outputs": [],
   "source": [
    "mydict = { \"name\": \"John\", \"address\": \"Highway 37\" }\n",
    "\n",
    "x = mycol.insert_one(mydict)"
   ]
  },
  {
   "cell_type": "code",
   "execution_count": 12,
   "metadata": {},
   "outputs": [
    {
     "name": "stdout",
     "output_type": "stream",
     "text": [
      "The database exists.\n"
     ]
    }
   ],
   "source": [
    "dblist = myclient.list_database_names()\n",
    "if \"mydatabase\" in dblist:\n",
    "  print(\"The database exists.\")\n",
    "else :\n",
    "    print(\"NO\")"
   ]
  },
  {
   "cell_type": "code",
   "execution_count": 13,
   "metadata": {},
   "outputs": [
    {
     "name": "stdout",
     "output_type": "stream",
     "text": [
      "['customers']\n"
     ]
    }
   ],
   "source": [
    "print(mydb.list_collection_names())"
   ]
  },
  {
   "cell_type": "code",
   "execution_count": 117,
   "metadata": {},
   "outputs": [
    {
     "data": {
      "text/plain": [
       "<pymongo.results.InsertOneResult at 0x1c5d2c821c8>"
      ]
     },
     "execution_count": 117,
     "metadata": {},
     "output_type": "execute_result"
    }
   ],
   "source": [
    "x"
   ]
  },
  {
   "cell_type": "code",
   "execution_count": 14,
   "metadata": {},
   "outputs": [
    {
     "name": "stdout",
     "output_type": "stream",
     "text": [
      "5df953dd9aa6e15e27f4f179\n"
     ]
    }
   ],
   "source": [
    "my_dict = { \"name\": \"Peter\", \"address\": \"Lowstreet 27\" }\n",
    "\n",
    "x = mycol.insert_one(my_dict)\n",
    "\n",
    "print(x.inserted_id)"
   ]
  },
  {
   "cell_type": "code",
   "execution_count": 15,
   "metadata": {},
   "outputs": [
    {
     "data": {
      "text/plain": [
       "'<pymongo.results.InsertOneResult object at 0x00000223C3722DC8>'"
      ]
     },
     "execution_count": 15,
     "metadata": {},
     "output_type": "execute_result"
    }
   ],
   "source": [
    "str(x)"
   ]
  },
  {
   "cell_type": "code",
   "execution_count": 16,
   "metadata": {},
   "outputs": [],
   "source": [
    "mylist = [\n",
    "  { \"name\": \"Amy\", \"address\": \"Apple st 652\"},\n",
    "  { \"name\": \"Hannah\", \"address\": \"Mountain 21\"},\n",
    "  { \"name\": \"Michael\", \"address\": \"Valley 345\"},\n",
    "  { \"name\": \"Sandy\", \"address\": \"Ocean blvd 2\"},\n",
    "  { \"name\": \"Betty\", \"address\": \"Green Grass 1\"},\n",
    "  { \"name\": \"Richard\", \"address\": \"Sky st 331\"},\n",
    "  { \"name\": \"Susan\", \"address\": \"One way 98\"},\n",
    "  { \"name\": \"Vicky\", \"address\": \"Yellow Garden 2\"},\n",
    "  { \"name\": \"Ben\", \"address\": \"Park Lane 38\"},\n",
    "  { \"name\": \"William\", \"address\": \"Central st 954\"},\n",
    "  { \"name\": \"Chuck\", \"address\": \"Main Road 989\"},\n",
    "  { \"name\": \"Viola\", \"address\": \"Sideway 1633\"}\n",
    "]"
   ]
  },
  {
   "cell_type": "code",
   "execution_count": 17,
   "metadata": {},
   "outputs": [
    {
     "name": "stdout",
     "output_type": "stream",
     "text": [
      "[ObjectId('5df953ea9aa6e15e27f4f17a'), ObjectId('5df953ea9aa6e15e27f4f17b'), ObjectId('5df953ea9aa6e15e27f4f17c'), ObjectId('5df953ea9aa6e15e27f4f17d'), ObjectId('5df953ea9aa6e15e27f4f17e'), ObjectId('5df953ea9aa6e15e27f4f17f'), ObjectId('5df953ea9aa6e15e27f4f180'), ObjectId('5df953ea9aa6e15e27f4f181'), ObjectId('5df953ea9aa6e15e27f4f182'), ObjectId('5df953ea9aa6e15e27f4f183'), ObjectId('5df953ea9aa6e15e27f4f184'), ObjectId('5df953ea9aa6e15e27f4f185')]\n"
     ]
    }
   ],
   "source": [
    "x = mycol.insert_many(mylist)\n",
    "\n",
    "print(x.inserted_ids)"
   ]
  },
  {
   "cell_type": "code",
   "execution_count": 18,
   "metadata": {},
   "outputs": [
    {
     "data": {
      "text/plain": [
       "pymongo.results.InsertManyResult"
      ]
     },
     "execution_count": 18,
     "metadata": {},
     "output_type": "execute_result"
    }
   ],
   "source": [
    "type(x)"
   ]
  },
  {
   "cell_type": "code",
   "execution_count": 123,
   "metadata": {},
   "outputs": [
    {
     "ename": "TypeError",
     "evalue": "'InsertManyResult' object is not subscriptable",
     "output_type": "error",
     "traceback": [
      "\u001b[1;31m---------------------------------------------------------------------------\u001b[0m",
      "\u001b[1;31mTypeError\u001b[0m                                 Traceback (most recent call last)",
      "\u001b[1;32m<ipython-input-123-f9d755ebe49e>\u001b[0m in \u001b[0;36m<module>\u001b[1;34m\u001b[0m\n\u001b[1;32m----> 1\u001b[1;33m \u001b[0mtype\u001b[0m\u001b[1;33m(\u001b[0m\u001b[0mx\u001b[0m\u001b[1;33m[\u001b[0m\u001b[1;36m0\u001b[0m\u001b[1;33m]\u001b[0m\u001b[1;33m)\u001b[0m\u001b[1;33m\u001b[0m\u001b[1;33m\u001b[0m\u001b[0m\n\u001b[0m",
      "\u001b[1;31mTypeError\u001b[0m: 'InsertManyResult' object is not subscriptable"
     ]
    }
   ],
   "source": [
    "type(x[0])"
   ]
  },
  {
   "cell_type": "code",
   "execution_count": 19,
   "metadata": {},
   "outputs": [
    {
     "name": "stdout",
     "output_type": "stream",
     "text": [
      "[1, 2, 3, 4, 5, 6, 7, 8, 9, 10, 11, 12, 13, 14]\n"
     ]
    }
   ],
   "source": [
    "mylist = [\n",
    "  { \"_id\": 1, \"name\": \"John\", \"address\": \"Highway 37\"},\n",
    "  { \"_id\": 2, \"name\": \"Peter\", \"address\": \"Lowstreet 27\"},\n",
    "  { \"_id\": 3, \"name\": \"Amy\", \"address\": \"Apple st 652\"},\n",
    "  { \"_id\": 4, \"name\": \"Hannah\", \"address\": \"Mountain 21\"},\n",
    "  { \"_id\": 5, \"name\": \"Michael\", \"address\": \"Valley 345\"},\n",
    "  { \"_id\": 6, \"name\": \"Sandy\", \"address\": \"Ocean blvd 2\"},\n",
    "  { \"_id\": 7, \"name\": \"Betty\", \"address\": \"Green Grass 1\"},\n",
    "  { \"_id\": 8, \"name\": \"Richard\", \"address\": \"Sky st 331\"},\n",
    "  { \"_id\": 9, \"name\": \"Susan\", \"address\": \"One way 98\"},\n",
    "  { \"_id\": 10, \"name\": \"Vicky\", \"address\": \"Yellow Garden 2\"},\n",
    "  { \"_id\": 11, \"name\": \"Ben\", \"address\": \"Park Lane 38\"},\n",
    "  { \"_id\": 12, \"name\": \"William\", \"address\": \"Central st 954\"},\n",
    "  { \"_id\": 13, \"name\": \"Chuck\", \"address\": \"Main Road 989\"},\n",
    "  { \"_id\": 14, \"name\": \"Viola\", \"address\": \"Sideway 1633\"}\n",
    "]\n",
    "x = mycol.insert_many(mylist)\n",
    "print(x.inserted_ids)"
   ]
  },
  {
   "cell_type": "code",
   "execution_count": 20,
   "metadata": {},
   "outputs": [
    {
     "ename": "DuplicateKeyError",
     "evalue": "E11000 duplicate key error collection: mydatabase.customers index: _id_ dup key: { _id: 14 }",
     "output_type": "error",
     "traceback": [
      "\u001b[1;31m---------------------------------------------------------------------------\u001b[0m",
      "\u001b[1;31mDuplicateKeyError\u001b[0m                         Traceback (most recent call last)",
      "\u001b[1;32m<ipython-input-20-d82f481ee344>\u001b[0m in \u001b[0;36m<module>\u001b[1;34m\u001b[0m\n\u001b[1;32m----> 1\u001b[1;33m \u001b[0mx\u001b[0m \u001b[1;33m=\u001b[0m \u001b[0mmycol\u001b[0m\u001b[1;33m.\u001b[0m\u001b[0minsert_one\u001b[0m\u001b[1;33m(\u001b[0m\u001b[1;33m{\u001b[0m \u001b[1;34m\"_id\"\u001b[0m\u001b[1;33m:\u001b[0m \u001b[1;36m14\u001b[0m\u001b[1;33m,\u001b[0m \u001b[1;34m\"name\"\u001b[0m\u001b[1;33m:\u001b[0m \u001b[1;34m\"Manuel\"\u001b[0m\u001b[1;33m,\u001b[0m \u001b[1;34m\"address\"\u001b[0m\u001b[1;33m:\u001b[0m \u001b[1;34m\"Barcelona\"\u001b[0m\u001b[1;33m}\u001b[0m\u001b[1;33m)\u001b[0m\u001b[1;33m\u001b[0m\u001b[1;33m\u001b[0m\u001b[0m\n\u001b[0m",
      "\u001b[1;32m~\\Anaconda3\\lib\\site-packages\\pymongo\\collection.py\u001b[0m in \u001b[0;36minsert_one\u001b[1;34m(self, document, bypass_document_validation, session)\u001b[0m\n\u001b[0;32m    696\u001b[0m                          \u001b[0mwrite_concern\u001b[0m\u001b[1;33m=\u001b[0m\u001b[0mwrite_concern\u001b[0m\u001b[1;33m,\u001b[0m\u001b[1;33m\u001b[0m\u001b[1;33m\u001b[0m\u001b[0m\n\u001b[0;32m    697\u001b[0m                          \u001b[0mbypass_doc_val\u001b[0m\u001b[1;33m=\u001b[0m\u001b[0mbypass_document_validation\u001b[0m\u001b[1;33m,\u001b[0m\u001b[1;33m\u001b[0m\u001b[1;33m\u001b[0m\u001b[0m\n\u001b[1;32m--> 698\u001b[1;33m                          session=session),\n\u001b[0m\u001b[0;32m    699\u001b[0m             write_concern.acknowledged)\n\u001b[0;32m    700\u001b[0m \u001b[1;33m\u001b[0m\u001b[0m\n",
      "\u001b[1;32m~\\Anaconda3\\lib\\site-packages\\pymongo\\collection.py\u001b[0m in \u001b[0;36m_insert\u001b[1;34m(self, docs, ordered, check_keys, manipulate, write_concern, op_id, bypass_doc_val, session)\u001b[0m\n\u001b[0;32m    610\u001b[0m             return self._insert_one(\n\u001b[0;32m    611\u001b[0m                 \u001b[0mdocs\u001b[0m\u001b[1;33m,\u001b[0m \u001b[0mordered\u001b[0m\u001b[1;33m,\u001b[0m \u001b[0mcheck_keys\u001b[0m\u001b[1;33m,\u001b[0m \u001b[0mmanipulate\u001b[0m\u001b[1;33m,\u001b[0m \u001b[0mwrite_concern\u001b[0m\u001b[1;33m,\u001b[0m \u001b[0mop_id\u001b[0m\u001b[1;33m,\u001b[0m\u001b[1;33m\u001b[0m\u001b[1;33m\u001b[0m\u001b[0m\n\u001b[1;32m--> 612\u001b[1;33m                 bypass_doc_val, session)\n\u001b[0m\u001b[0;32m    613\u001b[0m \u001b[1;33m\u001b[0m\u001b[0m\n\u001b[0;32m    614\u001b[0m         \u001b[0mids\u001b[0m \u001b[1;33m=\u001b[0m \u001b[1;33m[\u001b[0m\u001b[1;33m]\u001b[0m\u001b[1;33m\u001b[0m\u001b[1;33m\u001b[0m\u001b[0m\n",
      "\u001b[1;32m~\\Anaconda3\\lib\\site-packages\\pymongo\\collection.py\u001b[0m in \u001b[0;36m_insert_one\u001b[1;34m(self, doc, ordered, check_keys, manipulate, write_concern, op_id, bypass_doc_val, session)\u001b[0m\n\u001b[0;32m    598\u001b[0m \u001b[1;33m\u001b[0m\u001b[0m\n\u001b[0;32m    599\u001b[0m         self.__database.client._retryable_write(\n\u001b[1;32m--> 600\u001b[1;33m             acknowledged, _insert_command, session)\n\u001b[0m\u001b[0;32m    601\u001b[0m \u001b[1;33m\u001b[0m\u001b[0m\n\u001b[0;32m    602\u001b[0m         \u001b[1;32mif\u001b[0m \u001b[1;32mnot\u001b[0m \u001b[0misinstance\u001b[0m\u001b[1;33m(\u001b[0m\u001b[0mdoc\u001b[0m\u001b[1;33m,\u001b[0m \u001b[0mRawBSONDocument\u001b[0m\u001b[1;33m)\u001b[0m\u001b[1;33m:\u001b[0m\u001b[1;33m\u001b[0m\u001b[1;33m\u001b[0m\u001b[0m\n",
      "\u001b[1;32m~\\Anaconda3\\lib\\site-packages\\pymongo\\mongo_client.py\u001b[0m in \u001b[0;36m_retryable_write\u001b[1;34m(self, retryable, func, session)\u001b[0m\n\u001b[0;32m   1489\u001b[0m         \u001b[1;34m\"\"\"Internal retryable write helper.\"\"\"\u001b[0m\u001b[1;33m\u001b[0m\u001b[1;33m\u001b[0m\u001b[0m\n\u001b[0;32m   1490\u001b[0m         \u001b[1;32mwith\u001b[0m \u001b[0mself\u001b[0m\u001b[1;33m.\u001b[0m\u001b[0m_tmp_session\u001b[0m\u001b[1;33m(\u001b[0m\u001b[0msession\u001b[0m\u001b[1;33m)\u001b[0m \u001b[1;32mas\u001b[0m \u001b[0ms\u001b[0m\u001b[1;33m:\u001b[0m\u001b[1;33m\u001b[0m\u001b[1;33m\u001b[0m\u001b[0m\n\u001b[1;32m-> 1491\u001b[1;33m             \u001b[1;32mreturn\u001b[0m \u001b[0mself\u001b[0m\u001b[1;33m.\u001b[0m\u001b[0m_retry_with_session\u001b[0m\u001b[1;33m(\u001b[0m\u001b[0mretryable\u001b[0m\u001b[1;33m,\u001b[0m \u001b[0mfunc\u001b[0m\u001b[1;33m,\u001b[0m \u001b[0ms\u001b[0m\u001b[1;33m,\u001b[0m \u001b[1;32mNone\u001b[0m\u001b[1;33m)\u001b[0m\u001b[1;33m\u001b[0m\u001b[1;33m\u001b[0m\u001b[0m\n\u001b[0m\u001b[0;32m   1492\u001b[0m \u001b[1;33m\u001b[0m\u001b[0m\n\u001b[0;32m   1493\u001b[0m     \u001b[1;32mdef\u001b[0m \u001b[0m_reset_server\u001b[0m\u001b[1;33m(\u001b[0m\u001b[0mself\u001b[0m\u001b[1;33m,\u001b[0m \u001b[0maddress\u001b[0m\u001b[1;33m)\u001b[0m\u001b[1;33m:\u001b[0m\u001b[1;33m\u001b[0m\u001b[1;33m\u001b[0m\u001b[0m\n",
      "\u001b[1;32m~\\Anaconda3\\lib\\site-packages\\pymongo\\mongo_client.py\u001b[0m in \u001b[0;36m_retry_with_session\u001b[1;34m(self, retryable, func, session, bulk)\u001b[0m\n\u001b[0;32m   1382\u001b[0m                             \u001b[1;32mraise\u001b[0m \u001b[0mlast_error\u001b[0m\u001b[1;33m\u001b[0m\u001b[1;33m\u001b[0m\u001b[0m\n\u001b[0;32m   1383\u001b[0m                         \u001b[0mretryable\u001b[0m \u001b[1;33m=\u001b[0m \u001b[1;32mFalse\u001b[0m\u001b[1;33m\u001b[0m\u001b[1;33m\u001b[0m\u001b[0m\n\u001b[1;32m-> 1384\u001b[1;33m                     \u001b[1;32mreturn\u001b[0m \u001b[0mfunc\u001b[0m\u001b[1;33m(\u001b[0m\u001b[0msession\u001b[0m\u001b[1;33m,\u001b[0m \u001b[0msock_info\u001b[0m\u001b[1;33m,\u001b[0m \u001b[0mretryable\u001b[0m\u001b[1;33m)\u001b[0m\u001b[1;33m\u001b[0m\u001b[1;33m\u001b[0m\u001b[0m\n\u001b[0m\u001b[0;32m   1385\u001b[0m             \u001b[1;32mexcept\u001b[0m \u001b[0mServerSelectionTimeoutError\u001b[0m\u001b[1;33m:\u001b[0m\u001b[1;33m\u001b[0m\u001b[1;33m\u001b[0m\u001b[0m\n\u001b[0;32m   1386\u001b[0m                 \u001b[1;32mif\u001b[0m \u001b[0mis_retrying\u001b[0m\u001b[1;33m(\u001b[0m\u001b[1;33m)\u001b[0m\u001b[1;33m:\u001b[0m\u001b[1;33m\u001b[0m\u001b[1;33m\u001b[0m\u001b[0m\n",
      "\u001b[1;32m~\\Anaconda3\\lib\\site-packages\\pymongo\\collection.py\u001b[0m in \u001b[0;36m_insert_command\u001b[1;34m(session, sock_info, retryable_write)\u001b[0m\n\u001b[0;32m    595\u001b[0m                 retryable_write=retryable_write)\n\u001b[0;32m    596\u001b[0m \u001b[1;33m\u001b[0m\u001b[0m\n\u001b[1;32m--> 597\u001b[1;33m             \u001b[0m_check_write_command_response\u001b[0m\u001b[1;33m(\u001b[0m\u001b[0mresult\u001b[0m\u001b[1;33m)\u001b[0m\u001b[1;33m\u001b[0m\u001b[1;33m\u001b[0m\u001b[0m\n\u001b[0m\u001b[0;32m    598\u001b[0m \u001b[1;33m\u001b[0m\u001b[0m\n\u001b[0;32m    599\u001b[0m         self.__database.client._retryable_write(\n",
      "\u001b[1;32m~\\Anaconda3\\lib\\site-packages\\pymongo\\helpers.py\u001b[0m in \u001b[0;36m_check_write_command_response\u001b[1;34m(result)\u001b[0m\n\u001b[0;32m    219\u001b[0m     \u001b[0mwrite_errors\u001b[0m \u001b[1;33m=\u001b[0m \u001b[0mresult\u001b[0m\u001b[1;33m.\u001b[0m\u001b[0mget\u001b[0m\u001b[1;33m(\u001b[0m\u001b[1;34m\"writeErrors\"\u001b[0m\u001b[1;33m)\u001b[0m\u001b[1;33m\u001b[0m\u001b[1;33m\u001b[0m\u001b[0m\n\u001b[0;32m    220\u001b[0m     \u001b[1;32mif\u001b[0m \u001b[0mwrite_errors\u001b[0m\u001b[1;33m:\u001b[0m\u001b[1;33m\u001b[0m\u001b[1;33m\u001b[0m\u001b[0m\n\u001b[1;32m--> 221\u001b[1;33m         \u001b[0m_raise_last_write_error\u001b[0m\u001b[1;33m(\u001b[0m\u001b[0mwrite_errors\u001b[0m\u001b[1;33m)\u001b[0m\u001b[1;33m\u001b[0m\u001b[1;33m\u001b[0m\u001b[0m\n\u001b[0m\u001b[0;32m    222\u001b[0m \u001b[1;33m\u001b[0m\u001b[0m\n\u001b[0;32m    223\u001b[0m     \u001b[0merror\u001b[0m \u001b[1;33m=\u001b[0m \u001b[0mresult\u001b[0m\u001b[1;33m.\u001b[0m\u001b[0mget\u001b[0m\u001b[1;33m(\u001b[0m\u001b[1;34m\"writeConcernError\"\u001b[0m\u001b[1;33m)\u001b[0m\u001b[1;33m\u001b[0m\u001b[1;33m\u001b[0m\u001b[0m\n",
      "\u001b[1;32m~\\Anaconda3\\lib\\site-packages\\pymongo\\helpers.py\u001b[0m in \u001b[0;36m_raise_last_write_error\u001b[1;34m(write_errors)\u001b[0m\n\u001b[0;32m    200\u001b[0m     \u001b[0merror\u001b[0m \u001b[1;33m=\u001b[0m \u001b[0mwrite_errors\u001b[0m\u001b[1;33m[\u001b[0m\u001b[1;33m-\u001b[0m\u001b[1;36m1\u001b[0m\u001b[1;33m]\u001b[0m\u001b[1;33m\u001b[0m\u001b[1;33m\u001b[0m\u001b[0m\n\u001b[0;32m    201\u001b[0m     \u001b[1;32mif\u001b[0m \u001b[0merror\u001b[0m\u001b[1;33m.\u001b[0m\u001b[0mget\u001b[0m\u001b[1;33m(\u001b[0m\u001b[1;34m\"code\"\u001b[0m\u001b[1;33m)\u001b[0m \u001b[1;33m==\u001b[0m \u001b[1;36m11000\u001b[0m\u001b[1;33m:\u001b[0m\u001b[1;33m\u001b[0m\u001b[1;33m\u001b[0m\u001b[0m\n\u001b[1;32m--> 202\u001b[1;33m         \u001b[1;32mraise\u001b[0m \u001b[0mDuplicateKeyError\u001b[0m\u001b[1;33m(\u001b[0m\u001b[0merror\u001b[0m\u001b[1;33m.\u001b[0m\u001b[0mget\u001b[0m\u001b[1;33m(\u001b[0m\u001b[1;34m\"errmsg\"\u001b[0m\u001b[1;33m)\u001b[0m\u001b[1;33m,\u001b[0m \u001b[1;36m11000\u001b[0m\u001b[1;33m,\u001b[0m \u001b[0merror\u001b[0m\u001b[1;33m)\u001b[0m\u001b[1;33m\u001b[0m\u001b[1;33m\u001b[0m\u001b[0m\n\u001b[0m\u001b[0;32m    203\u001b[0m     \u001b[1;32mraise\u001b[0m \u001b[0mWriteError\u001b[0m\u001b[1;33m(\u001b[0m\u001b[0merror\u001b[0m\u001b[1;33m.\u001b[0m\u001b[0mget\u001b[0m\u001b[1;33m(\u001b[0m\u001b[1;34m\"errmsg\"\u001b[0m\u001b[1;33m)\u001b[0m\u001b[1;33m,\u001b[0m \u001b[0merror\u001b[0m\u001b[1;33m.\u001b[0m\u001b[0mget\u001b[0m\u001b[1;33m(\u001b[0m\u001b[1;34m\"code\"\u001b[0m\u001b[1;33m)\u001b[0m\u001b[1;33m,\u001b[0m \u001b[0merror\u001b[0m\u001b[1;33m)\u001b[0m\u001b[1;33m\u001b[0m\u001b[1;33m\u001b[0m\u001b[0m\n\u001b[0;32m    204\u001b[0m \u001b[1;33m\u001b[0m\u001b[0m\n",
      "\u001b[1;31mDuplicateKeyError\u001b[0m: E11000 duplicate key error collection: mydatabase.customers index: _id_ dup key: { _id: 14 }"
     ]
    }
   ],
   "source": [
    "x = mycol.insert_one({ \"_id\": 14, \"name\": \"Manuel\", \"address\": \"Barcelona\"})"
   ]
  },
  {
   "cell_type": "code",
   "execution_count": 21,
   "metadata": {},
   "outputs": [
    {
     "name": "stdout",
     "output_type": "stream",
     "text": [
      "{'_id': ObjectId('5df953ba9aa6e15e27f4f178'), 'name': 'John', 'address': 'Highway 37'}\n"
     ]
    }
   ],
   "source": [
    "x = mycol.find_one()\n",
    "print(x)"
   ]
  },
  {
   "cell_type": "code",
   "execution_count": 22,
   "metadata": {},
   "outputs": [
    {
     "name": "stdout",
     "output_type": "stream",
     "text": [
      "{'_id': ObjectId('5df953ba9aa6e15e27f4f178'), 'name': 'John', 'address': 'Highway 37'}\n"
     ]
    }
   ],
   "source": [
    "x = mycol.find_one()\n",
    "print(x)"
   ]
  },
  {
   "cell_type": "code",
   "execution_count": 23,
   "metadata": {},
   "outputs": [
    {
     "name": "stdout",
     "output_type": "stream",
     "text": [
      "{'_id': 1, 'name': 'John', 'address': 'Highway 37'}\n",
      "{'_id': 2, 'name': 'Peter', 'address': 'Lowstreet 27'}\n",
      "{'_id': 3, 'name': 'Amy', 'address': 'Apple st 652'}\n",
      "{'_id': 4, 'name': 'Hannah', 'address': 'Mountain 21'}\n",
      "{'_id': 5, 'name': 'Michael', 'address': 'Valley 345'}\n",
      "{'_id': 6, 'name': 'Sandy', 'address': 'Ocean blvd 2'}\n",
      "{'_id': 7, 'name': 'Betty', 'address': 'Green Grass 1'}\n",
      "{'_id': 8, 'name': 'Richard', 'address': 'Sky st 331'}\n",
      "{'_id': 9, 'name': 'Susan', 'address': 'One way 98'}\n",
      "{'_id': 10, 'name': 'Vicky', 'address': 'Yellow Garden 2'}\n",
      "{'_id': 11, 'name': 'Ben', 'address': 'Park Lane 38'}\n",
      "{'_id': 12, 'name': 'William', 'address': 'Central st 954'}\n",
      "{'_id': 13, 'name': 'Chuck', 'address': 'Main Road 989'}\n",
      "{'_id': 14, 'name': 'Viola', 'address': 'Sideway 1633'}\n",
      "{'_id': ObjectId('5df953ba9aa6e15e27f4f178'), 'name': 'John', 'address': 'Highway 37'}\n",
      "{'_id': ObjectId('5df953dd9aa6e15e27f4f179'), 'name': 'Peter', 'address': 'Lowstreet 27'}\n",
      "{'_id': ObjectId('5df953ea9aa6e15e27f4f17a'), 'name': 'Amy', 'address': 'Apple st 652'}\n",
      "{'_id': ObjectId('5df953ea9aa6e15e27f4f17b'), 'name': 'Hannah', 'address': 'Mountain 21'}\n",
      "{'_id': ObjectId('5df953ea9aa6e15e27f4f17c'), 'name': 'Michael', 'address': 'Valley 345'}\n",
      "{'_id': ObjectId('5df953ea9aa6e15e27f4f17d'), 'name': 'Sandy', 'address': 'Ocean blvd 2'}\n",
      "{'_id': ObjectId('5df953ea9aa6e15e27f4f17e'), 'name': 'Betty', 'address': 'Green Grass 1'}\n",
      "{'_id': ObjectId('5df953ea9aa6e15e27f4f17f'), 'name': 'Richard', 'address': 'Sky st 331'}\n",
      "{'_id': ObjectId('5df953ea9aa6e15e27f4f180'), 'name': 'Susan', 'address': 'One way 98'}\n",
      "{'_id': ObjectId('5df953ea9aa6e15e27f4f181'), 'name': 'Vicky', 'address': 'Yellow Garden 2'}\n",
      "{'_id': ObjectId('5df953ea9aa6e15e27f4f182'), 'name': 'Ben', 'address': 'Park Lane 38'}\n",
      "{'_id': ObjectId('5df953ea9aa6e15e27f4f183'), 'name': 'William', 'address': 'Central st 954'}\n",
      "{'_id': ObjectId('5df953ea9aa6e15e27f4f184'), 'name': 'Chuck', 'address': 'Main Road 989'}\n",
      "{'_id': ObjectId('5df953ea9aa6e15e27f4f185'), 'name': 'Viola', 'address': 'Sideway 1633'}\n"
     ]
    }
   ],
   "source": [
    "x = mycol.find().sort('_id')\n",
    "for i in x:\n",
    "    print(i)"
   ]
  },
  {
   "cell_type": "code",
   "execution_count": 24,
   "metadata": {},
   "outputs": [
    {
     "name": "stdout",
     "output_type": "stream",
     "text": [
      "{'_id': ObjectId('5df953ea9aa6e15e27f4f17b'), 'name': 'Hannah', 'address': 'Mountain 21'}\n"
     ]
    }
   ],
   "source": [
    "x = mycol.find({'name' :'Hannah'})\n",
    "print(x[0])"
   ]
  },
  {
   "cell_type": "code",
   "execution_count": 25,
   "metadata": {},
   "outputs": [
    {
     "name": "stdout",
     "output_type": "stream",
     "text": [
      "{'name': 'John', 'address': 'Highway 37'}\n",
      "{'name': 'Peter', 'address': 'Lowstreet 27'}\n",
      "{'name': 'Amy', 'address': 'Apple st 652'}\n",
      "{'name': 'Hannah', 'address': 'Mountain 21'}\n",
      "{'name': 'Michael', 'address': 'Valley 345'}\n",
      "{'name': 'Sandy', 'address': 'Ocean blvd 2'}\n",
      "{'name': 'Betty', 'address': 'Green Grass 1'}\n",
      "{'name': 'Richard', 'address': 'Sky st 331'}\n",
      "{'name': 'Susan', 'address': 'One way 98'}\n",
      "{'name': 'Vicky', 'address': 'Yellow Garden 2'}\n",
      "{'name': 'Ben', 'address': 'Park Lane 38'}\n",
      "{'name': 'William', 'address': 'Central st 954'}\n",
      "{'name': 'Chuck', 'address': 'Main Road 989'}\n",
      "{'name': 'Viola', 'address': 'Sideway 1633'}\n",
      "{'name': 'John', 'address': 'Highway 37'}\n",
      "{'name': 'Peter', 'address': 'Lowstreet 27'}\n",
      "{'name': 'Amy', 'address': 'Apple st 652'}\n",
      "{'name': 'Hannah', 'address': 'Mountain 21'}\n",
      "{'name': 'Michael', 'address': 'Valley 345'}\n",
      "{'name': 'Sandy', 'address': 'Ocean blvd 2'}\n",
      "{'name': 'Betty', 'address': 'Green Grass 1'}\n",
      "{'name': 'Richard', 'address': 'Sky st 331'}\n",
      "{'name': 'Susan', 'address': 'One way 98'}\n",
      "{'name': 'Vicky', 'address': 'Yellow Garden 2'}\n",
      "{'name': 'Ben', 'address': 'Park Lane 38'}\n",
      "{'name': 'William', 'address': 'Central st 954'}\n",
      "{'name': 'Chuck', 'address': 'Main Road 989'}\n",
      "{'name': 'Viola', 'address': 'Sideway 1633'}\n"
     ]
    }
   ],
   "source": [
    "for x in mycol.find({},{ \"_id\": 0, \"name\": 1, \"address\": 1 }):\n",
    "  print(x)"
   ]
  },
  {
   "cell_type": "code",
   "execution_count": 26,
   "metadata": {},
   "outputs": [
    {
     "name": "stdout",
     "output_type": "stream",
     "text": [
      "{'_id': ObjectId('5df953ba9aa6e15e27f4f178'), 'name': 'John'}\n",
      "{'_id': ObjectId('5df953dd9aa6e15e27f4f179'), 'name': 'Peter'}\n",
      "{'_id': ObjectId('5df953ea9aa6e15e27f4f17a'), 'name': 'Amy'}\n",
      "{'_id': ObjectId('5df953ea9aa6e15e27f4f17b'), 'name': 'Hannah'}\n",
      "{'_id': ObjectId('5df953ea9aa6e15e27f4f17c'), 'name': 'Michael'}\n",
      "{'_id': ObjectId('5df953ea9aa6e15e27f4f17d'), 'name': 'Sandy'}\n",
      "{'_id': ObjectId('5df953ea9aa6e15e27f4f17e'), 'name': 'Betty'}\n",
      "{'_id': ObjectId('5df953ea9aa6e15e27f4f17f'), 'name': 'Richard'}\n",
      "{'_id': ObjectId('5df953ea9aa6e15e27f4f180'), 'name': 'Susan'}\n",
      "{'_id': ObjectId('5df953ea9aa6e15e27f4f181'), 'name': 'Vicky'}\n",
      "{'_id': ObjectId('5df953ea9aa6e15e27f4f182'), 'name': 'Ben'}\n",
      "{'_id': ObjectId('5df953ea9aa6e15e27f4f183'), 'name': 'William'}\n",
      "{'_id': ObjectId('5df953ea9aa6e15e27f4f184'), 'name': 'Chuck'}\n",
      "{'_id': ObjectId('5df953ea9aa6e15e27f4f185'), 'name': 'Viola'}\n",
      "{'_id': 1, 'name': 'John'}\n",
      "{'_id': 2, 'name': 'Peter'}\n",
      "{'_id': 3, 'name': 'Amy'}\n",
      "{'_id': 4, 'name': 'Hannah'}\n",
      "{'_id': 5, 'name': 'Michael'}\n",
      "{'_id': 6, 'name': 'Sandy'}\n",
      "{'_id': 7, 'name': 'Betty'}\n",
      "{'_id': 8, 'name': 'Richard'}\n",
      "{'_id': 9, 'name': 'Susan'}\n",
      "{'_id': 10, 'name': 'Vicky'}\n",
      "{'_id': 11, 'name': 'Ben'}\n",
      "{'_id': 12, 'name': 'William'}\n",
      "{'_id': 13, 'name': 'Chuck'}\n",
      "{'_id': 14, 'name': 'Viola'}\n"
     ]
    }
   ],
   "source": [
    "for x in mycol.find({},{  \"address\": 0 }):\n",
    "  print(x)"
   ]
  },
  {
   "cell_type": "code",
   "execution_count": 27,
   "metadata": {},
   "outputs": [
    {
     "name": "stdout",
     "output_type": "stream",
     "text": [
      "{'_id': ObjectId('5df953ea9aa6e15e27f4f17c'), 'name': 'Michael', 'address': 'Valley 345'}\n",
      "{'_id': ObjectId('5df953ea9aa6e15e27f4f17f'), 'name': 'Richard', 'address': 'Sky st 331'}\n",
      "{'_id': ObjectId('5df953ea9aa6e15e27f4f181'), 'name': 'Vicky', 'address': 'Yellow Garden 2'}\n",
      "{'_id': ObjectId('5df953ea9aa6e15e27f4f185'), 'name': 'Viola', 'address': 'Sideway 1633'}\n",
      "{'_id': 5, 'name': 'Michael', 'address': 'Valley 345'}\n",
      "{'_id': 8, 'name': 'Richard', 'address': 'Sky st 331'}\n",
      "{'_id': 10, 'name': 'Vicky', 'address': 'Yellow Garden 2'}\n",
      "{'_id': 14, 'name': 'Viola', 'address': 'Sideway 1633'}\n"
     ]
    }
   ],
   "source": [
    "myquery = { \"address\": { \"$gt\": \"S\" } }\n",
    "mydoc = mycol.find(myquery)\n",
    "for x in mydoc:\n",
    "  print(x)"
   ]
  },
  {
   "cell_type": "code",
   "execution_count": 28,
   "metadata": {},
   "outputs": [
    {
     "name": "stdout",
     "output_type": "stream",
     "text": [
      "{'_id': ObjectId('5df953ea9aa6e15e27f4f17c'), 'name': 'Michael', 'address': 'Valley 345'}\n",
      "{'_id': ObjectId('5df953ea9aa6e15e27f4f17f'), 'name': 'Richard', 'address': 'Sky st 331'}\n",
      "{'_id': ObjectId('5df953ea9aa6e15e27f4f181'), 'name': 'Vicky', 'address': 'Yellow Garden 2'}\n",
      "{'_id': ObjectId('5df953ea9aa6e15e27f4f185'), 'name': 'Viola', 'address': 'Sideway 1633'}\n",
      "{'_id': 5, 'name': 'Michael', 'address': 'Valley 345'}\n",
      "{'_id': 8, 'name': 'Richard', 'address': 'Sky st 331'}\n",
      "{'_id': 10, 'name': 'Vicky', 'address': 'Yellow Garden 2'}\n",
      "{'_id': 14, 'name': 'Viola', 'address': 'Sideway 1633'}\n"
     ]
    }
   ],
   "source": [
    "myquery = { \"address\": { \"$gte\": \"S\" } }\n",
    "mydoc = mycol.find(myquery)\n",
    "for x in mydoc:\n",
    "  print(x)"
   ]
  },
  {
   "cell_type": "code",
   "execution_count": 134,
   "metadata": {},
   "outputs": [],
   "source": [
    "myquery = { \"address\": { \"$exists\": None } }\n",
    "mydoc = mycol.find(myquery)\n",
    "for x in mydoc:\n",
    "  print(x)"
   ]
  },
  {
   "cell_type": "code",
   "execution_count": 29,
   "metadata": {},
   "outputs": [
    {
     "name": "stdout",
     "output_type": "stream",
     "text": [
      "{'_id': ObjectId('5df953ea9aa6e15e27f4f17f'), 'name': 'Richard', 'address': 'Sky st 331'}\n",
      "{'_id': ObjectId('5df953ea9aa6e15e27f4f185'), 'name': 'Viola', 'address': 'Sideway 1633'}\n",
      "{'_id': 8, 'name': 'Richard', 'address': 'Sky st 331'}\n",
      "{'_id': 14, 'name': 'Viola', 'address': 'Sideway 1633'}\n"
     ]
    }
   ],
   "source": [
    "myquery = { \"address\": { \"$regex\": \"^S\" } }\n",
    "mydoc = mycol.find(myquery)\n",
    "for x in mydoc:\n",
    "  print(x)"
   ]
  },
  {
   "cell_type": "code",
   "execution_count": 136,
   "metadata": {},
   "outputs": [
    {
     "name": "stdout",
     "output_type": "stream",
     "text": [
      "{'_id': ObjectId('5df833b2c1cc65983bff2ea4'), 'name': 'Amy', 'address': 'Apple st 652'}\n",
      "{'_id': 3, 'name': 'Amy', 'address': 'Apple st 652'}\n",
      "{'_id': ObjectId('5df85cb1c1cc65983bff2eb3'), 'name': 'Amy', 'address': 'Apple st 652'}\n",
      "{'_id': ObjectId('5df8664249cb787b71bff419'), 'name': 'Amy', 'address': 'Apple st 652'}\n",
      "{'_id': ObjectId('5df898d749cb787b71bff428'), 'name': 'Amy', 'address': 'Apple st 652'}\n",
      "{'_id': ObjectId('5df833b2c1cc65983bff2eac'), 'name': 'Ben', 'address': 'Park Lane 38'}\n",
      "{'_id': ObjectId('5df85cb1c1cc65983bff2ebb'), 'name': 'Ben', 'address': 'Park Lane 38'}\n",
      "{'_id': ObjectId('5df8664249cb787b71bff421'), 'name': 'Ben', 'address': 'Park Lane 38'}\n",
      "{'_id': ObjectId('5df898d749cb787b71bff430'), 'name': 'Ben', 'address': 'Park Lane 38'}\n",
      "{'_id': ObjectId('5df833b2c1cc65983bff2ea8'), 'name': 'Betty', 'address': 'Green Grass 1'}\n",
      "{'_id': 7, 'name': 'Betty', 'address': 'Green Grass 1'}\n",
      "{'_id': ObjectId('5df85cb1c1cc65983bff2eb7'), 'name': 'Betty', 'address': 'Green Grass 1'}\n",
      "{'_id': ObjectId('5df8664249cb787b71bff41d'), 'name': 'Betty', 'address': 'Green Grass 1'}\n",
      "{'_id': ObjectId('5df898d749cb787b71bff42c'), 'name': 'Betty', 'address': 'Green Grass 1'}\n",
      "{'_id': ObjectId('5df833b2c1cc65983bff2eae'), 'name': 'Chuck', 'address': 'Main Road 989'}\n",
      "{'_id': ObjectId('5df85cb1c1cc65983bff2ebd'), 'name': 'Chuck', 'address': 'Main Road 989'}\n",
      "{'_id': ObjectId('5df8664249cb787b71bff423'), 'name': 'Chuck', 'address': 'Main Road 989'}\n",
      "{'_id': ObjectId('5df898d749cb787b71bff432'), 'name': 'Chuck', 'address': 'Main Road 989'}\n",
      "{'_id': ObjectId('5df898d749cb787b71bff429'), 'name': 'Hannah', 'address': 'Mountain 21'}\n",
      "{'_id': ObjectId('5df832cfc1cc65983bff2ea2'), 'name': 'John', 'address': 'Highway 37'}\n",
      "{'_id': 1, 'name': 'John', 'address': 'Highway 37'}\n",
      "{'_id': ObjectId('5df85ca1c1cc65983bff2eb1'), 'name': 'John', 'address': 'Highway 37'}\n",
      "{'_id': ObjectId('5df8664249cb787b71bff417'), 'name': 'John', 'address': 'Highway 37'}\n",
      "{'_id': ObjectId('5df898d749cb787b71bff426'), 'name': 'John', 'address': 'Highway 37'}\n",
      "{'_id': 14, 'name': 'Manuel', 'address': 'Barcelona'}\n",
      "{'_id': ObjectId('5df833b2c1cc65983bff2ea6'), 'name': 'Michael', 'address': 'Canyon 123'}\n",
      "{'_id': 5, 'name': 'Michael', 'address': 'Canyon 123'}\n",
      "{'_id': ObjectId('5df85cb1c1cc65983bff2eb5'), 'name': 'Michael', 'address': 'Valley 345'}\n",
      "{'_id': ObjectId('5df8664249cb787b71bff41b'), 'name': 'Michael', 'address': 'Valley 345'}\n",
      "{'_id': ObjectId('5df898d749cb787b71bff42a'), 'name': 'Michael', 'address': 'Valley 345'}\n",
      "{'_id': ObjectId('5df83367c1cc65983bff2ea3'), 'name': 'Peter', 'address': 'Lowstreet 27'}\n",
      "{'_id': 2, 'name': 'Peter', 'address': 'Lowstreet 27'}\n",
      "{'_id': ObjectId('5df85ca9c1cc65983bff2eb2'), 'name': 'Peter', 'address': 'Lowstreet 27'}\n",
      "{'_id': ObjectId('5df8664249cb787b71bff418'), 'name': 'Peter', 'address': 'Lowstreet 27'}\n",
      "{'_id': ObjectId('5df898d749cb787b71bff427'), 'name': 'Peter', 'address': 'Lowstreet 27'}\n",
      "{'_id': ObjectId('5df833b2c1cc65983bff2ea9'), 'name': 'Richard', 'address': 'Sky st 331'}\n",
      "{'_id': 8, 'name': 'Richard', 'address': 'Sky st 331'}\n",
      "{'_id': ObjectId('5df85cb1c1cc65983bff2eb8'), 'name': 'Richard', 'address': 'Sky st 331'}\n",
      "{'_id': ObjectId('5df8664249cb787b71bff41e'), 'name': 'Richard', 'address': 'Sky st 331'}\n",
      "{'_id': ObjectId('5df898d749cb787b71bff42d'), 'name': 'Richard', 'address': 'Sky st 331'}\n",
      "{'_id': ObjectId('5df833b2c1cc65983bff2ea7'), 'name': 'Sandy', 'address': 'Ocean blvd 2'}\n",
      "{'_id': 6, 'name': 'Sandy', 'address': 'Ocean blvd 2'}\n",
      "{'_id': ObjectId('5df85cb1c1cc65983bff2eb6'), 'name': 'Sandy', 'address': 'Ocean blvd 2'}\n",
      "{'_id': ObjectId('5df8664249cb787b71bff41c'), 'name': 'Sandy', 'address': 'Ocean blvd 2'}\n",
      "{'_id': ObjectId('5df898d749cb787b71bff42b'), 'name': 'Sandy', 'address': 'Ocean blvd 2'}\n",
      "{'_id': ObjectId('5df833b2c1cc65983bff2eaa'), 'name': 'Susan', 'address': 'One way 98'}\n",
      "{'_id': 9, 'name': 'Susan', 'address': 'One way 98'}\n",
      "{'_id': ObjectId('5df85cb1c1cc65983bff2eb9'), 'name': 'Susan', 'address': 'One way 98'}\n",
      "{'_id': ObjectId('5df8664249cb787b71bff41f'), 'name': 'Susan', 'address': 'One way 98'}\n",
      "{'_id': ObjectId('5df898d749cb787b71bff42e'), 'name': 'Susan', 'address': 'One way 98'}\n",
      "{'_id': ObjectId('5df833b2c1cc65983bff2eab'), 'name': 'Vicky', 'address': 'Yellow Garden 2'}\n",
      "{'_id': ObjectId('5df85cb1c1cc65983bff2eba'), 'name': 'Vicky', 'address': 'Yellow Garden 2'}\n",
      "{'_id': ObjectId('5df8664249cb787b71bff420'), 'name': 'Vicky', 'address': 'Yellow Garden 2'}\n",
      "{'_id': ObjectId('5df898d749cb787b71bff42f'), 'name': 'Vicky', 'address': 'Yellow Garden 2'}\n",
      "{'_id': ObjectId('5df833b2c1cc65983bff2eaf'), 'name': 'Viola', 'address': 'Sideway 1633'}\n",
      "{'_id': ObjectId('5df85cb1c1cc65983bff2ebe'), 'name': 'Viola', 'address': 'Sideway 1633'}\n",
      "{'_id': ObjectId('5df8664249cb787b71bff424'), 'name': 'Viola', 'address': 'Sideway 1633'}\n",
      "{'_id': ObjectId('5df898d749cb787b71bff433'), 'name': 'Viola', 'address': 'Sideway 1633'}\n",
      "{'_id': ObjectId('5df833b2c1cc65983bff2ead'), 'name': 'William', 'address': 'Central st 954'}\n",
      "{'_id': ObjectId('5df85cb1c1cc65983bff2ebc'), 'name': 'William', 'address': 'Central st 954'}\n",
      "{'_id': ObjectId('5df8664249cb787b71bff422'), 'name': 'William', 'address': 'Central st 954'}\n",
      "{'_id': ObjectId('5df898d749cb787b71bff431'), 'name': 'William', 'address': 'Central st 954'}\n"
     ]
    }
   ],
   "source": [
    "mydoc = mycol.find().sort(\"name\")\n",
    "\n",
    "for x in mydoc:\n",
    "  print(x)"
   ]
  },
  {
   "cell_type": "code",
   "execution_count": 30,
   "metadata": {},
   "outputs": [
    {
     "data": {
      "text/plain": [
       "<pymongo.results.DeleteResult at 0x223c3737e48>"
      ]
     },
     "execution_count": 30,
     "metadata": {},
     "output_type": "execute_result"
    }
   ],
   "source": [
    "mycol.delete_one({ \"address\": \"Mountain 21\" })"
   ]
  },
  {
   "cell_type": "code",
   "execution_count": 31,
   "metadata": {},
   "outputs": [
    {
     "data": {
      "text/plain": [
       "[]"
      ]
     },
     "execution_count": 31,
     "metadata": {},
     "output_type": "execute_result"
    }
   ],
   "source": [
    "import re\n",
    "a = \"Hi I am sony. My age 23. This is my email id sony.1510@gmail.com . Hi I am Jessey. My age 20. This is my email id jessey.1996@gmail.com . Hi I am ronald.My age 17 My mail id is ronald.1999@gmail.com\"\n",
    "\n",
    "re.findall(r'[0-9]{7}', a)"
   ]
  },
  {
   "cell_type": "code",
   "execution_count": 32,
   "metadata": {},
   "outputs": [
    {
     "name": "stdout",
     "output_type": "stream",
     "text": [
      "{'_id': ObjectId('5df953ba9aa6e15e27f4f178'), 'name': 'John', 'address': 'Highway 37'}\n",
      "{'_id': ObjectId('5df953dd9aa6e15e27f4f179'), 'name': 'Peter', 'address': 'Lowstreet 27'}\n",
      "{'_id': ObjectId('5df953ea9aa6e15e27f4f17a'), 'name': 'Amy', 'address': 'Apple st 652'}\n",
      "{'_id': ObjectId('5df953ea9aa6e15e27f4f17c'), 'name': 'Michael', 'address': 'Valley 345'}\n",
      "{'_id': ObjectId('5df953ea9aa6e15e27f4f17d'), 'name': 'Sandy', 'address': 'Ocean blvd 2'}\n",
      "{'_id': ObjectId('5df953ea9aa6e15e27f4f17e'), 'name': 'Betty', 'address': 'Green Grass 1'}\n",
      "{'_id': ObjectId('5df953ea9aa6e15e27f4f17f'), 'name': 'Richard', 'address': 'Sky st 331'}\n",
      "{'_id': ObjectId('5df953ea9aa6e15e27f4f180'), 'name': 'Susan', 'address': 'One way 98'}\n",
      "{'_id': ObjectId('5df953ea9aa6e15e27f4f181'), 'name': 'Vicky', 'address': 'Yellow Garden 2'}\n",
      "{'_id': ObjectId('5df953ea9aa6e15e27f4f182'), 'name': 'Ben', 'address': 'Park Lane 38'}\n",
      "{'_id': ObjectId('5df953ea9aa6e15e27f4f183'), 'name': 'William', 'address': 'Central st 954'}\n",
      "{'_id': ObjectId('5df953ea9aa6e15e27f4f184'), 'name': 'Chuck', 'address': 'Main Road 989'}\n",
      "{'_id': ObjectId('5df953ea9aa6e15e27f4f185'), 'name': 'Viola', 'address': 'Sideway 1633'}\n",
      "{'_id': 1, 'name': 'John', 'address': 'Highway 37'}\n",
      "{'_id': 2, 'name': 'Peter', 'address': 'Lowstreet 27'}\n",
      "{'_id': 3, 'name': 'Amy', 'address': 'Apple st 652'}\n",
      "{'_id': 4, 'name': 'Hannah', 'address': 'Mountain 21'}\n",
      "{'_id': 5, 'name': 'Michael', 'address': 'Valley 345'}\n",
      "{'_id': 6, 'name': 'Sandy', 'address': 'Ocean blvd 2'}\n",
      "{'_id': 7, 'name': 'Betty', 'address': 'Green Grass 1'}\n",
      "{'_id': 8, 'name': 'Richard', 'address': 'Sky st 331'}\n",
      "{'_id': 9, 'name': 'Susan', 'address': 'One way 98'}\n"
     ]
    }
   ],
   "source": [
    "#x=mycol.delete_many({\"_id\" : { \"$regex\" : \"[0-9]{2}\" }})\n",
    "#print(x.deleted_count)\n",
    "#mydoc = mycol.find({\"_id\": { \"$regex\" : \"^[0-9]{2}\" }})\n",
    "mydoc= mycol.find({},{  \"id_\":1 })\n",
    "\n",
    "for x in mydoc:\n",
    "    #print((x['_id']))\n",
    "    if isinstance(x['_id'],int) :\n",
    "        if re.findall(r'[0-9]{2}', str(x['_id']))!=[]:\n",
    "            #print (x)\n",
    "            mycol.delete_one({\"_id\" : x['_id']})\n",
    "mydoc = mycol.find()\n",
    "\n",
    "for x in mydoc:\n",
    "  print(x)\n",
    " "
   ]
  },
  {
   "cell_type": "code",
   "execution_count": 33,
   "metadata": {},
   "outputs": [
    {
     "data": {
      "text/plain": [
       "<pymongo.results.UpdateResult at 0x223c384cbc8>"
      ]
     },
     "execution_count": 33,
     "metadata": {},
     "output_type": "execute_result"
    }
   ],
   "source": [
    "myquery = { \"address\": \"Valley 345\" }\n",
    "newvalues = { \"$set\": { \"address\": \"Canyon 123\" } }\n",
    "mycol.update_one(myquery, newvalues)"
   ]
  },
  {
   "cell_type": "code",
   "execution_count": 34,
   "metadata": {},
   "outputs": [
    {
     "name": "stdout",
     "output_type": "stream",
     "text": [
      "{'_id': ObjectId('5df953ba9aa6e15e27f4f178'), 'name': 'John', 'address': 'Highway 37'}\n",
      "{'_id': ObjectId('5df953dd9aa6e15e27f4f179'), 'name': 'Peter', 'address': 'Lowstreet 27'}\n",
      "{'_id': ObjectId('5df953ea9aa6e15e27f4f17a'), 'name': 'Amy', 'address': 'Apple st 652'}\n",
      "{'_id': ObjectId('5df953ea9aa6e15e27f4f17c'), 'name': 'Michael', 'address': 'Canyon 123'}\n",
      "{'_id': ObjectId('5df953ea9aa6e15e27f4f17d'), 'name': 'Sandy', 'address': 'Ocean blvd 2'}\n",
      "{'_id': ObjectId('5df953ea9aa6e15e27f4f17e'), 'name': 'Betty', 'address': 'Green Grass 1'}\n",
      "{'_id': ObjectId('5df953ea9aa6e15e27f4f17f'), 'name': 'Richard', 'address': 'Sky st 331'}\n",
      "{'_id': ObjectId('5df953ea9aa6e15e27f4f180'), 'name': 'Susan', 'address': 'One way 98'}\n",
      "{'_id': ObjectId('5df953ea9aa6e15e27f4f181'), 'name': 'Vicky', 'address': 'Yellow Garden 2'}\n",
      "{'_id': ObjectId('5df953ea9aa6e15e27f4f182'), 'name': 'Ben', 'address': 'Park Lane 38'}\n",
      "{'_id': ObjectId('5df953ea9aa6e15e27f4f183'), 'name': 'William', 'address': 'Central st 954'}\n",
      "{'_id': ObjectId('5df953ea9aa6e15e27f4f184'), 'name': 'Chuck', 'address': 'Main Road 989'}\n",
      "{'_id': ObjectId('5df953ea9aa6e15e27f4f185'), 'name': 'Viola', 'address': 'Sideway 1633'}\n",
      "{'_id': 1, 'name': 'John', 'address': 'Highway 37'}\n",
      "{'_id': 2, 'name': 'Peter', 'address': 'Lowstreet 27'}\n",
      "{'_id': 3, 'name': 'Amy', 'address': 'Apple st 652'}\n",
      "{'_id': 4, 'name': 'Hannah', 'address': 'Mountain 21'}\n",
      "{'_id': 5, 'name': 'Michael', 'address': 'Valley 345'}\n",
      "{'_id': 6, 'name': 'Sandy', 'address': 'Ocean blvd 2'}\n",
      "{'_id': 7, 'name': 'Betty', 'address': 'Green Grass 1'}\n",
      "{'_id': 8, 'name': 'Richard', 'address': 'Sky st 331'}\n",
      "{'_id': 9, 'name': 'Susan', 'address': 'One way 98'}\n"
     ]
    }
   ],
   "source": [
    "mydoc = mycol.find()\n",
    "\n",
    "for x in mydoc:\n",
    "  print(x)"
   ]
  },
  {
   "cell_type": "code",
   "execution_count": 35,
   "metadata": {},
   "outputs": [
    {
     "name": "stdout",
     "output_type": "stream",
     "text": [
      "{'_id': 1, 'name': 'John', 'address': 'Highway 37'}\n",
      "{'_id': 2, 'name': 'Peter', 'address': 'Lowstreet 27'}\n",
      "{'_id': 3, 'name': 'Amy', 'address': 'Apple st 652'}\n",
      "{'_id': 4, 'name': 'Hannah', 'address': 'Mountain 21'}\n",
      "{'_id': 5, 'name': 'Michael', 'address': 'Valley 345'}\n",
      "{'_id': 6, 'name': 'Sandy', 'address': 'Ocean blvd 2'}\n",
      "{'_id': 7, 'name': 'Betty', 'address': 'Green Grass 1'}\n",
      "{'_id': 8, 'name': 'Richard', 'address': 'Sky st 331'}\n",
      "{'_id': 9, 'name': 'Susan', 'address': 'One way 98'}\n",
      "{'_id': ObjectId('5df953ba9aa6e15e27f4f178'), 'name': 'John', 'address': 'Highway 37'}\n",
      "{'_id': ObjectId('5df953dd9aa6e15e27f4f179'), 'name': 'Peter', 'address': 'Lowstreet 27'}\n",
      "{'_id': ObjectId('5df953ea9aa6e15e27f4f17a'), 'name': 'Amy', 'address': 'Apple st 652'}\n",
      "{'_id': ObjectId('5df953ea9aa6e15e27f4f17c'), 'name': 'Michael', 'address': 'Canyon 123'}\n",
      "{'_id': ObjectId('5df953ea9aa6e15e27f4f17d'), 'name': 'Sandy', 'address': 'Ocean blvd 2'}\n",
      "{'_id': ObjectId('5df953ea9aa6e15e27f4f17e'), 'name': 'Betty', 'address': 'Green Grass 1'}\n",
      "{'_id': ObjectId('5df953ea9aa6e15e27f4f17f'), 'name': 'Richard', 'address': 'Sky st 331'}\n",
      "{'_id': ObjectId('5df953ea9aa6e15e27f4f180'), 'name': 'Susan', 'address': 'One way 98'}\n",
      "{'_id': ObjectId('5df953ea9aa6e15e27f4f181'), 'name': 'Vicky', 'address': 'Yellow Garden 2'}\n",
      "{'_id': ObjectId('5df953ea9aa6e15e27f4f182'), 'name': 'Ben', 'address': 'Park Lane 38'}\n",
      "{'_id': ObjectId('5df953ea9aa6e15e27f4f183'), 'name': 'William', 'address': 'Central st 954'}\n",
      "{'_id': ObjectId('5df953ea9aa6e15e27f4f184'), 'name': 'Chuck', 'address': 'Main Road 989'}\n",
      "{'_id': ObjectId('5df953ea9aa6e15e27f4f185'), 'name': 'Viola', 'address': 'Sideway 1633'}\n"
     ]
    }
   ],
   "source": [
    "mydoc= mycol.find().sort('_id')\n",
    "for x in mydoc:\n",
    "  print(x)"
   ]
  },
  {
   "cell_type": "code",
   "execution_count": 66,
   "metadata": {},
   "outputs": [
    {
     "name": "stdout",
     "output_type": "stream",
     "text": [
      "{'_id': ObjectId('5df953ba9aa6e15e27f4f178'), 'name': 'John', 'address': 'Highway 37'}\n",
      "{'_id': ObjectId('5df953dd9aa6e15e27f4f179'), 'name': 'Peter', 'address': 'Lowstreet 27'}\n",
      "{'_id': ObjectId('5df953ea9aa6e15e27f4f17a'), 'name': 'Amy', 'address': 'Apple st 652'}\n",
      "{'_id': ObjectId('5df953ea9aa6e15e27f4f17c'), 'name': 'Michael', 'address': 'Canyon 123'}\n",
      "{'_id': ObjectId('5df953ea9aa6e15e27f4f17d'), 'name': 'Sandy', 'address': 'Ocean blvd 2'}\n"
     ]
    }
   ],
   "source": [
    "mydoc = mycol.find().limit(5)\n",
    "\n",
    "for x in mydoc:\n",
    "  print(x)"
   ]
  },
  {
   "cell_type": "code",
   "execution_count": 37,
   "metadata": {},
   "outputs": [],
   "source": [
    "import os\n",
    "import pandas as pd\n",
    "import numpy as np\n"
   ]
  },
  {
   "cell_type": "code",
   "execution_count": 38,
   "metadata": {},
   "outputs": [],
   "source": [
    "mydb = myclient[\"mydatabase\"]"
   ]
  },
  {
   "cell_type": "code",
   "execution_count": 39,
   "metadata": {},
   "outputs": [],
   "source": [
    "os.chdir(\"../data\")"
   ]
  },
  {
   "cell_type": "code",
   "execution_count": 40,
   "metadata": {},
   "outputs": [
    {
     "data": {
      "text/plain": [
       "'C:\\\\Users\\\\ven_n_000\\\\Desktop\\\\iod_work\\\\2019_12_09_DS_FT_SYD_Projects\\\\miruna\\\\labs\\\\data'"
      ]
     },
     "execution_count": 40,
     "metadata": {},
     "output_type": "execute_result"
    }
   ],
   "source": [
    "os.getcwd()"
   ]
  },
  {
   "cell_type": "code",
   "execution_count": 41,
   "metadata": {},
   "outputs": [],
   "source": [
    "collection = mydb[\"people\"]\n",
    "collection.drop()\n"
   ]
  },
  {
   "cell_type": "code",
   "execution_count": 42,
   "metadata": {},
   "outputs": [],
   "source": [
    "#os.system('mongoimport --db=mydatabase --collection=people --file=dummyData.json')"
   ]
  },
  {
   "cell_type": "code",
   "execution_count": 43,
   "metadata": {},
   "outputs": [],
   "source": [
    "os.chdir(\"../module_2\")\n"
   ]
  },
  {
   "cell_type": "code",
   "execution_count": 44,
   "metadata": {},
   "outputs": [
    {
     "name": "stdout",
     "output_type": "stream",
     "text": [
      "Var:  ALLUSERSPROFILE Value:  C:\\ProgramData\n",
      "Var:  APPDATA Value:  C:\\Users\\ven_n_000\\AppData\\Roaming\n",
      "Var:  COMMONPROGRAMFILES Value:  C:\\Program Files\\Common Files\n",
      "Var:  COMMONPROGRAMFILES(X86) Value:  C:\\Program Files (x86)\\Common Files\n",
      "Var:  COMMONPROGRAMW6432 Value:  C:\\Program Files\\Common Files\n",
      "Var:  COMPUTERNAME Value:  BANKAI\n",
      "Var:  COMSPEC Value:  C:\\WINDOWS\\system32\\cmd.exe\n",
      "Var:  CONDA_DEFAULT_ENV Value:  base\n",
      "Var:  CONDA_EXE Value:  C:\\Users\\ven_n_000\\Anaconda3\\Scripts\\conda.exe\n",
      "Var:  CONDA_PREFIX Value:  C:\\Users\\ven_n_000\\Anaconda3\n",
      "Var:  CONDA_PROMPT_MODIFIER Value:  (base) \n",
      "Var:  CONDA_PYTHON_EXE Value:  C:\\Users\\ven_n_000\\Anaconda3\\python.exe\n",
      "Var:  CONDA_SHLVL Value:  1\n",
      "Var:  DRIVERDATA Value:  C:\\Windows\\System32\\Drivers\\DriverData\n",
      "Var:  FP_NO_HOST_CHECK Value:  NO\n",
      "Var:  HOMEDRIVE Value:  C:\n",
      "Var:  HOMEPATH Value:  \\Users\\ven_n_000\n",
      "Var:  LOCALAPPDATA Value:  C:\\Users\\ven_n_000\\AppData\\Local\n",
      "Var:  LOGONSERVER Value:  \\\\BANKAI\n",
      "Var:  NUMBER_OF_PROCESSORS Value:  4\n",
      "Var:  ONEDRIVE Value:  C:\\Users\\ven_n_000\\OneDrive\n",
      "Var:  OS Value:  Windows_NT\n",
      "Var:  PATH Value:  C:\\Users\\ven_n_000\\Anaconda3;C:\\Users\\ven_n_000\\Anaconda3\\Library\\mingw-w64\\bin;C:\\Users\\ven_n_000\\Anaconda3\\Library\\usr\\bin;C:\\Users\\ven_n_000\\Anaconda3\\Library\\bin;C:\\Users\\ven_n_000\\Anaconda3\\Scripts;C:\\Users\\ven_n_000\\Anaconda3\\bin;C:\\Users\\ven_n_000\\Anaconda3\\condabin;C:\\ProgramData\\Oracle\\Java\\javapath;C:\\Program Files (x86)\\Intel\\iCLS Client;C:\\Program Files\\Intel\\iCLS Client;C:\\Program Files (x86)\\NVIDIA Corporation\\PhysX\\Common;C:\\WINDOWS\\system32;C:\\WINDOWS;C:\\WINDOWS\\System32\\Wbem;C:\\WINDOWS\\System32\\WindowsPowerShell\\v1.0;C:\\Program Files (x86)\\Intel\\OpenCL SDK\\2.0\\bin\\x86;C:\\Program Files (x86)\\Intel\\OpenCL SDK\\2.0\\bin\\x64;C:\\Program Files\\Intel\\Intel(R) Management Engine Components\\DAL;C:\\Program Files\\Intel\\Intel(R) Management Engine Components\\IPT;C:\\Program Files (x86)\\Intel\\Intel(R) Management Engine Components\\DAL;C:\\Program Files (x86)\\Intel\\Intel(R) Management Engine Components\\IPT;C:\\Program Files (x86)\\EgisTec MyWinLocker\\x64;C:\\Program Files (x86)\\EgisTec MyWinLocker;C:\\Program Files (x86)\\Skype\\Phone;C:\\Program Files\\Git\\cmd;C:\\Program Files (x86)\\AOMEI Backupper;C:\\WINDOWS\\System32\\OpenSSH;C:\\Program Files\\MongoDB\\Server\\4.2\\bin;C:\\Users\\ven_n_000\\AppData\\Local\\Programs\\Python\\Python38\\Scripts;C:\\Users\\ven_n_000\\AppData\\Local\\Programs\\Python\\Python38;C:\\Users\\ven_n_000\\AppData\\Local\\Microsoft\\WindowsApps;.\n",
      "Var:  PATHEXT Value:  .COM;.EXE;.BAT;.CMD;.VBS;.VBE;.JS;.JSE;.WSF;.WSH;.MSC\n",
      "Var:  PROCESSOR_ARCHITECTURE Value:  AMD64\n",
      "Var:  PROCESSOR_IDENTIFIER Value:  Intel64 Family 6 Model 58 Stepping 9, GenuineIntel\n",
      "Var:  PROCESSOR_LEVEL Value:  6\n",
      "Var:  PROCESSOR_REVISION Value:  3a09\n",
      "Var:  PROGRAMDATA Value:  C:\\ProgramData\n",
      "Var:  PROGRAMFILES Value:  C:\\Program Files\n",
      "Var:  PROGRAMFILES(X86) Value:  C:\\Program Files (x86)\n",
      "Var:  PROGRAMW6432 Value:  C:\\Program Files\n",
      "Var:  PROMPT Value:  (base) $P$G\n",
      "Var:  PSMODULEPATH Value:  C:\\WINDOWS\\system32\\WindowsPowerShell\\v1.0\\Modules\\\n",
      "Var:  PT5HOME Value:  C:\\Program Files (x86)\\Cisco Packet Tracer 5.3.3\n",
      "Var:  PT7HOME Value:  C:\\Program Files\\Cisco Packet Tracer 7.2\n",
      "Var:  PUBLIC Value:  C:\\Users\\Public\n",
      "Var:  QT_DEVICE_PIXEL_RATIO Value:  auto\n",
      "Var:  SESSIONNAME Value:  Console\n",
      "Var:  SYSTEMDRIVE Value:  C:\n",
      "Var:  SYSTEMROOT Value:  C:\\WINDOWS\n",
      "Var:  TEMP Value:  C:\\Users\\VEN_N_~1\\AppData\\Local\\Temp\n",
      "Var:  TMP Value:  C:\\Users\\VEN_N_~1\\AppData\\Local\\Temp\n",
      "Var:  USERDOMAIN Value:  BANKAI\n",
      "Var:  USERDOMAIN_ROAMINGPROFILE Value:  BANKAI\n",
      "Var:  USERNAME Value:  ven_n_000\n",
      "Var:  USERPROFILE Value:  C:\\Users\\ven_n_000\n",
      "Var:  VBOX_MSI_INSTALL_PATH Value:  C:\\Program Files\\Oracle\\VirtualBox\\\n",
      "Var:  WINDIR Value:  C:\\WINDOWS\n",
      "Var:  KERNEL_LAUNCH_TIMEOUT Value:  40\n",
      "Var:  JPY_INTERRUPT_EVENT Value:  2808\n",
      "Var:  IPY_INTERRUPT_EVENT Value:  2808\n",
      "Var:  JPY_PARENT_PID Value:  2796\n",
      "Var:  TERM Value:  xterm-color\n",
      "Var:  CLICOLOR Value:  1\n",
      "Var:  PAGER Value:  cat\n",
      "Var:  GIT_PAGER Value:  cat\n",
      "Var:  MPLBACKEND Value:  module://ipykernel.pylab.backend_inline\n",
      "all done\n"
     ]
    }
   ],
   "source": [
    "import os\n",
    "for a in os.environ:\n",
    "    print('Var: ', a, 'Value: ', os.getenv(a))\n",
    "print(\"all done\")"
   ]
  },
  {
   "cell_type": "code",
   "execution_count": 45,
   "metadata": {},
   "outputs": [
    {
     "data": {
      "text/plain": [
       "'C:\\\\Users\\\\ven_n_000\\\\Desktop\\\\iod_work\\\\2019_12_09_DS_FT_SYD_Projects\\\\miruna\\\\labs\\\\module_2'"
      ]
     },
     "execution_count": 45,
     "metadata": {},
     "output_type": "execute_result"
    }
   ],
   "source": [
    "os.getcwd()"
   ]
  },
  {
   "cell_type": "code",
   "execution_count": 47,
   "metadata": {},
   "outputs": [
    {
     "name": "stdout",
     "output_type": "stream",
     "text": [
      "{'_id': ObjectId('5df95650b081c94356d116bf'), 'Name': 'Sawyer, Neve M.', 'Age': 18, 'Country': 'Serbia', 'Location': '-34.37446, 174.0838'}\n",
      "{'_id': ObjectId('5df95650b081c94356d11685'), 'Name': 'Townsend, Cadman I.', 'Age': 19, 'Country': 'Somalia', 'Location': '-87.69188, -144.16138'}\n",
      "{'_id': ObjectId('5df95650b081c94356d116a5'), 'Name': 'Graham, Emerald O.', 'Age': 20, 'Country': 'Eritrea', 'Location': '61.35398, 28.04381'}\n"
     ]
    }
   ],
   "source": [
    "# db = client.test\n",
    "# collection = db.people\n",
    "cursor = collection.find().sort('Age').limit(3)\n",
    "#print(cursor)\n",
    "for doc in cursor:\n",
    "    print (doc)"
   ]
  },
  {
   "cell_type": "code",
   "execution_count": 48,
   "metadata": {
    "scrolled": false
   },
   "outputs": [
    {
     "name": "stdout",
     "output_type": "stream",
     "text": [
      "{'_id': ObjectId('5df95650b081c94356d11674'), 'Name': 'Quinn, Alfonso Y.', 'Age': 61, 'Country': 'Northern Mariana Islands', 'Location': '-20.77447, -11.73429'}\n",
      "{'_id': ObjectId('5df95650b081c94356d11675'), 'Name': 'Dominguez, Jasmine S.', 'Age': 31, 'Country': 'Comoros', 'Location': '-61.56115, -147.43152'}\n",
      "{'_id': ObjectId('5df95650b081c94356d11676'), 'Name': 'Morgan, Tucker S.', 'Age': 41, 'Country': 'Grenada', 'Location': '29.92717, 169.26014'}\n",
      "{'_id': ObjectId('5df95650b081c94356d11677'), 'Name': 'Potts, Destiny J.', 'Age': 24, 'Country': 'Nicaragua', 'Location': '-54.60926, 126.32675'}\n",
      "{'_id': ObjectId('5df95650b081c94356d11678'), 'Name': 'Holman, Hasad O.', 'Age': 32, 'Country': 'China', 'Location': '39.9127, 116.3833'}\n",
      "{'_id': ObjectId('5df95650b081c94356d11679'), 'Name': 'Mcintyre, Caesar U.', 'Age': 40, 'Country': 'United States', 'Location': '-25.48981, 42.39013'}\n",
      "{'_id': ObjectId('5df95650b081c94356d1167a'), 'Name': 'Dickerson, Daria Z.', 'Age': 47, 'Country': 'Montenegro', 'Location': '49.05571, 122.53302'}\n",
      "{'_id': ObjectId('5df95650b081c94356d1167b'), 'Name': 'Dodson, Finn B.', 'Age': 38, 'Country': 'American Samoa', 'Location': '-69.55397, 131.50998'}\n",
      "{'_id': ObjectId('5df95650b081c94356d1167c'), 'Name': 'Cameron, Carla K.', 'Age': 61, 'Country': 'Myanmar', 'Location': '50.35508, 13.57343'}\n",
      "{'_id': ObjectId('5df95650b081c94356d1167d'), 'Name': 'Harding, Yen G.', 'Age': 64, 'Country': 'Angola', 'Location': '32.79582, -101.18575'}\n",
      "{'_id': ObjectId('5df95650b081c94356d1167e'), 'Name': 'Mccall, Lara Q.', 'Age': 55, 'Country': 'Georgia', 'Location': '7.41251, 63.86113'}\n",
      "{'_id': ObjectId('5df95650b081c94356d1167f'), 'Name': 'Sanchez, Aristotle L.', 'Age': 25, 'Country': 'Mayotte', 'Location': '-74.97811, -27.77269'}\n",
      "{'_id': ObjectId('5df95650b081c94356d11680'), 'Name': 'French, Dawn W.', 'Age': 40, 'Country': 'Bolivia', 'Location': '66.99559, 172.58916'}\n",
      "{'_id': ObjectId('5df95650b081c94356d11681'), 'Name': 'Valenzuela, Wesley E.', 'Age': 47, 'Country': 'Nepal', 'Location': '40.43004, -31.63421'}\n",
      "{'_id': ObjectId('5df95650b081c94356d11682'), 'Name': 'Barry, Nayda R.', 'Age': 39, 'Country': 'Anguilla', 'Location': '-18.52518, -118.67157'}\n",
      "{'_id': ObjectId('5df95650b081c94356d11683'), 'Name': 'Parks, Joseph C.', 'Age': 56, 'Country': 'Vanuatu', 'Location': '-16.65215, -122.14829'}\n",
      "{'_id': ObjectId('5df95650b081c94356d11684'), 'Name': 'Welch, Mary L.', 'Age': 45, 'Country': 'Saint Pierre and Miquelon', 'Location': '-23.13924, 99.94579'}\n",
      "{'_id': ObjectId('5df95650b081c94356d11685'), 'Name': 'Townsend, Cadman I.', 'Age': 19, 'Country': 'Somalia', 'Location': '-87.69188, -144.16138'}\n",
      "{'_id': ObjectId('5df95650b081c94356d11686'), 'Name': 'Martin, Harper D.', 'Age': 27, 'Country': 'British Indian Ocean Territory', 'Location': '-52.04695, -105.33625'}\n",
      "{'_id': ObjectId('5df95650b081c94356d11687'), 'Name': 'Chavez, Garrett H.', 'Age': 33, 'Country': 'Heard Island and Mcdonald Islands', 'Location': '-40.34056, -56.24268'}\n",
      "{'_id': ObjectId('5df95650b081c94356d11688'), 'Name': 'Pratt, Noelani P.', 'Age': 63, 'Country': 'Reunion', 'Location': '80.65682, 162.5187'}\n",
      "{'_id': ObjectId('5df95650b081c94356d11689'), 'Name': 'Poole, Maia S.', 'Age': 29, 'Country': 'Åland Islands', 'Location': '-45.20296, 46.68062'}\n",
      "{'_id': ObjectId('5df95650b081c94356d1168a'), 'Name': 'Miller, Medge O.', 'Age': 59, 'Country': 'United Kingdom (Great Britain)', 'Location': '20.26129, -75.64274'}\n",
      "{'_id': ObjectId('5df95650b081c94356d1168b'), 'Name': 'Baldwin, Liberty Y.', 'Age': 48, 'Country': 'Dominica', 'Location': '25.52303, -169.50365'}\n",
      "{'_id': ObjectId('5df95650b081c94356d1168c'), 'Name': 'Browning, Reuben G.', 'Age': 61, 'Country': 'Guernsey', 'Location': '36.47289, -6.11841'}\n",
      "{'_id': ObjectId('5df95650b081c94356d1168d'), 'Name': 'Perkins, Griffin W.', 'Age': 48, 'Country': 'South Africa', 'Location': '-74.6125, 2.34217'}\n",
      "{'_id': ObjectId('5df95650b081c94356d1168e'), 'Name': 'Marquez, August A.', 'Age': 57, 'Country': 'United Kingdom (Great Britain)', 'Location': '61.94015, -170.70676'}\n",
      "{'_id': ObjectId('5df95650b081c94356d1168f'), 'Name': 'Alston, Charde I.', 'Age': 56, 'Country': 'Ukraine', 'Location': '-38.53191, -50.23885'}\n",
      "{'_id': ObjectId('5df95650b081c94356d11690'), 'Name': 'Alvarado, Nero N.', 'Age': 61, 'Country': 'French Guiana', 'Location': '-10.25168, 147.0262'}\n",
      "{'_id': ObjectId('5df95650b081c94356d11691'), 'Name': 'Hendricks, Cailin U.', 'Age': 25, 'Country': 'Heard Island and Mcdonald Islands', 'Location': '-72.81203, 59.59854'}\n",
      "{'_id': ObjectId('5df95650b081c94356d11692'), 'Name': 'Briggs, Amanda N.', 'Age': 35, 'Country': 'Saint Lucia', 'Location': '54.85017, -140.89639'}\n",
      "{'_id': ObjectId('5df95650b081c94356d11693'), 'Name': 'Lee, Jack Y.', 'Age': 47, 'Country': 'Norfolk Island', 'Location': '-89.30874, 77.57111'}\n",
      "{'_id': ObjectId('5df95650b081c94356d11694'), 'Name': 'Sutton, Blair P.', 'Age': 62, 'Country': 'Palestine, State of', 'Location': '-79.8451, -85.93264'}\n",
      "{'_id': ObjectId('5df95650b081c94356d11695'), 'Name': 'Marshall, David J.', 'Age': 43, 'Country': 'Greenland', 'Location': '-14.99002, -48.26145'}\n",
      "{'_id': ObjectId('5df95650b081c94356d11696'), 'Name': 'Howell, Ivana G.', 'Age': 42, 'Country': 'Saudi Arabia', 'Location': '-78.23589, -110.37693'}\n",
      "{'_id': ObjectId('5df95650b081c94356d11697'), 'Name': 'Salas, Steel U.', 'Age': 59, 'Country': 'Andorra', 'Location': '65.32695, 161.88391'}\n",
      "{'_id': ObjectId('5df95650b081c94356d11698'), 'Name': 'Sims, Leigh D.', 'Age': 26, 'Country': 'Cambodia', 'Location': '-39.76351, 102.29045'}\n",
      "{'_id': ObjectId('5df95650b081c94356d11699'), 'Name': 'Ratliff, Avram D.', 'Age': 38, 'Country': 'Sweden', 'Location': '60.87227, -74.71222'}\n",
      "{'_id': ObjectId('5df95650b081c94356d1169a'), 'Name': 'Mendoza, Kirk S.', 'Age': 25, 'Country': 'Cook Islands', 'Location': '76.41526, 69.14896'}\n",
      "{'_id': ObjectId('5df95650b081c94356d1169b'), 'Name': 'Ortiz, Cameran B.', 'Age': 49, 'Country': 'Mauritania', 'Location': '21.11098, -17.08853'}\n",
      "{'_id': ObjectId('5df95650b081c94356d1169c'), 'Name': 'Preston, Dane W.', 'Age': 40, 'Country': 'American Samoa', 'Location': '-52.44523, -12.36693'}\n",
      "{'_id': ObjectId('5df95650b081c94356d1169d'), 'Name': 'Brooks, Mariko D.', 'Age': 33, 'Country': 'Turks and Caicos Islands', 'Location': '-52.93344, -28.41707'}\n",
      "{'_id': ObjectId('5df95650b081c94356d1169e'), 'Name': 'Webster, Ray E.', 'Age': 52, 'Country': 'Chile', 'Location': '-20.20973, 154.85885'}\n",
      "{'_id': ObjectId('5df95650b081c94356d1169f'), 'Name': 'Roberts, Cara B.', 'Age': 52, 'Country': 'Thailand', 'Location': '61.9608, 161.14669'}\n",
      "{'_id': ObjectId('5df95650b081c94356d116a0'), 'Name': 'Jackson, Jayme U.', 'Age': 33, 'Country': 'Tonga', 'Location': '-81.82718, 20.9984'}\n",
      "{'_id': ObjectId('5df95650b081c94356d116a1'), 'Name': 'Bridges, Tamekah D.', 'Age': 35, 'Country': 'Christmas Island', 'Location': '15.08403, -9.44741'}\n",
      "{'_id': ObjectId('5df95650b081c94356d116a2'), 'Name': 'Cardenas, Jared I.', 'Age': 45, 'Country': 'Reunion', 'Location': '6.88105, 171.22864'}\n",
      "{'_id': ObjectId('5df95650b081c94356d116a3'), 'Name': 'Davenport, Nadine V.', 'Age': 38, 'Country': 'Peru', 'Location': '-41.73735, 57.46765'}\n",
      "{'_id': ObjectId('5df95650b081c94356d116a4'), 'Name': 'Douglas, Irene I.', 'Age': 49, 'Country': 'Tajikistan', 'Location': '-21.11626, -43.1353'}\n",
      "{'_id': ObjectId('5df95650b081c94356d116a5'), 'Name': 'Graham, Emerald O.', 'Age': 20, 'Country': 'Eritrea', 'Location': '61.35398, 28.04381'}\n",
      "{'_id': ObjectId('5df95650b081c94356d116a6'), 'Name': 'Cherry, Chantale L.', 'Age': 45, 'Country': 'Jersey', 'Location': '11.67317, 50.4145'}\n",
      "{'_id': ObjectId('5df95650b081c94356d116a7'), 'Name': 'Shepherd, Kylie X.', 'Age': 42, 'Country': 'Nepal', 'Location': '78.82173, -125.25611'}\n",
      "{'_id': ObjectId('5df95650b081c94356d116a8'), 'Name': 'Phelps, Sawyer Q.', 'Age': 51, 'Country': 'Zambia', 'Location': '82.43626, 62.09828'}\n",
      "{'_id': ObjectId('5df95650b081c94356d116a9'), 'Name': 'Olsen, Sophia K.', 'Age': 22, 'Country': 'United Arab Emirates', 'Location': '2.97813, 88.7177'}\n",
      "{'_id': ObjectId('5df95650b081c94356d116aa'), 'Name': 'Edwards, Myra J.', 'Age': 31, 'Country': 'Jamaica', 'Location': '57.13947, 170.0602'}\n",
      "{'_id': ObjectId('5df95650b081c94356d116ab'), 'Name': 'Sharpe, Abraham M.', 'Age': 21, 'Country': 'Antarctica', 'Location': '-78.40244, -162.765'}\n",
      "{'_id': ObjectId('5df95650b081c94356d116ac'), 'Name': 'Lewis, Glenna Y.', 'Age': 56, 'Country': 'Antarctica', 'Location': '-49.43501, -162.02286'}\n",
      "{'_id': ObjectId('5df95650b081c94356d116ad'), 'Name': 'Franco, Norman E.', 'Age': 30, 'Country': 'Puerto Rico', 'Location': '-67.90256, -58.98164'}\n",
      "{'_id': ObjectId('5df95650b081c94356d116ae'), 'Name': 'Fuller, Christen R.', 'Age': 23, 'Country': 'Namibia', 'Location': '-64.89213, -7.46627'}\n",
      "{'_id': ObjectId('5df95650b081c94356d116af'), 'Name': 'Frost, Willa N.', 'Age': 41, 'Country': 'Lebanon', 'Location': '39.20651, -36.38229'}\n",
      "{'_id': ObjectId('5df95650b081c94356d116b0'), 'Name': 'Bates, Sopoline R.', 'Age': 58, 'Country': 'Mauritania', 'Location': '80.94557, 97.05546'}\n",
      "{'_id': ObjectId('5df95650b081c94356d116b1'), 'Name': 'French, Dante H.', 'Age': 32, 'Country': 'Niue', 'Location': '-80.04334, 157.45408'}\n",
      "{'_id': ObjectId('5df95650b081c94356d116b2'), 'Name': 'Arnold, Emily R.', 'Age': 61, 'Country': 'Djibouti', 'Location': '-60.36244, 91.55568'}\n",
      "{'_id': ObjectId('5df95650b081c94356d116b3'), 'Name': 'Ward, Noah B.', 'Age': 38, 'Country': 'Gabon', 'Location': '-45.62401, 4.84001'}\n",
      "{'_id': ObjectId('5df95650b081c94356d116b4'), 'Name': 'Huffman, Nita U.', 'Age': 35, 'Country': 'Solomon Islands', 'Location': '-40.35596, 145.85145'}\n",
      "{'_id': ObjectId('5df95650b081c94356d116b5'), 'Name': 'Summers, May Y.', 'Age': 55, 'Country': 'Guernsey', 'Location': '8.82984, -48.87366'}\n",
      "{'_id': ObjectId('5df95650b081c94356d116b6'), 'Name': 'Jenkins, Octavia P.', 'Age': 29, 'Country': 'Guernsey', 'Location': '45.4198, -164.16024'}\n",
      "{'_id': ObjectId('5df95650b081c94356d116b7'), 'Name': 'Frost, Declan A.', 'Age': 52, 'Country': 'Peru', 'Location': '11.59492, 75.31999'}\n",
      "{'_id': ObjectId('5df95650b081c94356d116b8'), 'Name': 'Byrd, Dante A.', 'Age': 43, 'Country': 'China', 'Location': '31.2, 121.5'}\n",
      "{'_id': ObjectId('5df95650b081c94356d116b9'), 'Name': 'Sykes, Iliana Q.', 'Age': 62, 'Country': 'Antarctica', 'Location': '7.15292, -165.30781'}\n",
      "{'_id': ObjectId('5df95650b081c94356d116ba'), 'Name': 'Bridges, Shaine N.', 'Age': 45, 'Country': 'Virgin Islands, United States', 'Location': '56.939, 99.85412'}\n",
      "{'_id': ObjectId('5df95650b081c94356d116bb'), 'Name': 'Franco, Bo F.', 'Age': 26, 'Country': 'Russian Federation', 'Location': '84.1134, -13.34213'}\n",
      "{'_id': ObjectId('5df95650b081c94356d116bc'), 'Name': 'Riddle, Dieter Q.', 'Age': 27, 'Country': 'Tajikistan', 'Location': '-27.50754, 4.7995'}\n",
      "{'_id': ObjectId('5df95650b081c94356d116bd'), 'Name': 'Pope, Lana U.', 'Age': 63, 'Country': 'Bangladesh', 'Location': '-72.36226, -77.38894'}\n",
      "{'_id': ObjectId('5df95650b081c94356d116be'), 'Name': 'Guthrie, Tanner Y.', 'Age': 21, 'Country': 'Zimbabwe', 'Location': '32.67009, -51.93957'}\n",
      "{'_id': ObjectId('5df95650b081c94356d116bf'), 'Name': 'Sawyer, Neve M.', 'Age': 18, 'Country': 'Serbia', 'Location': '-34.37446, 174.0838'}\n",
      "{'_id': ObjectId('5df95650b081c94356d116c0'), 'Name': 'Sampson, Karen T.', 'Age': 48, 'Country': 'Macao', 'Location': '86.61408, 46.48167'}\n",
      "{'_id': ObjectId('5df95650b081c94356d116c1'), 'Name': 'Carney, Tamekah I.', 'Age': 57, 'Country': 'China', 'Location': '45.75, 126.6333'}\n",
      "{'_id': ObjectId('5df95650b081c94356d116c2'), 'Name': 'Henderson, Peter D.', 'Age': 35, 'Country': 'Cuba', 'Location': '-44.30206, 43.71482'}\n",
      "{'_id': ObjectId('5df95650b081c94356d116c3'), 'Name': 'West, Hyatt K.', 'Age': 31, 'Country': 'Saint Martin', 'Location': '37.53127, 90.91201'}\n",
      "{'_id': ObjectId('5df95650b081c94356d116c4'), 'Name': 'Haney, Cairo Y.', 'Age': 57, 'Country': 'Rwanda', 'Location': '-47.68307, -64.96486'}\n",
      "{'_id': ObjectId('5df95650b081c94356d116c5'), 'Name': 'Caldwell, Breanna N.', 'Age': 51, 'Country': 'Mauritius', 'Location': '-57.36485, -103.06976'}\n",
      "{'_id': ObjectId('5df95650b081c94356d116c6'), 'Name': 'Potts, Shafira L.', 'Age': 34, 'Country': 'Swaziland', 'Location': '-57.61332, 132.96449'}\n",
      "{'_id': ObjectId('5df95650b081c94356d116c7'), 'Name': 'Morse, Suki D.', 'Age': 37, 'Country': 'Christmas Island', 'Location': '-72.49242, 106.16669'}\n",
      "{'_id': ObjectId('5df95650b081c94356d116c8'), 'Name': 'Zimmerman, Reuben H.', 'Age': 23, 'Country': 'Puerto Rico', 'Location': '46.28774, 73.9033'}\n",
      "{'_id': ObjectId('5df95650b081c94356d116c9'), 'Name': 'Guerrero, Slade T.', 'Age': 58, 'Country': 'Martinique', 'Location': '51.07221, -124.40854'}\n",
      "{'_id': ObjectId('5df95650b081c94356d116ca'), 'Name': 'Pacheco, Tucker P.', 'Age': 62, 'Country': 'Paraguay', 'Location': '-66.53304, 52.94481'}\n",
      "{'_id': ObjectId('5df95650b081c94356d116cb'), 'Name': 'Justice, Preston B.', 'Age': 54, 'Country': \"Côte D'Ivoire (Ivory Coast)\", 'Location': '-44.24176, 13.24102'}\n",
      "{'_id': ObjectId('5df95650b081c94356d116cc'), 'Name': 'Hodges, Gloria N.', 'Age': 50, 'Country': 'Saint Helena, Ascension and Tristan da Cunha', 'Location': '18.49617, -50.64409'}\n",
      "{'_id': ObjectId('5df95650b081c94356d116cd'), 'Name': 'Shepard, Peter R.', 'Age': 20, 'Country': 'Saint Helena, Ascension and Tristan da Cunha', 'Location': '28.90219, 66.86083'}\n",
      "{'_id': ObjectId('5df95650b081c94356d116ce'), 'Name': 'Mayer, Violet U.', 'Age': 53, 'Country': 'China', 'Location': '40, 95'}\n",
      "{'_id': ObjectId('5df95650b081c94356d116cf'), 'Name': 'Melendez, Jescie P.', 'Age': 53, 'Country': 'Malawi', 'Location': '15.08477, 29.7772'}\n",
      "{'_id': ObjectId('5df95650b081c94356d116d0'), 'Name': 'Maynard, Reuben B.', 'Age': 50, 'Country': 'Mozambique', 'Location': '79.49016, 17.75474'}\n",
      "{'_id': ObjectId('5df95650b081c94356d116d1'), 'Name': 'Slater, Liberty K.', 'Age': 48, 'Country': 'France', 'Location': '31.73899, -118.60297'}\n",
      "{'_id': ObjectId('5df95650b081c94356d116d2'), 'Name': 'Blake, Austin L.', 'Age': 38, 'Country': 'India', 'Location': '-17.85167, -131.55761'}\n",
      "{'_id': ObjectId('5df95650b081c94356d116d3'), 'Name': 'Watkins, Ocean R.', 'Age': 53, 'Country': 'Senegal', 'Location': '30.52744, 54.66705'}\n",
      "{'_id': ObjectId('5df95650b081c94356d116d4'), 'Name': 'Lopez, Eleanor Y.', 'Age': 57, 'Country': 'Guatemala', 'Location': '3.06585, 76.36247'}\n",
      "{'_id': ObjectId('5df95650b081c94356d116d5'), 'Name': 'Preston, Chantale S.', 'Age': 58, 'Country': 'Samoa', 'Location': '-42.00754, 40.29557'}\n",
      "{'_id': ObjectId('5df95650b081c94356d116d6'), 'Name': 'Horton, Cairo A.', 'Age': 29, 'Country': 'Estonia', 'Location': '-35.88718, 103.03128'}\n",
      "{'_id': ObjectId('5df95650b081c94356d116d7'), 'Name': 'Warren, Nathaniel H.', 'Age': 44, 'Country': 'Slovakia', 'Location': '-88.03201, 172.7146'}\n"
     ]
    }
   ],
   "source": [
    "cursor = collection.find()\n",
    "#print(cursor)\n",
    "for doc in cursor:\n",
    "    print (doc)"
   ]
  },
  {
   "cell_type": "code",
   "execution_count": 52,
   "metadata": {},
   "outputs": [
    {
     "data": {
      "text/html": [
       "<div>\n",
       "<style scoped>\n",
       "    .dataframe tbody tr th:only-of-type {\n",
       "        vertical-align: middle;\n",
       "    }\n",
       "\n",
       "    .dataframe tbody tr th {\n",
       "        vertical-align: top;\n",
       "    }\n",
       "\n",
       "    .dataframe thead th {\n",
       "        text-align: right;\n",
       "    }\n",
       "</style>\n",
       "<table border=\"1\" class=\"dataframe\">\n",
       "  <thead>\n",
       "    <tr style=\"text-align: right;\">\n",
       "      <th></th>\n",
       "      <th>AvgAge</th>\n",
       "      <th>Count</th>\n",
       "    </tr>\n",
       "    <tr>\n",
       "      <th>_id</th>\n",
       "      <th></th>\n",
       "      <th></th>\n",
       "    </tr>\n",
       "  </thead>\n",
       "  <tbody>\n",
       "    <tr>\n",
       "      <td>China</td>\n",
       "      <td>46.250000</td>\n",
       "      <td>4</td>\n",
       "    </tr>\n",
       "    <tr>\n",
       "      <td>Antarctica</td>\n",
       "      <td>46.333333</td>\n",
       "      <td>3</td>\n",
       "    </tr>\n",
       "    <tr>\n",
       "      <td>Guernsey</td>\n",
       "      <td>48.333333</td>\n",
       "      <td>3</td>\n",
       "    </tr>\n",
       "    <tr>\n",
       "      <td>Puerto Rico</td>\n",
       "      <td>26.500000</td>\n",
       "      <td>2</td>\n",
       "    </tr>\n",
       "    <tr>\n",
       "      <td>Heard Island and Mcdonald Islands</td>\n",
       "      <td>29.000000</td>\n",
       "      <td>2</td>\n",
       "    </tr>\n",
       "    <tr>\n",
       "      <td>...</td>\n",
       "      <td>...</td>\n",
       "      <td>...</td>\n",
       "    </tr>\n",
       "    <tr>\n",
       "      <td>Northern Mariana Islands</td>\n",
       "      <td>61.000000</td>\n",
       "      <td>1</td>\n",
       "    </tr>\n",
       "    <tr>\n",
       "      <td>Paraguay</td>\n",
       "      <td>62.000000</td>\n",
       "      <td>1</td>\n",
       "    </tr>\n",
       "    <tr>\n",
       "      <td>Palestine, State of</td>\n",
       "      <td>62.000000</td>\n",
       "      <td>1</td>\n",
       "    </tr>\n",
       "    <tr>\n",
       "      <td>Bangladesh</td>\n",
       "      <td>63.000000</td>\n",
       "      <td>1</td>\n",
       "    </tr>\n",
       "    <tr>\n",
       "      <td>Angola</td>\n",
       "      <td>64.000000</td>\n",
       "      <td>1</td>\n",
       "    </tr>\n",
       "  </tbody>\n",
       "</table>\n",
       "<p>82 rows × 2 columns</p>\n",
       "</div>"
      ],
      "text/plain": [
       "                                      AvgAge  Count\n",
       "_id                                                \n",
       "China                              46.250000      4\n",
       "Antarctica                         46.333333      3\n",
       "Guernsey                           48.333333      3\n",
       "Puerto Rico                        26.500000      2\n",
       "Heard Island and Mcdonald Islands  29.000000      2\n",
       "...                                      ...    ...\n",
       "Northern Mariana Islands           61.000000      1\n",
       "Paraguay                           62.000000      1\n",
       "Palestine, State of                62.000000      1\n",
       "Bangladesh                         63.000000      1\n",
       "Angola                             64.000000      1\n",
       "\n",
       "[82 rows x 2 columns]"
      ]
     },
     "execution_count": 52,
     "metadata": {},
     "output_type": "execute_result"
    }
   ],
   "source": [
    "pipeline = [\n",
    "        {\"$group\": {\"_id\":\"$Country\",\n",
    "             \"AvgAge\":{\"$avg\":\"$Age\"},\n",
    "             \"Count\":{\"$sum\":1},\n",
    "        }},\n",
    "        {\"$sort\":{\"Count\":-1,\"AvgAge\":1}}\n",
    "]\n",
    "# pipeline = [\n",
    "#     {\"$group\":{\"_id\":\"$Name\",\"count\":{\"$sum\":1},}}\n",
    "# ]\n",
    "aggResult = collection.aggregate(pipeline) # returns a cursor\n",
    "\n",
    "df1 = pd.DataFrame(list(aggResult)) # use list to turn the cursor to an array of documents\n",
    "df1 = df1.set_index(\"_id\")\n",
    "df1"
   ]
  },
  {
   "cell_type": "code",
   "execution_count": 53,
   "metadata": {},
   "outputs": [
    {
     "data": {
      "text/html": [
       "<div>\n",
       "<style scoped>\n",
       "    .dataframe tbody tr th:only-of-type {\n",
       "        vertical-align: middle;\n",
       "    }\n",
       "\n",
       "    .dataframe tbody tr th {\n",
       "        vertical-align: top;\n",
       "    }\n",
       "\n",
       "    .dataframe thead th {\n",
       "        text-align: right;\n",
       "    }\n",
       "</style>\n",
       "<table border=\"1\" class=\"dataframe\">\n",
       "  <thead>\n",
       "    <tr style=\"text-align: right;\">\n",
       "      <th></th>\n",
       "      <th>_id</th>\n",
       "      <th>Name</th>\n",
       "      <th>Age</th>\n",
       "      <th>Country</th>\n",
       "      <th>Location</th>\n",
       "    </tr>\n",
       "  </thead>\n",
       "  <tbody>\n",
       "    <tr>\n",
       "      <td>0</td>\n",
       "      <td>5df95650b081c94356d11678</td>\n",
       "      <td>Holman, Hasad O.</td>\n",
       "      <td>32</td>\n",
       "      <td>China</td>\n",
       "      <td>39.9127, 116.3833</td>\n",
       "    </tr>\n",
       "    <tr>\n",
       "      <td>1</td>\n",
       "      <td>5df95650b081c94356d116b8</td>\n",
       "      <td>Byrd, Dante A.</td>\n",
       "      <td>43</td>\n",
       "      <td>China</td>\n",
       "      <td>31.2, 121.5</td>\n",
       "    </tr>\n",
       "    <tr>\n",
       "      <td>2</td>\n",
       "      <td>5df95650b081c94356d116c1</td>\n",
       "      <td>Carney, Tamekah I.</td>\n",
       "      <td>57</td>\n",
       "      <td>China</td>\n",
       "      <td>45.75, 126.6333</td>\n",
       "    </tr>\n",
       "    <tr>\n",
       "      <td>3</td>\n",
       "      <td>5df95650b081c94356d116ce</td>\n",
       "      <td>Mayer, Violet U.</td>\n",
       "      <td>53</td>\n",
       "      <td>China</td>\n",
       "      <td>40, 95</td>\n",
       "    </tr>\n",
       "  </tbody>\n",
       "</table>\n",
       "</div>"
      ],
      "text/plain": [
       "                        _id                Name  Age Country  \\\n",
       "0  5df95650b081c94356d11678    Holman, Hasad O.   32   China   \n",
       "1  5df95650b081c94356d116b8      Byrd, Dante A.   43   China   \n",
       "2  5df95650b081c94356d116c1  Carney, Tamekah I.   57   China   \n",
       "3  5df95650b081c94356d116ce    Mayer, Violet U.   53   China   \n",
       "\n",
       "            Location  \n",
       "0  39.9127, 116.3833  \n",
       "1        31.2, 121.5  \n",
       "2    45.75, 126.6333  \n",
       "3             40, 95  "
      ]
     },
     "execution_count": 53,
     "metadata": {},
     "output_type": "execute_result"
    }
   ],
   "source": [
    "pipeline = [\n",
    "        {\"$match\": {\"Country\":\"China\"}},\n",
    "]\n",
    "aggResult = collection.aggregate(pipeline)\n",
    "df2 = pd.DataFrame(list(aggResult))\n",
    "df2.head()"
   ]
  },
  {
   "cell_type": "code",
   "execution_count": 54,
   "metadata": {},
   "outputs": [],
   "source": [
    "import sys\n",
    "#!{sys.executable} -m pip install folium"
   ]
  },
  {
   "cell_type": "code",
   "execution_count": 55,
   "metadata": {},
   "outputs": [
    {
     "data": {
      "text/html": [
       "<div>\n",
       "<style scoped>\n",
       "    .dataframe tbody tr th:only-of-type {\n",
       "        vertical-align: middle;\n",
       "    }\n",
       "\n",
       "    .dataframe tbody tr th {\n",
       "        vertical-align: top;\n",
       "    }\n",
       "\n",
       "    .dataframe thead th {\n",
       "        text-align: right;\n",
       "    }\n",
       "</style>\n",
       "<table border=\"1\" class=\"dataframe\">\n",
       "  <thead>\n",
       "    <tr style=\"text-align: right;\">\n",
       "      <th></th>\n",
       "      <th>_id</th>\n",
       "      <th>Name</th>\n",
       "      <th>Age</th>\n",
       "      <th>Country</th>\n",
       "      <th>Location</th>\n",
       "    </tr>\n",
       "  </thead>\n",
       "  <tbody>\n",
       "    <tr>\n",
       "      <td>0</td>\n",
       "      <td>5df95650b081c94356d11678</td>\n",
       "      <td>Holman, Hasad O.</td>\n",
       "      <td>32</td>\n",
       "      <td>China</td>\n",
       "      <td>39.9127, 116.3833</td>\n",
       "    </tr>\n",
       "    <tr>\n",
       "      <td>1</td>\n",
       "      <td>5df95650b081c94356d116b8</td>\n",
       "      <td>Byrd, Dante A.</td>\n",
       "      <td>43</td>\n",
       "      <td>China</td>\n",
       "      <td>31.2, 121.5</td>\n",
       "    </tr>\n",
       "    <tr>\n",
       "      <td>2</td>\n",
       "      <td>5df95650b081c94356d116c1</td>\n",
       "      <td>Carney, Tamekah I.</td>\n",
       "      <td>57</td>\n",
       "      <td>China</td>\n",
       "      <td>45.75, 126.6333</td>\n",
       "    </tr>\n",
       "    <tr>\n",
       "      <td>3</td>\n",
       "      <td>5df95650b081c94356d116ce</td>\n",
       "      <td>Mayer, Violet U.</td>\n",
       "      <td>53</td>\n",
       "      <td>China</td>\n",
       "      <td>40, 95</td>\n",
       "    </tr>\n",
       "  </tbody>\n",
       "</table>\n",
       "</div>"
      ],
      "text/plain": [
       "                        _id                Name  Age Country  \\\n",
       "0  5df95650b081c94356d11678    Holman, Hasad O.   32   China   \n",
       "1  5df95650b081c94356d116b8      Byrd, Dante A.   43   China   \n",
       "2  5df95650b081c94356d116c1  Carney, Tamekah I.   57   China   \n",
       "3  5df95650b081c94356d116ce    Mayer, Violet U.   53   China   \n",
       "\n",
       "            Location  \n",
       "0  39.9127, 116.3833  \n",
       "1        31.2, 121.5  \n",
       "2    45.75, 126.6333  \n",
       "3             40, 95  "
      ]
     },
     "execution_count": 55,
     "metadata": {},
     "output_type": "execute_result"
    }
   ],
   "source": [
    "df2"
   ]
  },
  {
   "cell_type": "code",
   "execution_count": 56,
   "metadata": {},
   "outputs": [
    {
     "name": "stdout",
     "output_type": "stream",
     "text": [
      "Folium version 0.10.1\n"
     ]
    },
    {
     "data": {
      "text/html": [
       "<div style=\"width:100%;\"><div style=\"position:relative;width:100%;height:0;padding-bottom:60%;\"><iframe src=\"data:text/html;charset=utf-8;base64,PCFET0NUWVBFIGh0bWw+CjxoZWFkPiAgICAKICAgIDxtZXRhIGh0dHAtZXF1aXY9ImNvbnRlbnQtdHlwZSIgY29udGVudD0idGV4dC9odG1sOyBjaGFyc2V0PVVURi04IiAvPgogICAgCiAgICAgICAgPHNjcmlwdD4KICAgICAgICAgICAgTF9OT19UT1VDSCA9IGZhbHNlOwogICAgICAgICAgICBMX0RJU0FCTEVfM0QgPSBmYWxzZTsKICAgICAgICA8L3NjcmlwdD4KICAgIAogICAgPHNjcmlwdCBzcmM9Imh0dHBzOi8vY2RuLmpzZGVsaXZyLm5ldC9ucG0vbGVhZmxldEAxLjUuMS9kaXN0L2xlYWZsZXQuanMiPjwvc2NyaXB0PgogICAgPHNjcmlwdCBzcmM9Imh0dHBzOi8vY29kZS5qcXVlcnkuY29tL2pxdWVyeS0xLjEyLjQubWluLmpzIj48L3NjcmlwdD4KICAgIDxzY3JpcHQgc3JjPSJodHRwczovL21heGNkbi5ib290c3RyYXBjZG4uY29tL2Jvb3RzdHJhcC8zLjIuMC9qcy9ib290c3RyYXAubWluLmpzIj48L3NjcmlwdD4KICAgIDxzY3JpcHQgc3JjPSJodHRwczovL2NkbmpzLmNsb3VkZmxhcmUuY29tL2FqYXgvbGlicy9MZWFmbGV0LmF3ZXNvbWUtbWFya2Vycy8yLjAuMi9sZWFmbGV0LmF3ZXNvbWUtbWFya2Vycy5qcyI+PC9zY3JpcHQ+CiAgICA8bGluayByZWw9InN0eWxlc2hlZXQiIGhyZWY9Imh0dHBzOi8vY2RuLmpzZGVsaXZyLm5ldC9ucG0vbGVhZmxldEAxLjUuMS9kaXN0L2xlYWZsZXQuY3NzIi8+CiAgICA8bGluayByZWw9InN0eWxlc2hlZXQiIGhyZWY9Imh0dHBzOi8vbWF4Y2RuLmJvb3RzdHJhcGNkbi5jb20vYm9vdHN0cmFwLzMuMi4wL2Nzcy9ib290c3RyYXAubWluLmNzcyIvPgogICAgPGxpbmsgcmVsPSJzdHlsZXNoZWV0IiBocmVmPSJodHRwczovL21heGNkbi5ib290c3RyYXBjZG4uY29tL2Jvb3RzdHJhcC8zLjIuMC9jc3MvYm9vdHN0cmFwLXRoZW1lLm1pbi5jc3MiLz4KICAgIDxsaW5rIHJlbD0ic3R5bGVzaGVldCIgaHJlZj0iaHR0cHM6Ly9tYXhjZG4uYm9vdHN0cmFwY2RuLmNvbS9mb250LWF3ZXNvbWUvNC42LjMvY3NzL2ZvbnQtYXdlc29tZS5taW4uY3NzIi8+CiAgICA8bGluayByZWw9InN0eWxlc2hlZXQiIGhyZWY9Imh0dHBzOi8vY2RuanMuY2xvdWRmbGFyZS5jb20vYWpheC9saWJzL0xlYWZsZXQuYXdlc29tZS1tYXJrZXJzLzIuMC4yL2xlYWZsZXQuYXdlc29tZS1tYXJrZXJzLmNzcyIvPgogICAgPGxpbmsgcmVsPSJzdHlsZXNoZWV0IiBocmVmPSJodHRwczovL3Jhd2Nkbi5naXRoYWNrLmNvbS9weXRob24tdmlzdWFsaXphdGlvbi9mb2xpdW0vbWFzdGVyL2ZvbGl1bS90ZW1wbGF0ZXMvbGVhZmxldC5hd2Vzb21lLnJvdGF0ZS5jc3MiLz4KICAgIDxzdHlsZT5odG1sLCBib2R5IHt3aWR0aDogMTAwJTtoZWlnaHQ6IDEwMCU7bWFyZ2luOiAwO3BhZGRpbmc6IDA7fTwvc3R5bGU+CiAgICA8c3R5bGU+I21hcCB7cG9zaXRpb246YWJzb2x1dGU7dG9wOjA7Ym90dG9tOjA7cmlnaHQ6MDtsZWZ0OjA7fTwvc3R5bGU+CiAgICAKICAgICAgICAgICAgPG1ldGEgbmFtZT0idmlld3BvcnQiIGNvbnRlbnQ9IndpZHRoPWRldmljZS13aWR0aCwKICAgICAgICAgICAgICAgIGluaXRpYWwtc2NhbGU9MS4wLCBtYXhpbXVtLXNjYWxlPTEuMCwgdXNlci1zY2FsYWJsZT1ubyIgLz4KICAgICAgICAgICAgPHN0eWxlPgogICAgICAgICAgICAgICAgI21hcF8yZmFjYjg3ZWFhNTM0YTU5ODI3ODcyNzlmYzlhMDUzMyB7CiAgICAgICAgICAgICAgICAgICAgcG9zaXRpb246IHJlbGF0aXZlOwogICAgICAgICAgICAgICAgICAgIHdpZHRoOiAxMDAuMCU7CiAgICAgICAgICAgICAgICAgICAgaGVpZ2h0OiAxMDAuMCU7CiAgICAgICAgICAgICAgICAgICAgbGVmdDogMC4wJTsKICAgICAgICAgICAgICAgICAgICB0b3A6IDAuMCU7CiAgICAgICAgICAgICAgICB9CiAgICAgICAgICAgIDwvc3R5bGU+CiAgICAgICAgCjwvaGVhZD4KPGJvZHk+ICAgIAogICAgCiAgICAgICAgICAgIDxkaXYgY2xhc3M9ImZvbGl1bS1tYXAiIGlkPSJtYXBfMmZhY2I4N2VhYTUzNGE1OTgyNzg3Mjc5ZmM5YTA1MzMiID48L2Rpdj4KICAgICAgICAKPC9ib2R5Pgo8c2NyaXB0PiAgICAKICAgIAogICAgICAgICAgICB2YXIgbWFwXzJmYWNiODdlYWE1MzRhNTk4Mjc4NzI3OWZjOWEwNTMzID0gTC5tYXAoCiAgICAgICAgICAgICAgICAibWFwXzJmYWNiODdlYWE1MzRhNTk4Mjc4NzI3OWZjOWEwNTMzIiwKICAgICAgICAgICAgICAgIHsKICAgICAgICAgICAgICAgICAgICBjZW50ZXI6IFszNS4wLCAxMDAuMF0sCiAgICAgICAgICAgICAgICAgICAgY3JzOiBMLkNSUy5FUFNHMzg1NywKICAgICAgICAgICAgICAgICAgICB6b29tOiA0LAogICAgICAgICAgICAgICAgICAgIHpvb21Db250cm9sOiB0cnVlLAogICAgICAgICAgICAgICAgICAgIHByZWZlckNhbnZhczogZmFsc2UsCiAgICAgICAgICAgICAgICB9CiAgICAgICAgICAgICk7CgogICAgICAgICAgICAKCiAgICAgICAgCiAgICAKICAgICAgICAgICAgdmFyIHRpbGVfbGF5ZXJfYjlhZWQ2YzdlMzBmNDE5NjgxZWIwYWVlYjhhYTAwMzAgPSBMLnRpbGVMYXllcigKICAgICAgICAgICAgICAgICJodHRwczovL3tzfS50aWxlLm9wZW5zdHJlZXRtYXAub3JnL3t6fS97eH0ve3l9LnBuZyIsCiAgICAgICAgICAgICAgICB7ImF0dHJpYnV0aW9uIjogIkRhdGEgYnkgXHUwMDI2Y29weTsgXHUwMDNjYSBocmVmPVwiaHR0cDovL29wZW5zdHJlZXRtYXAub3JnXCJcdTAwM2VPcGVuU3RyZWV0TWFwXHUwMDNjL2FcdTAwM2UsIHVuZGVyIFx1MDAzY2EgaHJlZj1cImh0dHA6Ly93d3cub3BlbnN0cmVldG1hcC5vcmcvY29weXJpZ2h0XCJcdTAwM2VPRGJMXHUwMDNjL2FcdTAwM2UuIiwgImRldGVjdFJldGluYSI6IGZhbHNlLCAibWF4TmF0aXZlWm9vbSI6IDE4LCAibWF4Wm9vbSI6IDE4LCAibWluWm9vbSI6IDAsICJub1dyYXAiOiBmYWxzZSwgIm9wYWNpdHkiOiAxLCAic3ViZG9tYWlucyI6ICJhYmMiLCAidG1zIjogZmFsc2V9CiAgICAgICAgICAgICkuYWRkVG8obWFwXzJmYWNiODdlYWE1MzRhNTk4Mjc4NzI3OWZjOWEwNTMzKTsKICAgICAgICAKICAgIAogICAgICAgICAgICB2YXIgbWFya2VyXzVmMzJjZjE5MDczMjQxYTVhMTY3NjE2MDBjYWQzNDk0ID0gTC5tYXJrZXIoCiAgICAgICAgICAgICAgICBbMzkuOTEyNywgMTE2LjM4MzNdLAogICAgICAgICAgICAgICAge30KICAgICAgICAgICAgKS5hZGRUbyhtYXBfMmZhY2I4N2VhYTUzNGE1OTgyNzg3Mjc5ZmM5YTA1MzMpOwogICAgICAgIAogICAgCiAgICAgICAgdmFyIHBvcHVwXzA3MzUyOWFkYmI0ZjRmYzhhNzlmYWQ4YWFiYzFlNzgzID0gTC5wb3B1cCh7Im1heFdpZHRoIjogIjEwMCUifSk7CgogICAgICAgIAogICAgICAgICAgICB2YXIgaHRtbF82MjJhZjQyNWZiMjE0YTBmOTU3ODljNTNkNWVkN2JiNSA9ICQoYDxkaXYgaWQ9Imh0bWxfNjIyYWY0MjVmYjIxNGEwZjk1Nzg5YzUzZDVlZDdiYjUiIHN0eWxlPSJ3aWR0aDogMTAwLjAlOyBoZWlnaHQ6IDEwMC4wJTsiPkhvbG1hbiwgSGFzYWQgTy4sIGFnZTozMjwvZGl2PmApWzBdOwogICAgICAgICAgICBwb3B1cF8wNzM1MjlhZGJiNGY0ZmM4YTc5ZmFkOGFhYmMxZTc4My5zZXRDb250ZW50KGh0bWxfNjIyYWY0MjVmYjIxNGEwZjk1Nzg5YzUzZDVlZDdiYjUpOwogICAgICAgIAoKICAgICAgICBtYXJrZXJfNWYzMmNmMTkwNzMyNDFhNWExNjc2MTYwMGNhZDM0OTQuYmluZFBvcHVwKHBvcHVwXzA3MzUyOWFkYmI0ZjRmYzhhNzlmYWQ4YWFiYzFlNzgzKQogICAgICAgIDsKCiAgICAgICAgCiAgICAKICAgIAogICAgICAgICAgICB2YXIgbWFya2VyXzE5NmY3OTM0Mzk4MjRhODRiZDIwNWJhZDQ2MTI4OWQ0ID0gTC5tYXJrZXIoCiAgICAgICAgICAgICAgICBbMzEuMiwgMTIxLjVdLAogICAgICAgICAgICAgICAge30KICAgICAgICAgICAgKS5hZGRUbyhtYXBfMmZhY2I4N2VhYTUzNGE1OTgyNzg3Mjc5ZmM5YTA1MzMpOwogICAgICAgIAogICAgCiAgICAgICAgdmFyIHBvcHVwXzk3OWNlN2NjMGQ3MzRkODA4ZGJmNTJlZjZkNTU1YzFkID0gTC5wb3B1cCh7Im1heFdpZHRoIjogIjEwMCUifSk7CgogICAgICAgIAogICAgICAgICAgICB2YXIgaHRtbF9iY2I5OThjNzViMTQ0ZDc4YjdkMTEyODg1NjE5YjM5ZiA9ICQoYDxkaXYgaWQ9Imh0bWxfYmNiOTk4Yzc1YjE0NGQ3OGI3ZDExMjg4NTYxOWIzOWYiIHN0eWxlPSJ3aWR0aDogMTAwLjAlOyBoZWlnaHQ6IDEwMC4wJTsiPkJ5cmQsIERhbnRlIEEuLCBhZ2U6NDM8L2Rpdj5gKVswXTsKICAgICAgICAgICAgcG9wdXBfOTc5Y2U3Y2MwZDczNGQ4MDhkYmY1MmVmNmQ1NTVjMWQuc2V0Q29udGVudChodG1sX2JjYjk5OGM3NWIxNDRkNzhiN2QxMTI4ODU2MTliMzlmKTsKICAgICAgICAKCiAgICAgICAgbWFya2VyXzE5NmY3OTM0Mzk4MjRhODRiZDIwNWJhZDQ2MTI4OWQ0LmJpbmRQb3B1cChwb3B1cF85NzljZTdjYzBkNzM0ZDgwOGRiZjUyZWY2ZDU1NWMxZCkKICAgICAgICA7CgogICAgICAgIAogICAgCiAgICAKICAgICAgICAgICAgdmFyIG1hcmtlcl84ZDg0YzIyOTA4ZGU0MWQ4OTZhMzlkODY4ZTZlMzA0ZCA9IEwubWFya2VyKAogICAgICAgICAgICAgICAgWzQ1Ljc1LCAxMjYuNjMzM10sCiAgICAgICAgICAgICAgICB7fQogICAgICAgICAgICApLmFkZFRvKG1hcF8yZmFjYjg3ZWFhNTM0YTU5ODI3ODcyNzlmYzlhMDUzMyk7CiAgICAgICAgCiAgICAKICAgICAgICB2YXIgcG9wdXBfMDE1ZTdmOTY3ODczNGJkY2FiOGI1NTcwNGNlN2QwMjMgPSBMLnBvcHVwKHsibWF4V2lkdGgiOiAiMTAwJSJ9KTsKCiAgICAgICAgCiAgICAgICAgICAgIHZhciBodG1sX2JjNTc5NGRmZDhlZjRlMjU5YTk1MTM3ZjdkYWVlYTAwID0gJChgPGRpdiBpZD0iaHRtbF9iYzU3OTRkZmQ4ZWY0ZTI1OWE5NTEzN2Y3ZGFlZWEwMCIgc3R5bGU9IndpZHRoOiAxMDAuMCU7IGhlaWdodDogMTAwLjAlOyI+Q2FybmV5LCBUYW1la2FoIEkuLCBhZ2U6NTc8L2Rpdj5gKVswXTsKICAgICAgICAgICAgcG9wdXBfMDE1ZTdmOTY3ODczNGJkY2FiOGI1NTcwNGNlN2QwMjMuc2V0Q29udGVudChodG1sX2JjNTc5NGRmZDhlZjRlMjU5YTk1MTM3ZjdkYWVlYTAwKTsKICAgICAgICAKCiAgICAgICAgbWFya2VyXzhkODRjMjI5MDhkZTQxZDg5NmEzOWQ4NjhlNmUzMDRkLmJpbmRQb3B1cChwb3B1cF8wMTVlN2Y5Njc4NzM0YmRjYWI4YjU1NzA0Y2U3ZDAyMykKICAgICAgICA7CgogICAgICAgIAogICAgCiAgICAKICAgICAgICAgICAgdmFyIG1hcmtlcl8zYWNjYTA0MWZhNDU0Nzk5YmM4ZTM1ZTYyZDU4ZjNiMiA9IEwubWFya2VyKAogICAgICAgICAgICAgICAgWzQwLjAsIDk1LjBdLAogICAgICAgICAgICAgICAge30KICAgICAgICAgICAgKS5hZGRUbyhtYXBfMmZhY2I4N2VhYTUzNGE1OTgyNzg3Mjc5ZmM5YTA1MzMpOwogICAgICAgIAogICAgCiAgICAgICAgdmFyIHBvcHVwXzUxYWFjMWVlZjNiNTQyMzFiYzZkNjQzMWQ0ODRkMThhID0gTC5wb3B1cCh7Im1heFdpZHRoIjogIjEwMCUifSk7CgogICAgICAgIAogICAgICAgICAgICB2YXIgaHRtbF9iNzcwM2IyMjExNzc0NjU0OTQ3MDVmYzQyOGUwOWFlMiA9ICQoYDxkaXYgaWQ9Imh0bWxfYjc3MDNiMjIxMTc3NDY1NDk0NzA1ZmM0MjhlMDlhZTIiIHN0eWxlPSJ3aWR0aDogMTAwLjAlOyBoZWlnaHQ6IDEwMC4wJTsiPk1heWVyLCBWaW9sZXQgVS4sIGFnZTo1MzwvZGl2PmApWzBdOwogICAgICAgICAgICBwb3B1cF81MWFhYzFlZWYzYjU0MjMxYmM2ZDY0MzFkNDg0ZDE4YS5zZXRDb250ZW50KGh0bWxfYjc3MDNiMjIxMTc3NDY1NDk0NzA1ZmM0MjhlMDlhZTIpOwogICAgICAgIAoKICAgICAgICBtYXJrZXJfM2FjY2EwNDFmYTQ1NDc5OWJjOGUzNWU2MmQ1OGYzYjIuYmluZFBvcHVwKHBvcHVwXzUxYWFjMWVlZjNiNTQyMzFiYzZkNjQzMWQ0ODRkMThhKQogICAgICAgIDsKCiAgICAgICAgCiAgICAKPC9zY3JpcHQ+\" style=\"position:absolute;width:100%;height:100%;left:0;top:0;border:none !important;\" allowfullscreen webkitallowfullscreen mozallowfullscreen></iframe></div></div>"
      ],
      "text/plain": [
       "<folium.folium.Map at 0x223c347c248>"
      ]
     },
     "execution_count": 56,
     "metadata": {},
     "output_type": "execute_result"
    }
   ],
   "source": [
    "import folium\n",
    "print ('Folium version ' + folium.__version__)\n",
    "\n",
    "world_map = folium.Map(location = [35, 100], zoom_start = 4)\n",
    "for i in range(len(df2)):\n",
    "    location = [float(loc) for loc in df2.Location[i].split(',')]\n",
    "    folium.Marker(location = location, popup = df2.Name[i] + ', age:' + str(df2.Age[i])).add_to(world_map)\n",
    "    \n",
    "world_map"
   ]
  },
  {
   "cell_type": "code",
   "execution_count": 63,
   "metadata": {},
   "outputs": [
    {
     "ename": "DuplicateKeyError",
     "evalue": "E11000 duplicate key error collection: mydatabase.people index: _id_ dup key: { _id: ObjectId('5df953dd9aa6e15e27f4f179') }",
     "output_type": "error",
     "traceback": [
      "\u001b[1;31m---------------------------------------------------------------------------\u001b[0m",
      "\u001b[1;31mDuplicateKeyError\u001b[0m                         Traceback (most recent call last)",
      "\u001b[1;32m<ipython-input-63-2aa3ae94f732>\u001b[0m in \u001b[0;36m<module>\u001b[1;34m\u001b[0m\n\u001b[0;32m      1\u001b[0m \u001b[0mmydict\u001b[0m \u001b[1;33m=\u001b[0m \u001b[1;33m{\u001b[0m \u001b[1;34m\"Name\"\u001b[0m\u001b[1;33m:\u001b[0m \u001b[1;34m\"John\"\u001b[0m \u001b[1;33m}\u001b[0m\u001b[1;33m\u001b[0m\u001b[1;33m\u001b[0m\u001b[0m\n\u001b[1;32m----> 2\u001b[1;33m \u001b[0mx\u001b[0m \u001b[1;33m=\u001b[0m \u001b[0mcollection\u001b[0m\u001b[1;33m.\u001b[0m\u001b[0minsert_one\u001b[0m\u001b[1;33m(\u001b[0m\u001b[0mmy_dict\u001b[0m\u001b[1;33m)\u001b[0m\u001b[1;33m\u001b[0m\u001b[1;33m\u001b[0m\u001b[0m\n\u001b[0m\u001b[0;32m      3\u001b[0m \u001b[1;33m\u001b[0m\u001b[0m\n\u001b[0;32m      4\u001b[0m \u001b[0mprint\u001b[0m\u001b[1;33m(\u001b[0m\u001b[0mx\u001b[0m\u001b[1;33m.\u001b[0m\u001b[0minserted_id\u001b[0m\u001b[1;33m)\u001b[0m\u001b[1;33m\u001b[0m\u001b[1;33m\u001b[0m\u001b[0m\n",
      "\u001b[1;32m~\\Anaconda3\\lib\\site-packages\\pymongo\\collection.py\u001b[0m in \u001b[0;36minsert_one\u001b[1;34m(self, document, bypass_document_validation, session)\u001b[0m\n\u001b[0;32m    696\u001b[0m                          \u001b[0mwrite_concern\u001b[0m\u001b[1;33m=\u001b[0m\u001b[0mwrite_concern\u001b[0m\u001b[1;33m,\u001b[0m\u001b[1;33m\u001b[0m\u001b[1;33m\u001b[0m\u001b[0m\n\u001b[0;32m    697\u001b[0m                          \u001b[0mbypass_doc_val\u001b[0m\u001b[1;33m=\u001b[0m\u001b[0mbypass_document_validation\u001b[0m\u001b[1;33m,\u001b[0m\u001b[1;33m\u001b[0m\u001b[1;33m\u001b[0m\u001b[0m\n\u001b[1;32m--> 698\u001b[1;33m                          session=session),\n\u001b[0m\u001b[0;32m    699\u001b[0m             write_concern.acknowledged)\n\u001b[0;32m    700\u001b[0m \u001b[1;33m\u001b[0m\u001b[0m\n",
      "\u001b[1;32m~\\Anaconda3\\lib\\site-packages\\pymongo\\collection.py\u001b[0m in \u001b[0;36m_insert\u001b[1;34m(self, docs, ordered, check_keys, manipulate, write_concern, op_id, bypass_doc_val, session)\u001b[0m\n\u001b[0;32m    610\u001b[0m             return self._insert_one(\n\u001b[0;32m    611\u001b[0m                 \u001b[0mdocs\u001b[0m\u001b[1;33m,\u001b[0m \u001b[0mordered\u001b[0m\u001b[1;33m,\u001b[0m \u001b[0mcheck_keys\u001b[0m\u001b[1;33m,\u001b[0m \u001b[0mmanipulate\u001b[0m\u001b[1;33m,\u001b[0m \u001b[0mwrite_concern\u001b[0m\u001b[1;33m,\u001b[0m \u001b[0mop_id\u001b[0m\u001b[1;33m,\u001b[0m\u001b[1;33m\u001b[0m\u001b[1;33m\u001b[0m\u001b[0m\n\u001b[1;32m--> 612\u001b[1;33m                 bypass_doc_val, session)\n\u001b[0m\u001b[0;32m    613\u001b[0m \u001b[1;33m\u001b[0m\u001b[0m\n\u001b[0;32m    614\u001b[0m         \u001b[0mids\u001b[0m \u001b[1;33m=\u001b[0m \u001b[1;33m[\u001b[0m\u001b[1;33m]\u001b[0m\u001b[1;33m\u001b[0m\u001b[1;33m\u001b[0m\u001b[0m\n",
      "\u001b[1;32m~\\Anaconda3\\lib\\site-packages\\pymongo\\collection.py\u001b[0m in \u001b[0;36m_insert_one\u001b[1;34m(self, doc, ordered, check_keys, manipulate, write_concern, op_id, bypass_doc_val, session)\u001b[0m\n\u001b[0;32m    598\u001b[0m \u001b[1;33m\u001b[0m\u001b[0m\n\u001b[0;32m    599\u001b[0m         self.__database.client._retryable_write(\n\u001b[1;32m--> 600\u001b[1;33m             acknowledged, _insert_command, session)\n\u001b[0m\u001b[0;32m    601\u001b[0m \u001b[1;33m\u001b[0m\u001b[0m\n\u001b[0;32m    602\u001b[0m         \u001b[1;32mif\u001b[0m \u001b[1;32mnot\u001b[0m \u001b[0misinstance\u001b[0m\u001b[1;33m(\u001b[0m\u001b[0mdoc\u001b[0m\u001b[1;33m,\u001b[0m \u001b[0mRawBSONDocument\u001b[0m\u001b[1;33m)\u001b[0m\u001b[1;33m:\u001b[0m\u001b[1;33m\u001b[0m\u001b[1;33m\u001b[0m\u001b[0m\n",
      "\u001b[1;32m~\\Anaconda3\\lib\\site-packages\\pymongo\\mongo_client.py\u001b[0m in \u001b[0;36m_retryable_write\u001b[1;34m(self, retryable, func, session)\u001b[0m\n\u001b[0;32m   1489\u001b[0m         \u001b[1;34m\"\"\"Internal retryable write helper.\"\"\"\u001b[0m\u001b[1;33m\u001b[0m\u001b[1;33m\u001b[0m\u001b[0m\n\u001b[0;32m   1490\u001b[0m         \u001b[1;32mwith\u001b[0m \u001b[0mself\u001b[0m\u001b[1;33m.\u001b[0m\u001b[0m_tmp_session\u001b[0m\u001b[1;33m(\u001b[0m\u001b[0msession\u001b[0m\u001b[1;33m)\u001b[0m \u001b[1;32mas\u001b[0m \u001b[0ms\u001b[0m\u001b[1;33m:\u001b[0m\u001b[1;33m\u001b[0m\u001b[1;33m\u001b[0m\u001b[0m\n\u001b[1;32m-> 1491\u001b[1;33m             \u001b[1;32mreturn\u001b[0m \u001b[0mself\u001b[0m\u001b[1;33m.\u001b[0m\u001b[0m_retry_with_session\u001b[0m\u001b[1;33m(\u001b[0m\u001b[0mretryable\u001b[0m\u001b[1;33m,\u001b[0m \u001b[0mfunc\u001b[0m\u001b[1;33m,\u001b[0m \u001b[0ms\u001b[0m\u001b[1;33m,\u001b[0m \u001b[1;32mNone\u001b[0m\u001b[1;33m)\u001b[0m\u001b[1;33m\u001b[0m\u001b[1;33m\u001b[0m\u001b[0m\n\u001b[0m\u001b[0;32m   1492\u001b[0m \u001b[1;33m\u001b[0m\u001b[0m\n\u001b[0;32m   1493\u001b[0m     \u001b[1;32mdef\u001b[0m \u001b[0m_reset_server\u001b[0m\u001b[1;33m(\u001b[0m\u001b[0mself\u001b[0m\u001b[1;33m,\u001b[0m \u001b[0maddress\u001b[0m\u001b[1;33m)\u001b[0m\u001b[1;33m:\u001b[0m\u001b[1;33m\u001b[0m\u001b[1;33m\u001b[0m\u001b[0m\n",
      "\u001b[1;32m~\\Anaconda3\\lib\\site-packages\\pymongo\\mongo_client.py\u001b[0m in \u001b[0;36m_retry_with_session\u001b[1;34m(self, retryable, func, session, bulk)\u001b[0m\n\u001b[0;32m   1382\u001b[0m                             \u001b[1;32mraise\u001b[0m \u001b[0mlast_error\u001b[0m\u001b[1;33m\u001b[0m\u001b[1;33m\u001b[0m\u001b[0m\n\u001b[0;32m   1383\u001b[0m                         \u001b[0mretryable\u001b[0m \u001b[1;33m=\u001b[0m \u001b[1;32mFalse\u001b[0m\u001b[1;33m\u001b[0m\u001b[1;33m\u001b[0m\u001b[0m\n\u001b[1;32m-> 1384\u001b[1;33m                     \u001b[1;32mreturn\u001b[0m \u001b[0mfunc\u001b[0m\u001b[1;33m(\u001b[0m\u001b[0msession\u001b[0m\u001b[1;33m,\u001b[0m \u001b[0msock_info\u001b[0m\u001b[1;33m,\u001b[0m \u001b[0mretryable\u001b[0m\u001b[1;33m)\u001b[0m\u001b[1;33m\u001b[0m\u001b[1;33m\u001b[0m\u001b[0m\n\u001b[0m\u001b[0;32m   1385\u001b[0m             \u001b[1;32mexcept\u001b[0m \u001b[0mServerSelectionTimeoutError\u001b[0m\u001b[1;33m:\u001b[0m\u001b[1;33m\u001b[0m\u001b[1;33m\u001b[0m\u001b[0m\n\u001b[0;32m   1386\u001b[0m                 \u001b[1;32mif\u001b[0m \u001b[0mis_retrying\u001b[0m\u001b[1;33m(\u001b[0m\u001b[1;33m)\u001b[0m\u001b[1;33m:\u001b[0m\u001b[1;33m\u001b[0m\u001b[1;33m\u001b[0m\u001b[0m\n",
      "\u001b[1;32m~\\Anaconda3\\lib\\site-packages\\pymongo\\collection.py\u001b[0m in \u001b[0;36m_insert_command\u001b[1;34m(session, sock_info, retryable_write)\u001b[0m\n\u001b[0;32m    595\u001b[0m                 retryable_write=retryable_write)\n\u001b[0;32m    596\u001b[0m \u001b[1;33m\u001b[0m\u001b[0m\n\u001b[1;32m--> 597\u001b[1;33m             \u001b[0m_check_write_command_response\u001b[0m\u001b[1;33m(\u001b[0m\u001b[0mresult\u001b[0m\u001b[1;33m)\u001b[0m\u001b[1;33m\u001b[0m\u001b[1;33m\u001b[0m\u001b[0m\n\u001b[0m\u001b[0;32m    598\u001b[0m \u001b[1;33m\u001b[0m\u001b[0m\n\u001b[0;32m    599\u001b[0m         self.__database.client._retryable_write(\n",
      "\u001b[1;32m~\\Anaconda3\\lib\\site-packages\\pymongo\\helpers.py\u001b[0m in \u001b[0;36m_check_write_command_response\u001b[1;34m(result)\u001b[0m\n\u001b[0;32m    219\u001b[0m     \u001b[0mwrite_errors\u001b[0m \u001b[1;33m=\u001b[0m \u001b[0mresult\u001b[0m\u001b[1;33m.\u001b[0m\u001b[0mget\u001b[0m\u001b[1;33m(\u001b[0m\u001b[1;34m\"writeErrors\"\u001b[0m\u001b[1;33m)\u001b[0m\u001b[1;33m\u001b[0m\u001b[1;33m\u001b[0m\u001b[0m\n\u001b[0;32m    220\u001b[0m     \u001b[1;32mif\u001b[0m \u001b[0mwrite_errors\u001b[0m\u001b[1;33m:\u001b[0m\u001b[1;33m\u001b[0m\u001b[1;33m\u001b[0m\u001b[0m\n\u001b[1;32m--> 221\u001b[1;33m         \u001b[0m_raise_last_write_error\u001b[0m\u001b[1;33m(\u001b[0m\u001b[0mwrite_errors\u001b[0m\u001b[1;33m)\u001b[0m\u001b[1;33m\u001b[0m\u001b[1;33m\u001b[0m\u001b[0m\n\u001b[0m\u001b[0;32m    222\u001b[0m \u001b[1;33m\u001b[0m\u001b[0m\n\u001b[0;32m    223\u001b[0m     \u001b[0merror\u001b[0m \u001b[1;33m=\u001b[0m \u001b[0mresult\u001b[0m\u001b[1;33m.\u001b[0m\u001b[0mget\u001b[0m\u001b[1;33m(\u001b[0m\u001b[1;34m\"writeConcernError\"\u001b[0m\u001b[1;33m)\u001b[0m\u001b[1;33m\u001b[0m\u001b[1;33m\u001b[0m\u001b[0m\n",
      "\u001b[1;32m~\\Anaconda3\\lib\\site-packages\\pymongo\\helpers.py\u001b[0m in \u001b[0;36m_raise_last_write_error\u001b[1;34m(write_errors)\u001b[0m\n\u001b[0;32m    200\u001b[0m     \u001b[0merror\u001b[0m \u001b[1;33m=\u001b[0m \u001b[0mwrite_errors\u001b[0m\u001b[1;33m[\u001b[0m\u001b[1;33m-\u001b[0m\u001b[1;36m1\u001b[0m\u001b[1;33m]\u001b[0m\u001b[1;33m\u001b[0m\u001b[1;33m\u001b[0m\u001b[0m\n\u001b[0;32m    201\u001b[0m     \u001b[1;32mif\u001b[0m \u001b[0merror\u001b[0m\u001b[1;33m.\u001b[0m\u001b[0mget\u001b[0m\u001b[1;33m(\u001b[0m\u001b[1;34m\"code\"\u001b[0m\u001b[1;33m)\u001b[0m \u001b[1;33m==\u001b[0m \u001b[1;36m11000\u001b[0m\u001b[1;33m:\u001b[0m\u001b[1;33m\u001b[0m\u001b[1;33m\u001b[0m\u001b[0m\n\u001b[1;32m--> 202\u001b[1;33m         \u001b[1;32mraise\u001b[0m \u001b[0mDuplicateKeyError\u001b[0m\u001b[1;33m(\u001b[0m\u001b[0merror\u001b[0m\u001b[1;33m.\u001b[0m\u001b[0mget\u001b[0m\u001b[1;33m(\u001b[0m\u001b[1;34m\"errmsg\"\u001b[0m\u001b[1;33m)\u001b[0m\u001b[1;33m,\u001b[0m \u001b[1;36m11000\u001b[0m\u001b[1;33m,\u001b[0m \u001b[0merror\u001b[0m\u001b[1;33m)\u001b[0m\u001b[1;33m\u001b[0m\u001b[1;33m\u001b[0m\u001b[0m\n\u001b[0m\u001b[0;32m    203\u001b[0m     \u001b[1;32mraise\u001b[0m \u001b[0mWriteError\u001b[0m\u001b[1;33m(\u001b[0m\u001b[0merror\u001b[0m\u001b[1;33m.\u001b[0m\u001b[0mget\u001b[0m\u001b[1;33m(\u001b[0m\u001b[1;34m\"errmsg\"\u001b[0m\u001b[1;33m)\u001b[0m\u001b[1;33m,\u001b[0m \u001b[0merror\u001b[0m\u001b[1;33m.\u001b[0m\u001b[0mget\u001b[0m\u001b[1;33m(\u001b[0m\u001b[1;34m\"code\"\u001b[0m\u001b[1;33m)\u001b[0m\u001b[1;33m,\u001b[0m \u001b[0merror\u001b[0m\u001b[1;33m)\u001b[0m\u001b[1;33m\u001b[0m\u001b[1;33m\u001b[0m\u001b[0m\n\u001b[0;32m    204\u001b[0m \u001b[1;33m\u001b[0m\u001b[0m\n",
      "\u001b[1;31mDuplicateKeyError\u001b[0m: E11000 duplicate key error collection: mydatabase.people index: _id_ dup key: { _id: ObjectId('5df953dd9aa6e15e27f4f179') }"
     ]
    }
   ],
   "source": [
    "mydict = { \"Name\": \"John\" }\n",
    "x = collection.insert_one(my_dict)\n",
    "\n",
    "print(x.inserted_id)"
   ]
  },
  {
   "cell_type": "code",
   "execution_count": 82,
   "metadata": {},
   "outputs": [
    {
     "name": "stdout",
     "output_type": "stream",
     "text": [
      "<pymongo.command_cursor.CommandCursor object at 0x00000223C6DB8C08>\n",
      "5df953dd9aa6e15e27f4f179\n",
      "2\n",
      "<pymongo.command_cursor.CommandCursor object at 0x00000223C6E132C8>\n"
     ]
    },
    {
     "data": {
      "text/html": [
       "<div>\n",
       "<style scoped>\n",
       "    .dataframe tbody tr th:only-of-type {\n",
       "        vertical-align: middle;\n",
       "    }\n",
       "\n",
       "    .dataframe tbody tr th {\n",
       "        vertical-align: top;\n",
       "    }\n",
       "\n",
       "    .dataframe thead th {\n",
       "        text-align: right;\n",
       "    }\n",
       "</style>\n",
       "<table border=\"1\" class=\"dataframe\">\n",
       "  <thead>\n",
       "    <tr style=\"text-align: right;\">\n",
       "      <th></th>\n",
       "    </tr>\n",
       "  </thead>\n",
       "  <tbody>\n",
       "  </tbody>\n",
       "</table>\n",
       "</div>"
      ],
      "text/plain": [
       "Empty DataFrame\n",
       "Columns: []\n",
       "Index: []"
      ]
     },
     "execution_count": 82,
     "metadata": {},
     "output_type": "execute_result"
    }
   ],
   "source": [
    "# pipeline = [\n",
    "#         {\"$group\": {\"_id\":\"$Country\",\n",
    "#              \"AvgAge\":{\"$avg\":\"$Age\"},\n",
    "#              \"Count\":{\"$sum\":1},\n",
    "#         }},\n",
    "#         {\"$sort\":{\"Count\":-1,\"AvgAge\":1}}\n",
    "# ]\n",
    "# pipeline = [\n",
    "#     {\"$group\":{\"_id\":\"$Name\",\"count\":{\"$sum\":1},}}\n",
    "# ]\n",
    "pipeline = [\n",
    "        {\"$match\": {\"name\":{\"$regex\":\"^Peter\"}},},\n",
    "]\n",
    "aggResult = mycol.aggregate(pipeline)\n",
    "print(aggResult)\n",
    "df2 = pd.DataFrame(list(aggResult))\n",
    "for record in df2.iterrows():\n",
    "    print(record[1]['_id'])\n",
    "    mycol.delete_one({'_id':record[1]['_id']})\n",
    "df2.head()\n",
    "pipeline = [\n",
    "        {\"$match\": {\"name\":{\"$regex\":\"^Peter\"}},},\n",
    "]\n",
    "aggResult = mycol.aggregate(pipeline)\n",
    "print(aggResult)\n",
    "df2 = pd.DataFrame(list(aggResult))\n",
    "\n",
    "df2.head()"
   ]
  },
  {
   "cell_type": "code",
   "execution_count": 165,
   "metadata": {},
   "outputs": [
    {
     "data": {
      "text/html": [
       "<div>\n",
       "<style scoped>\n",
       "    .dataframe tbody tr th:only-of-type {\n",
       "        vertical-align: middle;\n",
       "    }\n",
       "\n",
       "    .dataframe tbody tr th {\n",
       "        vertical-align: top;\n",
       "    }\n",
       "\n",
       "    .dataframe thead th {\n",
       "        text-align: right;\n",
       "    }\n",
       "</style>\n",
       "<table border=\"1\" class=\"dataframe\">\n",
       "  <thead>\n",
       "    <tr style=\"text-align: right;\">\n",
       "      <th></th>\n",
       "      <th>_id</th>\n",
       "      <th>Name</th>\n",
       "      <th>Age</th>\n",
       "      <th>Country</th>\n",
       "      <th>Location</th>\n",
       "    </tr>\n",
       "  </thead>\n",
       "  <tbody>\n",
       "    <tr>\n",
       "      <td>0</td>\n",
       "      <td>5df8998c75b4fb784606f54c</td>\n",
       "      <td>Holman, Hasad O.</td>\n",
       "      <td>32</td>\n",
       "      <td>China</td>\n",
       "      <td>39.9127, 116.3833</td>\n",
       "    </tr>\n",
       "    <tr>\n",
       "      <td>1</td>\n",
       "      <td>5df8998c75b4fb784606f58b</td>\n",
       "      <td>Byrd, Dante A.</td>\n",
       "      <td>43</td>\n",
       "      <td>China</td>\n",
       "      <td>31.2, 121.5</td>\n",
       "    </tr>\n",
       "    <tr>\n",
       "      <td>2</td>\n",
       "      <td>5df8998c75b4fb784606f593</td>\n",
       "      <td>Carney, Tamekah I.</td>\n",
       "      <td>57</td>\n",
       "      <td>China</td>\n",
       "      <td>45.75, 126.6333</td>\n",
       "    </tr>\n",
       "    <tr>\n",
       "      <td>3</td>\n",
       "      <td>5df8998c75b4fb784606f59f</td>\n",
       "      <td>Mayer, Violet U.</td>\n",
       "      <td>53</td>\n",
       "      <td>China</td>\n",
       "      <td>40, 95</td>\n",
       "    </tr>\n",
       "  </tbody>\n",
       "</table>\n",
       "</div>"
      ],
      "text/plain": [
       "                        _id                Name  Age Country  \\\n",
       "0  5df8998c75b4fb784606f54c    Holman, Hasad O.   32   China   \n",
       "1  5df8998c75b4fb784606f58b      Byrd, Dante A.   43   China   \n",
       "2  5df8998c75b4fb784606f593  Carney, Tamekah I.   57   China   \n",
       "3  5df8998c75b4fb784606f59f    Mayer, Violet U.   53   China   \n",
       "\n",
       "            Location  \n",
       "0  39.9127, 116.3833  \n",
       "1        31.2, 121.5  \n",
       "2    45.75, 126.6333  \n",
       "3             40, 95  "
      ]
     },
     "execution_count": 165,
     "metadata": {},
     "output_type": "execute_result"
    }
   ],
   "source": [
    "pipeline = [\n",
    "        {\"$match\": {\"Country\":\"China\"}},\n",
    "]\n",
    "aggResult = collection.aggregate(pipeline)\n",
    "df2 = pd.DataFrame(list(aggResult))\n",
    "df2.head()"
   ]
  },
  {
   "cell_type": "code",
   "execution_count": 69,
   "metadata": {},
   "outputs": [
    {
     "name": "stdout",
     "output_type": "stream",
     "text": [
      "{'_id': ObjectId('5df953dd9aa6e15e27f4f179'), 'name': 'Peter', 'address': 'Lowstreet 27'}\n",
      "{'_id': 2, 'name': 'Peter', 'address': 'Lowstreet 27'}\n"
     ]
    }
   ],
   "source": [
    "myquery = { \"name\": { \"$regex\": \"^Peter\" } }\n",
    "cursor = mycol.find(myquery)\n",
    "#print(cursor)\n",
    "for doc in cursor:\n",
    "    print (doc)"
   ]
  },
  {
   "cell_type": "code",
   "execution_count": 83,
   "metadata": {},
   "outputs": [
    {
     "name": "stdout",
     "output_type": "stream",
     "text": [
      "index response: name_1_addres_1\n"
     ]
    }
   ],
   "source": [
    "resp = mycol.create_index(\n",
    "[\n",
    "(\"name\", 1),\n",
    "(\"addres\", 1)\n",
    "]\n",
    ")\n",
    "\n",
    "print (\"index response:\", resp)"
   ]
  },
  {
   "cell_type": "code",
   "execution_count": 84,
   "metadata": {},
   "outputs": [
    {
     "data": {
      "text/plain": [
       "'search_index'"
      ]
     },
     "execution_count": 84,
     "metadata": {},
     "output_type": "execute_result"
    }
   ],
   "source": [
    "mycol.create_index([('name', pymongo.TEXT),('address',pymongo.TEXT)], name='search_index', default_language='english')"
   ]
  },
  {
   "cell_type": "code",
   "execution_count": 85,
   "metadata": {},
   "outputs": [
    {
     "ename": "NameError",
     "evalue": "name 'search_index' is not defined",
     "output_type": "error",
     "traceback": [
      "\u001b[1;31m---------------------------------------------------------------------------\u001b[0m",
      "\u001b[1;31mNameError\u001b[0m                                 Traceback (most recent call last)",
      "\u001b[1;32m<ipython-input-85-d19c2e9d288d>\u001b[0m in \u001b[0;36m<module>\u001b[1;34m\u001b[0m\n\u001b[1;32m----> 1\u001b[1;33m \u001b[0mprint\u001b[0m\u001b[1;33m(\u001b[0m\u001b[0msearch_index\u001b[0m\u001b[1;33m)\u001b[0m\u001b[1;33m\u001b[0m\u001b[1;33m\u001b[0m\u001b[0m\n\u001b[0m",
      "\u001b[1;31mNameError\u001b[0m: name 'search_index' is not defined"
     ]
    }
   ],
   "source": [
    "print(search_index)"
   ]
  },
  {
   "cell_type": "code",
   "execution_count": null,
   "metadata": {},
   "outputs": [],
   "source": []
  }
 ],
 "metadata": {
  "kernelspec": {
   "display_name": "Python 3",
   "language": "python",
   "name": "python3"
  },
  "language_info": {
   "codemirror_mode": {
    "name": "ipython",
    "version": 3
   },
   "file_extension": ".py",
   "mimetype": "text/x-python",
   "name": "python",
   "nbconvert_exporter": "python",
   "pygments_lexer": "ipython3",
   "version": "3.7.4"
  }
 },
 "nbformat": 4,
 "nbformat_minor": 2
}
