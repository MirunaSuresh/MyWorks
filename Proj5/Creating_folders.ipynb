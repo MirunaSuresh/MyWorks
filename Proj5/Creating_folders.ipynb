{
 "cells": [
  {
   "cell_type": "code",
   "execution_count": 163,
   "metadata": {},
   "outputs": [],
   "source": [
    "%matplotlib inline\n",
    "import matplotlib.pyplot as plt\n",
    "import numpy as np\n",
    "import pandas as pd\n",
    "import os\n",
    "import glob\n",
    "import matplotlib.image as mpimg\n",
    "from skimage.transform import resize\n",
    "from sklearn.model_selection import train_test_split\n",
    "import shutil"
   ]
  },
  {
   "cell_type": "code",
   "execution_count": 158,
   "metadata": {},
   "outputs": [],
   "source": [
    "#Actinic keratoses and intraepithelial carcinoma / Bowen's disease (akiec) \n",
    "# basal cell carcinoma (bcc)\n",
    "# benign keratosis-like lesions (solar lentigines / seborrheic keratoses and lichen-planus like keratoses, bkl)\n",
    "# dermatofibroma (df)\n",
    "# melanoma (mel)\n",
    "# melanocytic nevi (nv) \n",
    "# vascular lesions (angiomas, angiokeratomas, pyogenic granulomas and hemorrhage, vasc)\n",
    "\n",
    "lesion_types = {\n",
    "    'akiec': 'Actinic keratoses',\n",
    "    'bcc': 'Basal cell carcinoma',\n",
    "    'bkl': 'Benign keratosis-like lesions ',\n",
    "    'df': 'Dermatofibroma',\n",
    "    'mel': 'Melanoma',\n",
    "     'nv': 'Melanocytic nevi',\n",
    "    'vasc': 'Vascular lesions'\n",
    "}"
   ]
  },
  {
   "cell_type": "code",
   "execution_count": 159,
   "metadata": {},
   "outputs": [],
   "source": [
    "skin_df = pd.read_csv(\"skin.csv\")"
   ]
  },
  {
   "cell_type": "code",
   "execution_count": 160,
   "metadata": {},
   "outputs": [
    {
     "data": {
      "text/html": [
       "<div>\n",
       "<style scoped>\n",
       "    .dataframe tbody tr th:only-of-type {\n",
       "        vertical-align: middle;\n",
       "    }\n",
       "\n",
       "    .dataframe tbody tr th {\n",
       "        vertical-align: top;\n",
       "    }\n",
       "\n",
       "    .dataframe thead th {\n",
       "        text-align: right;\n",
       "    }\n",
       "</style>\n",
       "<table border=\"1\" class=\"dataframe\">\n",
       "  <thead>\n",
       "    <tr style=\"text-align: right;\">\n",
       "      <th></th>\n",
       "      <th>Unnamed: 0</th>\n",
       "      <th>lesion_id</th>\n",
       "      <th>image_id</th>\n",
       "      <th>dx_type</th>\n",
       "      <th>age</th>\n",
       "      <th>sex</th>\n",
       "      <th>localization</th>\n",
       "      <th>image_path</th>\n",
       "      <th>dx</th>\n",
       "      <th>target</th>\n",
       "    </tr>\n",
       "  </thead>\n",
       "  <tbody>\n",
       "    <tr>\n",
       "      <td>0</td>\n",
       "      <td>0</td>\n",
       "      <td>HAM_0000118</td>\n",
       "      <td>ISIC_0027419</td>\n",
       "      <td>histo</td>\n",
       "      <td>80.0</td>\n",
       "      <td>male</td>\n",
       "      <td>scalp</td>\n",
       "      <td>HAM10000_images_part_1\\ISIC_0027419.jpg</td>\n",
       "      <td>bkl</td>\n",
       "      <td>2</td>\n",
       "    </tr>\n",
       "    <tr>\n",
       "      <td>1</td>\n",
       "      <td>1</td>\n",
       "      <td>HAM_0000118</td>\n",
       "      <td>ISIC_0025030</td>\n",
       "      <td>histo</td>\n",
       "      <td>80.0</td>\n",
       "      <td>male</td>\n",
       "      <td>scalp</td>\n",
       "      <td>HAM10000_images_part_1\\ISIC_0025030.jpg</td>\n",
       "      <td>bkl</td>\n",
       "      <td>2</td>\n",
       "    </tr>\n",
       "    <tr>\n",
       "      <td>2</td>\n",
       "      <td>2</td>\n",
       "      <td>HAM_0002730</td>\n",
       "      <td>ISIC_0026769</td>\n",
       "      <td>histo</td>\n",
       "      <td>80.0</td>\n",
       "      <td>male</td>\n",
       "      <td>scalp</td>\n",
       "      <td>HAM10000_images_part_1\\ISIC_0026769.jpg</td>\n",
       "      <td>bkl</td>\n",
       "      <td>2</td>\n",
       "    </tr>\n",
       "    <tr>\n",
       "      <td>3</td>\n",
       "      <td>3</td>\n",
       "      <td>HAM_0002730</td>\n",
       "      <td>ISIC_0025661</td>\n",
       "      <td>histo</td>\n",
       "      <td>80.0</td>\n",
       "      <td>male</td>\n",
       "      <td>scalp</td>\n",
       "      <td>HAM10000_images_part_1\\ISIC_0025661.jpg</td>\n",
       "      <td>bkl</td>\n",
       "      <td>2</td>\n",
       "    </tr>\n",
       "    <tr>\n",
       "      <td>4</td>\n",
       "      <td>4</td>\n",
       "      <td>HAM_0001466</td>\n",
       "      <td>ISIC_0031633</td>\n",
       "      <td>histo</td>\n",
       "      <td>75.0</td>\n",
       "      <td>male</td>\n",
       "      <td>ear</td>\n",
       "      <td>HAM10000_images_part_2\\ISIC_0031633.jpg</td>\n",
       "      <td>bkl</td>\n",
       "      <td>2</td>\n",
       "    </tr>\n",
       "  </tbody>\n",
       "</table>\n",
       "</div>"
      ],
      "text/plain": [
       "   Unnamed: 0    lesion_id      image_id dx_type   age   sex localization  \\\n",
       "0           0  HAM_0000118  ISIC_0027419   histo  80.0  male        scalp   \n",
       "1           1  HAM_0000118  ISIC_0025030   histo  80.0  male        scalp   \n",
       "2           2  HAM_0002730  ISIC_0026769   histo  80.0  male        scalp   \n",
       "3           3  HAM_0002730  ISIC_0025661   histo  80.0  male        scalp   \n",
       "4           4  HAM_0001466  ISIC_0031633   histo  75.0  male          ear   \n",
       "\n",
       "                                image_path   dx  target  \n",
       "0  HAM10000_images_part_1\\ISIC_0027419.jpg  bkl       2  \n",
       "1  HAM10000_images_part_1\\ISIC_0025030.jpg  bkl       2  \n",
       "2  HAM10000_images_part_1\\ISIC_0026769.jpg  bkl       2  \n",
       "3  HAM10000_images_part_1\\ISIC_0025661.jpg  bkl       2  \n",
       "4  HAM10000_images_part_2\\ISIC_0031633.jpg  bkl       2  "
      ]
     },
     "execution_count": 160,
     "metadata": {},
     "output_type": "execute_result"
    }
   ],
   "source": [
    "skin_df.head()"
   ]
  },
  {
   "cell_type": "code",
   "execution_count": 161,
   "metadata": {},
   "outputs": [
    {
     "data": {
      "text/plain": [
       "nv       6705\n",
       "mel      1113\n",
       "bkl      1099\n",
       "bcc       514\n",
       "akiec     327\n",
       "vasc      142\n",
       "df        115\n",
       "Name: dx, dtype: int64"
      ]
     },
     "execution_count": 161,
     "metadata": {},
     "output_type": "execute_result"
    }
   ],
   "source": [
    "skin_df['dx'].value_counts()"
   ]
  },
  {
   "cell_type": "code",
   "execution_count": 162,
   "metadata": {},
   "outputs": [],
   "source": [
    "\n",
    "# lesion_types = {\n",
    "#     'akiec': 'Actinic keratoses',\n",
    "#     'bcc': 'Basal cell carcinoma',\n",
    "#     'bkl': 'Benign keratosis-like lesions ',\n",
    "#     'df': 'Dermatofibroma',\n",
    "#     'mel': 'Melanoma',\n",
    "#      'nv': 'Melanocytic nevi',\n",
    "#     'vasc': 'Vascular lesions'\n",
    "# }\n",
    "# melanocytic nevi                  883\n",
    "# Benign keratosis-like lesions      88\n",
    "# dermatofibroma                     46\n",
    "# Basal cell carcinoma               35\n",
    "# Actinic keratoses                  30\n",
    "# Vascular lesions                   13\n",
    "# Dermatofibroma                      8\n",
    "# [15,10,5,50,0,40,5]\n",
    "# data_aug_rate = [['akiec',20], ['bcc',15],[ 'bkl',5], ['df',40], ['mel',8], ['nv',0], ['vasc',30]]\n",
    "# print(data_aug_rate[0][1])\n",
    "# #print([skin_df.loc[skin_df['dx'] == data_aug_rate[0][0],:]]*(data_aug_rate[0][1]-1))\n",
    "# for i in range(7):\n",
    "#     if data_aug_rate[i][1]:\n",
    "#         skin_df=skin_df.append([skin_df.loc[skin_df['dx'] == data_aug_rate[i][0],:]]*(data_aug_rate[i][1]-1), ignore_index=True)\n",
    "# skin_df['dx'].value_counts()"
   ]
  },
  {
   "cell_type": "code",
   "execution_count": 164,
   "metadata": {},
   "outputs": [],
   "source": [
    "\n",
    "train,test=train_test_split(skin_df, test_size=0.1, random_state=42)"
   ]
  },
  {
   "cell_type": "code",
   "execution_count": 165,
   "metadata": {},
   "outputs": [],
   "source": [
    "train,val=train_test_split(train, test_size=0.1, random_state=42)"
   ]
  },
  {
   "cell_type": "code",
   "execution_count": 166,
   "metadata": {},
   "outputs": [
    {
     "data": {
      "text/plain": [
       "(1002, 10)"
      ]
     },
     "execution_count": 166,
     "metadata": {},
     "output_type": "execute_result"
    }
   ],
   "source": [
    "test.shape"
   ]
  },
  {
   "cell_type": "code",
   "execution_count": 167,
   "metadata": {},
   "outputs": [
    {
     "data": {
      "text/plain": [
       "(902, 10)"
      ]
     },
     "execution_count": 167,
     "metadata": {},
     "output_type": "execute_result"
    }
   ],
   "source": [
    "val.shape"
   ]
  },
  {
   "cell_type": "code",
   "execution_count": 168,
   "metadata": {},
   "outputs": [
    {
     "data": {
      "text/plain": [
       "(8111, 10)"
      ]
     },
     "execution_count": 168,
     "metadata": {},
     "output_type": "execute_result"
    }
   ],
   "source": [
    "train.shape"
   ]
  },
  {
   "cell_type": "code",
   "execution_count": 169,
   "metadata": {},
   "outputs": [
    {
     "data": {
      "text/plain": [
       "nv       5465\n",
       "mel       894\n",
       "bkl       879\n",
       "bcc       417\n",
       "akiec     248\n",
       "vasc      115\n",
       "df         93\n",
       "Name: dx, dtype: int64"
      ]
     },
     "execution_count": 169,
     "metadata": {},
     "output_type": "execute_result"
    }
   ],
   "source": [
    "train['dx'].value_counts()"
   ]
  },
  {
   "cell_type": "code",
   "execution_count": 170,
   "metadata": {},
   "outputs": [
    {
     "data": {
      "text/plain": [
       "[Text(0, 0.5, 'Number of samples in each type'),\n",
       " Text(0.5, 0, 'Type of lesion'),\n",
       " Text(0.5, 1.0, 'Number of samples of each lesion type')]"
      ]
     },
     "execution_count": 170,
     "metadata": {},
     "output_type": "execute_result"
    },
    {
     "data": {
      "image/png": "[encoded data removed]",
      "text/plain": [
       "<Figure size 432x288 with 1 Axes>"
      ]
     },
     "metadata": {
      "needs_background": "light"
     },
     "output_type": "display_data"
    }
   ],
   "source": [
    "train.groupby(['dx'])['lesion_id'].count().plot(kind='bar').set(title='Number of samples of each lesion type',xlabel='Type of lesion',ylabel='Number of samples in each type')"
   ]
  },
  {
   "cell_type": "code",
   "execution_count": 171,
   "metadata": {},
   "outputs": [
    {
     "data": {
      "text/plain": [
       "0    2\n",
       "dtype: int64"
      ]
     },
     "execution_count": 171,
     "metadata": {},
     "output_type": "execute_result"
    }
   ],
   "source": [
    "#skin_df.loc['HAM10000_images_part_1\\ISIC_0027419.jpg']\n",
    "skin_df.loc[skin_df['image_id'] == 'ISIC_0027419']['target'].mode()"
   ]
  },
  {
   "cell_type": "code",
   "execution_count": 172,
   "metadata": {},
   "outputs": [],
   "source": [
    "os.mkdir('train')\n",
    "os.mkdir('test')\n",
    "os.mkdir('val')"
   ]
  },
  {
   "cell_type": "code",
   "execution_count": 173,
   "metadata": {},
   "outputs": [],
   "source": [
    "nv = os.path.join('train', 'nv')\n",
    "os.mkdir(nv)\n",
    "mel = os.path.join('train', 'mel')\n",
    "os.mkdir(mel)\n",
    "bkl = os.path.join('train', 'bkl')\n",
    "os.mkdir(bkl)\n",
    "bcc = os.path.join('train', 'bcc')\n",
    "os.mkdir(bcc)\n",
    "akiec = os.path.join('train', 'akiec')\n",
    "os.mkdir(akiec)\n",
    "vasc = os.path.join('train', 'vasc')\n",
    "os.mkdir(vasc)\n",
    "df = os.path.join('train', 'df')\n",
    "os.mkdir(df)"
   ]
  },
  {
   "cell_type": "code",
   "execution_count": 174,
   "metadata": {},
   "outputs": [],
   "source": [
    "\n",
    "folder_1 = os.listdir('HAM10000_images_part_1')\n",
    "folder_2 = os.listdir('HAM10000_images_part_2')\n",
    "\n",
    "\n",
    "train_list = list(train['image_path'])\n",
    "train_list_target = list(train['dx'])\n",
    "val_list = list(val['image_path'])\n",
    "test_list = list(test['image_path'])\n",
    "\n"
   ]
  },
  {
   "cell_type": "code",
   "execution_count": 175,
   "metadata": {},
   "outputs": [],
   "source": [
    "for i in range(len(train_list)):\n",
    "    \n",
    "    fname = train_list[i] \n",
    "    label = train_list_target[i] #skin_df.loc[skin_df['image_id'] == 'ISIC_0027419']['dx'].mode()\n",
    "    dst = os.path.join('train', label,os.path.split(fname)[1])\n",
    "    shutil.copyfile(train_list[i] , dst)\n"
   ]
  },
  {
   "cell_type": "code",
   "execution_count": 176,
   "metadata": {},
   "outputs": [],
   "source": [
    "for i in range(len(val_list)):\n",
    "    dest= os.path.join('val', os.path.split(val_list[i])[1] )\n",
    "    shutil.copyfile(val_list[i] , dest)"
   ]
  },
  {
   "cell_type": "code",
   "execution_count": 177,
   "metadata": {},
   "outputs": [],
   "source": [
    "\n",
    "for i in range(len(test_list)):\n",
    "    dest= os.path.join('test', os.path.split(test_list[i])[1] )\n",
    "    shutil.copyfile(test_list[i] , dest)"
   ]
  },
  {
   "cell_type": "code",
   "execution_count": 178,
   "metadata": {},
   "outputs": [
    {
     "data": {
      "text/plain": [
       "'HAM10000_images_part_1\\\\ISIC_0024581.jpg'"
      ]
     },
     "execution_count": 178,
     "metadata": {},
     "output_type": "execute_result"
    }
   ],
   "source": [
    "train_list[0]"
   ]
  },
  {
   "cell_type": "code",
   "execution_count": 179,
   "metadata": {},
   "outputs": [
    {
     "data": {
      "text/plain": [
       "'bkl'"
      ]
     },
     "execution_count": 179,
     "metadata": {},
     "output_type": "execute_result"
    }
   ],
   "source": [
    "train_list_target[0]"
   ]
  },
  {
   "cell_type": "code",
   "execution_count": 180,
   "metadata": {},
   "outputs": [
    {
     "data": {
      "text/plain": [
       "'train\\\\bkl'"
      ]
     },
     "execution_count": 180,
     "metadata": {},
     "output_type": "execute_result"
    }
   ],
   "source": [
    "os.path.join('train', train_list_target[0])"
   ]
  },
  {
   "cell_type": "code",
   "execution_count": 181,
   "metadata": {},
   "outputs": [
    {
     "data": {
      "text/plain": [
       "'val\\\\ISIC_0029046.jpg'"
      ]
     },
     "execution_count": 181,
     "metadata": {},
     "output_type": "execute_result"
    }
   ],
   "source": [
    "shutil.copyfile(val_list[0],os.path.join('val', os.path.split(val_list[0])[1] ))"
   ]
  },
  {
   "cell_type": "code",
   "execution_count": 182,
   "metadata": {},
   "outputs": [
    {
     "data": {
      "text/plain": [
       "'HAM10000_images_part_1'"
      ]
     },
     "execution_count": 182,
     "metadata": {},
     "output_type": "execute_result"
    }
   ],
   "source": [
    "os.path.split(train_list[0]\n",
    "             )[0\n",
    "              ]"
   ]
  },
  {
   "cell_type": "code",
   "execution_count": 183,
   "metadata": {},
   "outputs": [],
   "source": [
    "des=os.path.join('train', train_list_target[0],os.path.split(train_list[0])[1])"
   ]
  },
  {
   "cell_type": "code",
   "execution_count": 184,
   "metadata": {},
   "outputs": [
    {
     "data": {
      "text/plain": [
       "8111"
      ]
     },
     "execution_count": 184,
     "metadata": {},
     "output_type": "execute_result"
    }
   ],
   "source": [
    "len(train_list)"
   ]
  },
  {
   "cell_type": "code",
   "execution_count": null,
   "metadata": {},
   "outputs": [],
   "source": []
  }
 ],
 "metadata": {
  "kernelspec": {
   "display_name": "Python 3",
   "language": "python",
   "name": "python3"
  },
  "language_info": {
   "codemirror_mode": {
    "name": "ipython",
    "version": 3
   },
   "file_extension": ".py",
   "mimetype": "text/x-python",
   "name": "python",
   "nbconvert_exporter": "python",
   "pygments_lexer": "ipython3",
   "version": "3.7.4"
  }
 },
 "nbformat": 4,
 "nbformat_minor": 2
}
