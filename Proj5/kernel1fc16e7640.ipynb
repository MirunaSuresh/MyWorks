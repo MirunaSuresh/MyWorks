{
 "cells": [
  {
   "cell_type": "code",
   "execution_count": 1,
   "metadata": {
    "_cell_guid": "b1076dfc-b9ad-4769-8c92-a6c4dae69d19",
    "_uuid": "8f2839f25d086af736a60e9eeb907d3b93b6e0e5"
   },
   "outputs": [],
   "source": [
    "\n",
    "import numpy as np # linear algebra\n",
    "import pandas as pd # data processing, CSV file I/O (e.g. pd.read_csv)\n",
    "\n",
    "\n",
    "import os\n"
   ]
  },
  {
   "cell_type": "code",
   "execution_count": 2,
   "metadata": {
    "_cell_guid": "",
    "_uuid": ""
   },
   "outputs": [],
   "source": [
    "skin_df = pd.read_csv(\"/kaggle/input/skindata/skin.csv\")"
   ]
  },
  {
   "cell_type": "code",
   "execution_count": 3,
   "metadata": {},
   "outputs": [
    {
     "data": {
      "text/html": [
       "<div>\n",
       "<style scoped>\n",
       "    .dataframe tbody tr th:only-of-type {\n",
       "        vertical-align: middle;\n",
       "    }\n",
       "\n",
       "    .dataframe tbody tr th {\n",
       "        vertical-align: top;\n",
       "    }\n",
       "\n",
       "    .dataframe thead th {\n",
       "        text-align: right;\n",
       "    }\n",
       "</style>\n",
       "<table border=\"1\" class=\"dataframe\">\n",
       "  <thead>\n",
       "    <tr style=\"text-align: right;\">\n",
       "      <th></th>\n",
       "      <th>Unnamed: 0</th>\n",
       "      <th>lesion_id</th>\n",
       "      <th>image_id</th>\n",
       "      <th>dx_type</th>\n",
       "      <th>age</th>\n",
       "      <th>sex</th>\n",
       "      <th>localization</th>\n",
       "      <th>image_path</th>\n",
       "      <th>dx</th>\n",
       "      <th>target</th>\n",
       "    </tr>\n",
       "  </thead>\n",
       "  <tbody>\n",
       "    <tr>\n",
       "      <th>0</th>\n",
       "      <td>0</td>\n",
       "      <td>HAM_0000118</td>\n",
       "      <td>ISIC_0027419</td>\n",
       "      <td>histo</td>\n",
       "      <td>80.0</td>\n",
       "      <td>male</td>\n",
       "      <td>scalp</td>\n",
       "      <td>train_all\\ISIC_0027419.jpg</td>\n",
       "      <td>bkl</td>\n",
       "      <td>2</td>\n",
       "    </tr>\n",
       "    <tr>\n",
       "      <th>1</th>\n",
       "      <td>1</td>\n",
       "      <td>HAM_0000118</td>\n",
       "      <td>ISIC_0025030</td>\n",
       "      <td>histo</td>\n",
       "      <td>80.0</td>\n",
       "      <td>male</td>\n",
       "      <td>scalp</td>\n",
       "      <td>train_all\\ISIC_0025030.jpg</td>\n",
       "      <td>bkl</td>\n",
       "      <td>2</td>\n",
       "    </tr>\n",
       "    <tr>\n",
       "      <th>2</th>\n",
       "      <td>2</td>\n",
       "      <td>HAM_0002730</td>\n",
       "      <td>ISIC_0026769</td>\n",
       "      <td>histo</td>\n",
       "      <td>80.0</td>\n",
       "      <td>male</td>\n",
       "      <td>scalp</td>\n",
       "      <td>train_all\\ISIC_0026769.jpg</td>\n",
       "      <td>bkl</td>\n",
       "      <td>2</td>\n",
       "    </tr>\n",
       "    <tr>\n",
       "      <th>3</th>\n",
       "      <td>3</td>\n",
       "      <td>HAM_0002730</td>\n",
       "      <td>ISIC_0025661</td>\n",
       "      <td>histo</td>\n",
       "      <td>80.0</td>\n",
       "      <td>male</td>\n",
       "      <td>scalp</td>\n",
       "      <td>train_all\\ISIC_0025661.jpg</td>\n",
       "      <td>bkl</td>\n",
       "      <td>2</td>\n",
       "    </tr>\n",
       "    <tr>\n",
       "      <th>4</th>\n",
       "      <td>4</td>\n",
       "      <td>HAM_0001466</td>\n",
       "      <td>ISIC_0031633</td>\n",
       "      <td>histo</td>\n",
       "      <td>75.0</td>\n",
       "      <td>male</td>\n",
       "      <td>ear</td>\n",
       "      <td>train_all\\ISIC_0031633.jpg</td>\n",
       "      <td>bkl</td>\n",
       "      <td>2</td>\n",
       "    </tr>\n",
       "  </tbody>\n",
       "</table>\n",
       "</div>"
      ],
      "text/plain": [
       "   Unnamed: 0    lesion_id      image_id dx_type   age   sex localization  \\\n",
       "0           0  HAM_0000118  ISIC_0027419   histo  80.0  male        scalp   \n",
       "1           1  HAM_0000118  ISIC_0025030   histo  80.0  male        scalp   \n",
       "2           2  HAM_0002730  ISIC_0026769   histo  80.0  male        scalp   \n",
       "3           3  HAM_0002730  ISIC_0025661   histo  80.0  male        scalp   \n",
       "4           4  HAM_0001466  ISIC_0031633   histo  75.0  male          ear   \n",
       "\n",
       "                   image_path   dx  target  \n",
       "0  train_all\\ISIC_0027419.jpg  bkl       2  \n",
       "1  train_all\\ISIC_0025030.jpg  bkl       2  \n",
       "2  train_all\\ISIC_0026769.jpg  bkl       2  \n",
       "3  train_all\\ISIC_0025661.jpg  bkl       2  \n",
       "4  train_all\\ISIC_0031633.jpg  bkl       2  "
      ]
     },
     "execution_count": 3,
     "metadata": {},
     "output_type": "execute_result"
    }
   ],
   "source": [
    "skin_df.head()"
   ]
  },
  {
   "cell_type": "code",
   "execution_count": 4,
   "metadata": {},
   "outputs": [],
   "source": [
    "skin_df['image_id']=skin_df['image_id']+'.jpg'"
   ]
  },
  {
   "cell_type": "code",
   "execution_count": 5,
   "metadata": {},
   "outputs": [
    {
     "data": {
      "text/html": [
       "<div>\n",
       "<style scoped>\n",
       "    .dataframe tbody tr th:only-of-type {\n",
       "        vertical-align: middle;\n",
       "    }\n",
       "\n",
       "    .dataframe tbody tr th {\n",
       "        vertical-align: top;\n",
       "    }\n",
       "\n",
       "    .dataframe thead th {\n",
       "        text-align: right;\n",
       "    }\n",
       "</style>\n",
       "<table border=\"1\" class=\"dataframe\">\n",
       "  <thead>\n",
       "    <tr style=\"text-align: right;\">\n",
       "      <th></th>\n",
       "      <th>Unnamed: 0</th>\n",
       "      <th>lesion_id</th>\n",
       "      <th>image_id</th>\n",
       "      <th>dx_type</th>\n",
       "      <th>age</th>\n",
       "      <th>sex</th>\n",
       "      <th>localization</th>\n",
       "      <th>image_path</th>\n",
       "      <th>dx</th>\n",
       "      <th>target</th>\n",
       "    </tr>\n",
       "  </thead>\n",
       "  <tbody>\n",
       "    <tr>\n",
       "      <th>0</th>\n",
       "      <td>0</td>\n",
       "      <td>HAM_0000118</td>\n",
       "      <td>ISIC_0027419.jpg</td>\n",
       "      <td>histo</td>\n",
       "      <td>80.0</td>\n",
       "      <td>male</td>\n",
       "      <td>scalp</td>\n",
       "      <td>train_all\\ISIC_0027419.jpg</td>\n",
       "      <td>bkl</td>\n",
       "      <td>2</td>\n",
       "    </tr>\n",
       "    <tr>\n",
       "      <th>1</th>\n",
       "      <td>1</td>\n",
       "      <td>HAM_0000118</td>\n",
       "      <td>ISIC_0025030.jpg</td>\n",
       "      <td>histo</td>\n",
       "      <td>80.0</td>\n",
       "      <td>male</td>\n",
       "      <td>scalp</td>\n",
       "      <td>train_all\\ISIC_0025030.jpg</td>\n",
       "      <td>bkl</td>\n",
       "      <td>2</td>\n",
       "    </tr>\n",
       "    <tr>\n",
       "      <th>2</th>\n",
       "      <td>2</td>\n",
       "      <td>HAM_0002730</td>\n",
       "      <td>ISIC_0026769.jpg</td>\n",
       "      <td>histo</td>\n",
       "      <td>80.0</td>\n",
       "      <td>male</td>\n",
       "      <td>scalp</td>\n",
       "      <td>train_all\\ISIC_0026769.jpg</td>\n",
       "      <td>bkl</td>\n",
       "      <td>2</td>\n",
       "    </tr>\n",
       "    <tr>\n",
       "      <th>3</th>\n",
       "      <td>3</td>\n",
       "      <td>HAM_0002730</td>\n",
       "      <td>ISIC_0025661.jpg</td>\n",
       "      <td>histo</td>\n",
       "      <td>80.0</td>\n",
       "      <td>male</td>\n",
       "      <td>scalp</td>\n",
       "      <td>train_all\\ISIC_0025661.jpg</td>\n",
       "      <td>bkl</td>\n",
       "      <td>2</td>\n",
       "    </tr>\n",
       "    <tr>\n",
       "      <th>4</th>\n",
       "      <td>4</td>\n",
       "      <td>HAM_0001466</td>\n",
       "      <td>ISIC_0031633.jpg</td>\n",
       "      <td>histo</td>\n",
       "      <td>75.0</td>\n",
       "      <td>male</td>\n",
       "      <td>ear</td>\n",
       "      <td>train_all\\ISIC_0031633.jpg</td>\n",
       "      <td>bkl</td>\n",
       "      <td>2</td>\n",
       "    </tr>\n",
       "  </tbody>\n",
       "</table>\n",
       "</div>"
      ],
      "text/plain": [
       "   Unnamed: 0    lesion_id          image_id dx_type   age   sex localization  \\\n",
       "0           0  HAM_0000118  ISIC_0027419.jpg   histo  80.0  male        scalp   \n",
       "1           1  HAM_0000118  ISIC_0025030.jpg   histo  80.0  male        scalp   \n",
       "2           2  HAM_0002730  ISIC_0026769.jpg   histo  80.0  male        scalp   \n",
       "3           3  HAM_0002730  ISIC_0025661.jpg   histo  80.0  male        scalp   \n",
       "4           4  HAM_0001466  ISIC_0031633.jpg   histo  75.0  male          ear   \n",
       "\n",
       "                   image_path   dx  target  \n",
       "0  train_all\\ISIC_0027419.jpg  bkl       2  \n",
       "1  train_all\\ISIC_0025030.jpg  bkl       2  \n",
       "2  train_all\\ISIC_0026769.jpg  bkl       2  \n",
       "3  train_all\\ISIC_0025661.jpg  bkl       2  \n",
       "4  train_all\\ISIC_0031633.jpg  bkl       2  "
      ]
     },
     "execution_count": 5,
     "metadata": {},
     "output_type": "execute_result"
    }
   ],
   "source": [
    "skin_df.head()"
   ]
  },
  {
   "cell_type": "code",
   "execution_count": 6,
   "metadata": {},
   "outputs": [],
   "source": [
    "from sklearn.model_selection import train_test_split\n",
    "\n",
    "train, test = train_test_split(skin_df,test_size=0.20,random_state=1)\n",
    "train ,val = train_test_split(train,test_size=0.10,random_state=1)"
   ]
  },
  {
   "cell_type": "code",
   "execution_count": 7,
   "metadata": {},
   "outputs": [
    {
     "name": "stderr",
     "output_type": "stream",
     "text": [
      "Using TensorFlow backend.\n"
     ]
    }
   ],
   "source": [
    "from keras.preprocessing.image import ImageDataGenerator\n",
    "train_datagen = ImageDataGenerator(\n",
    "    featurewise_center=False,\n",
    "    featurewise_std_normalization=False,\n",
    "    rotation_range=20,\n",
    "    brightness_range=[0.2,1.0],\n",
    "  # preprocessing_function=myFunc,\n",
    "    horizontal_flip=True\n",
    "    )\n",
    "val_datagen = ImageDataGenerator(\n",
    "    featurewise_center=False,\n",
    "    featurewise_std_normalization=False,\n",
    "    rotation_range=20,\n",
    "   # preprocessing_function=myFunc,\n",
    "    brightness_range=[0.2,1.0],\n",
    "   \n",
    "    horizontal_flip=True\n",
    "    )\n",
    "test_datagen = ImageDataGenerator(\n",
    "    featurewise_center=False,\n",
    "    rotation_range=20,\n",
    "    brightness_range=[0.2,1.0],\n",
    "  # preprocessing_function=myFunc,\n",
    "    horizontal_flip=True\n",
    "    )"
   ]
  },
  {
   "cell_type": "code",
   "execution_count": 8,
   "metadata": {},
   "outputs": [
    {
     "name": "stderr",
     "output_type": "stream",
     "text": [
      "/opt/conda/lib/python3.6/site-packages/ipykernel_launcher.py:2: SettingWithCopyWarning: \n",
      "A value is trying to be set on a copy of a slice from a DataFrame.\n",
      "Try using .loc[row_indexer,col_indexer] = value instead\n",
      "\n",
      "See the caveats in the documentation: http://pandas.pydata.org/pandas-docs/stable/user_guide/indexing.html#returning-a-view-versus-a-copy\n",
      "  \n"
     ]
    }
   ],
   "source": [
    "train['target']=train['target'].astype('str')\n",
    "test['target']=test['target'].astype('str')\n",
    "val['target']=val['target'].astype('str')"
   ]
  },
  {
   "cell_type": "code",
   "execution_count": 9,
   "metadata": {},
   "outputs": [
    {
     "data": {
      "text/html": [
       "<div>\n",
       "<style scoped>\n",
       "    .dataframe tbody tr th:only-of-type {\n",
       "        vertical-align: middle;\n",
       "    }\n",
       "\n",
       "    .dataframe tbody tr th {\n",
       "        vertical-align: top;\n",
       "    }\n",
       "\n",
       "    .dataframe thead th {\n",
       "        text-align: right;\n",
       "    }\n",
       "</style>\n",
       "<table border=\"1\" class=\"dataframe\">\n",
       "  <thead>\n",
       "    <tr style=\"text-align: right;\">\n",
       "      <th></th>\n",
       "      <th>Unnamed: 0</th>\n",
       "      <th>lesion_id</th>\n",
       "      <th>image_id</th>\n",
       "      <th>dx_type</th>\n",
       "      <th>age</th>\n",
       "      <th>sex</th>\n",
       "      <th>localization</th>\n",
       "      <th>image_path</th>\n",
       "      <th>dx</th>\n",
       "      <th>target</th>\n",
       "    </tr>\n",
       "  </thead>\n",
       "  <tbody>\n",
       "    <tr>\n",
       "      <th>0</th>\n",
       "      <td>0</td>\n",
       "      <td>HAM_0000118</td>\n",
       "      <td>ISIC_0027419.jpg</td>\n",
       "      <td>histo</td>\n",
       "      <td>80.0</td>\n",
       "      <td>male</td>\n",
       "      <td>scalp</td>\n",
       "      <td>train_all\\ISIC_0027419.jpg</td>\n",
       "      <td>bkl</td>\n",
       "      <td>2</td>\n",
       "    </tr>\n",
       "    <tr>\n",
       "      <th>1</th>\n",
       "      <td>1</td>\n",
       "      <td>HAM_0000118</td>\n",
       "      <td>ISIC_0025030.jpg</td>\n",
       "      <td>histo</td>\n",
       "      <td>80.0</td>\n",
       "      <td>male</td>\n",
       "      <td>scalp</td>\n",
       "      <td>train_all\\ISIC_0025030.jpg</td>\n",
       "      <td>bkl</td>\n",
       "      <td>2</td>\n",
       "    </tr>\n",
       "    <tr>\n",
       "      <th>2</th>\n",
       "      <td>2</td>\n",
       "      <td>HAM_0002730</td>\n",
       "      <td>ISIC_0026769.jpg</td>\n",
       "      <td>histo</td>\n",
       "      <td>80.0</td>\n",
       "      <td>male</td>\n",
       "      <td>scalp</td>\n",
       "      <td>train_all\\ISIC_0026769.jpg</td>\n",
       "      <td>bkl</td>\n",
       "      <td>2</td>\n",
       "    </tr>\n",
       "    <tr>\n",
       "      <th>3</th>\n",
       "      <td>3</td>\n",
       "      <td>HAM_0002730</td>\n",
       "      <td>ISIC_0025661.jpg</td>\n",
       "      <td>histo</td>\n",
       "      <td>80.0</td>\n",
       "      <td>male</td>\n",
       "      <td>scalp</td>\n",
       "      <td>train_all\\ISIC_0025661.jpg</td>\n",
       "      <td>bkl</td>\n",
       "      <td>2</td>\n",
       "    </tr>\n",
       "    <tr>\n",
       "      <th>4</th>\n",
       "      <td>4</td>\n",
       "      <td>HAM_0001466</td>\n",
       "      <td>ISIC_0031633.jpg</td>\n",
       "      <td>histo</td>\n",
       "      <td>75.0</td>\n",
       "      <td>male</td>\n",
       "      <td>ear</td>\n",
       "      <td>train_all\\ISIC_0031633.jpg</td>\n",
       "      <td>bkl</td>\n",
       "      <td>2</td>\n",
       "    </tr>\n",
       "  </tbody>\n",
       "</table>\n",
       "</div>"
      ],
      "text/plain": [
       "   Unnamed: 0    lesion_id          image_id dx_type   age   sex localization  \\\n",
       "0           0  HAM_0000118  ISIC_0027419.jpg   histo  80.0  male        scalp   \n",
       "1           1  HAM_0000118  ISIC_0025030.jpg   histo  80.0  male        scalp   \n",
       "2           2  HAM_0002730  ISIC_0026769.jpg   histo  80.0  male        scalp   \n",
       "3           3  HAM_0002730  ISIC_0025661.jpg   histo  80.0  male        scalp   \n",
       "4           4  HAM_0001466  ISIC_0031633.jpg   histo  75.0  male          ear   \n",
       "\n",
       "                   image_path   dx  target  \n",
       "0  train_all\\ISIC_0027419.jpg  bkl       2  \n",
       "1  train_all\\ISIC_0025030.jpg  bkl       2  \n",
       "2  train_all\\ISIC_0026769.jpg  bkl       2  \n",
       "3  train_all\\ISIC_0025661.jpg  bkl       2  \n",
       "4  train_all\\ISIC_0031633.jpg  bkl       2  "
      ]
     },
     "execution_count": 9,
     "metadata": {},
     "output_type": "execute_result"
    }
   ],
   "source": [
    "skin_df.head()"
   ]
  },
  {
   "cell_type": "code",
   "execution_count": 10,
   "metadata": {},
   "outputs": [],
   "source": [
    "from sklearn.utils import class_weight\n",
    " \n",
    " \n",
    "class_weights = class_weight.compute_class_weight('balanced',\n",
    "                                                 np.unique(train['target']),\n",
    "                                                 train['target'])"
   ]
  },
  {
   "cell_type": "code",
   "execution_count": 11,
   "metadata": {},
   "outputs": [
    {
     "data": {
      "text/plain": [
       "{0: 4.291666666666667,\n",
       " 1: 2.7688172043010755,\n",
       " 2: 1.3121019108280254,\n",
       " 3: 14.714285714285714,\n",
       " 4: 1.2638036809815951,\n",
       " 5: 0.21316225165562913,\n",
       " 6: 10.729166666666666}"
      ]
     },
     "execution_count": 11,
     "metadata": {},
     "output_type": "execute_result"
    }
   ],
   "source": [
    "class_weights = { i : class_weights[i] for i in range(len(class_weights)) }\n",
    "class_weights"
   ]
  },
  {
   "cell_type": "code",
   "execution_count": 12,
   "metadata": {},
   "outputs": [
    {
     "name": "stdout",
     "output_type": "stream",
     "text": [
      "Found 7210 validated image filenames belonging to 7 classes.\n",
      "Found 802 validated image filenames belonging to 7 classes.\n",
      "Found 2003 validated image filenames belonging to 7 classes.\n"
     ]
    }
   ],
   "source": [
    "#datagen.flow(train, y_train, batch_size=32)\n",
    "training_images=train_datagen.flow_from_dataframe(\n",
    "dataframe=train,\n",
    "directory=\"/kaggle/input/images/train_all\",\n",
    "x_col=\"image_id\",\n",
    "y_col='target',\n",
    "    color_mode=\"rgb\",\n",
    "    subset=\"training\",\n",
    "#     save_to_dir=\"aug_train\",\n",
    "#     save_format=\"jpg\",\n",
    "batch_size=32,class_mode=\"categorical\",\n",
    "target_size=(224,224))#,target_size=(224,224))\n",
    "#train_datagen.fit(training_images)\n",
    "\n",
    "\n",
    "val_images=val_datagen.flow_from_dataframe(\n",
    "dataframe=val,\n",
    "directory=\"/kaggle/input/images/train_all\",\n",
    "x_col=\"image_id\",\n",
    "y_col='target',\n",
    "    color_mode=\"rgb\",\n",
    "    subset=\"training\",\n",
    "#     save_to_dir=\"aug_val\",\n",
    "#     save_format=\"jpg\",\n",
    "batch_size=32,\n",
    "class_mode=\"categorical\",target_size=(224,224))\n",
    "\n",
    "\n",
    "#val_datagen.fit(val_images)\n",
    "\n",
    "\n",
    "testing_images=test_datagen.flow_from_dataframe(\n",
    "dataframe=test,\n",
    "directory=\"/kaggle/input/images/train_all\",\n",
    "x_col=\"image_id\",\n",
    "y_col='target',\n",
    "    color_mode=\"rgb\",\n",
    "    subset=\"training\",\n",
    "#     save_to_dir=\"aug_test\",\n",
    "#     save_format=\"jpg\",\n",
    "batch_size=32,\n",
    "class_mode=\"categorical\",target_size=(224,224))\n",
    "#test_datagen.fit(testing_images)"
   ]
  },
  {
   "cell_type": "code",
   "execution_count": 13,
   "metadata": {},
   "outputs": [],
   "source": [
    "from keras.models import Sequential\n",
    "from keras import optimizers\n",
    "from keras.layers import Dense, Conv2D, Dropout, Flatten, MaxPooling2D\n",
    "from keras.applications import ResNet50\n"
   ]
  },
  {
   "cell_type": "code",
   "execution_count": 14,
   "metadata": {},
   "outputs": [
    {
     "name": "stderr",
     "output_type": "stream",
     "text": [
      "/opt/conda/lib/python3.6/site-packages/keras_applications/resnet50.py:265: UserWarning: The output shape of `ResNet50(include_top=False)` has been changed since Keras 2.2.0.\n",
      "  warnings.warn('The output shape of `ResNet50(include_top=False)` '\n"
     ]
    },
    {
     "name": "stdout",
     "output_type": "stream",
     "text": [
      "Downloading data from https://github.com/fchollet/deep-learning-models/releases/download/v0.2/resnet50_weights_tf_dim_ordering_tf_kernels_notop.h5\n",
      "94658560/94653016 [==============================] - 2s 0us/step\n"
     ]
    }
   ],
   "source": [
    "base_model= ResNet50(include_top=False, weights=\"imagenet\", input_shape=(224,224,3))"
   ]
  },
  {
   "cell_type": "code",
   "execution_count": 15,
   "metadata": {},
   "outputs": [],
   "source": [
    "model= Sequential()\n",
    "model.add(base_model)\n",
    "model.add(Conv2D(64, (3, 3), activation = 'relu'))\n",
    "model.add(Dropout(0.40))\n",
    "model.add(Conv2D(64, (3, 3), activation = 'relu'))\n",
    "model.add(MaxPooling2D(pool_size = (2, 2)))\n",
    "model.add(Dropout(0.40))\n",
    "model.add(Flatten())\n",
    "model.add(Dense(512,activation='relu'))\n",
    "model.add(Dropout(0.4))\n",
    "model.add(Dense(7, activation='softmax'))"
   ]
  },
  {
   "cell_type": "code",
   "execution_count": 16,
   "metadata": {},
   "outputs": [
    {
     "name": "stdout",
     "output_type": "stream",
     "text": [
      "Model: \"sequential_1\"\n",
      "_________________________________________________________________\n",
      "Layer (type)                 Output Shape              Param #   \n",
      "=================================================================\n",
      "resnet50 (Model)             (None, 7, 7, 2048)        23587712  \n",
      "_________________________________________________________________\n",
      "conv2d_1 (Conv2D)            (None, 5, 5, 64)          1179712   \n",
      "_________________________________________________________________\n",
      "dropout_1 (Dropout)          (None, 5, 5, 64)          0         \n",
      "_________________________________________________________________\n",
      "conv2d_2 (Conv2D)            (None, 3, 3, 64)          36928     \n",
      "_________________________________________________________________\n",
      "max_pooling2d_2 (MaxPooling2 (None, 1, 1, 64)          0         \n",
      "_________________________________________________________________\n",
      "dropout_2 (Dropout)          (None, 1, 1, 64)          0         \n",
      "_________________________________________________________________\n",
      "flatten_1 (Flatten)          (None, 64)                0         \n",
      "_________________________________________________________________\n",
      "dense_1 (Dense)              (None, 512)               33280     \n",
      "_________________________________________________________________\n",
      "dropout_3 (Dropout)          (None, 512)               0         \n",
      "_________________________________________________________________\n",
      "dense_2 (Dense)              (None, 7)                 3591      \n",
      "=================================================================\n",
      "Total params: 24,841,223\n",
      "Trainable params: 24,788,103\n",
      "Non-trainable params: 53,120\n",
      "_________________________________________________________________\n"
     ]
    }
   ],
   "source": [
    "model.summary()"
   ]
  },
  {
   "cell_type": "code",
   "execution_count": 17,
   "metadata": {},
   "outputs": [],
   "source": [
    "import keras \n",
    "model.compile(loss=keras.losses.categorical_crossentropy,\n",
    "              optimizer=keras.optimizers.Adam(learning_rate=0.0001),\n",
    "              metrics=['acc'])"
   ]
  },
  {
   "cell_type": "code",
   "execution_count": 18,
   "metadata": {},
   "outputs": [],
   "source": [
    "from keras.callbacks import ModelCheckpoint, EarlyStopping\n",
    "filepath=\"model-{epoch:02d}-{val_acc:.4f}.hdf5\"\n",
    "\n",
    "checkpoint = ModelCheckpoint(filepath, monitor='val_acc', verbose=1, save_best_only=True,save_weights_only=False, mode='max')\n",
    "#checkpoint = ModelCheckpoint(\"vgg16.h5\", monitor='val_acc', verbose=1, save_best_only=True, save_weights_only=False, mode='auto', period=1)\n",
    "early = EarlyStopping(monitor='val_acc', min_delta=0, patience=10, verbose=1, mode='auto')"
   ]
  },
  {
   "cell_type": "code",
   "execution_count": 19,
   "metadata": {},
   "outputs": [],
   "source": [
    "model.load_weights('/kaggle/input/weights/model-43-0.8779.hdf5')"
   ]
  },
  {
   "cell_type": "code",
   "execution_count": 20,
   "metadata": {},
   "outputs": [
    {
     "name": "stdout",
     "output_type": "stream",
     "text": [
      "Epoch 1/100\n",
      "225/225 [==============================] - 273s 1s/step - loss: 0.1006 - acc: 0.9352 - val_loss: 0.4611 - val_acc: 0.8525\n",
      "\n",
      "Epoch 00001: val_acc improved from -inf to 0.85250, saving model to model-01-0.8525.hdf5\n",
      "Epoch 2/100\n",
      "225/225 [==============================] - 219s 973ms/step - loss: 0.1063 - acc: 0.9416 - val_loss: 1.0291 - val_acc: 0.8234\n",
      "\n",
      "Epoch 00002: val_acc did not improve from 0.85250\n",
      "Epoch 3/100\n",
      "225/225 [==============================] - 213s 946ms/step - loss: 0.0984 - acc: 0.9464 - val_loss: 0.6027 - val_acc: 0.8286\n",
      "\n",
      "Epoch 00003: val_acc did not improve from 0.85250\n",
      "Epoch 4/100\n",
      "225/225 [==============================] - 211s 937ms/step - loss: 0.1914 - acc: 0.9242 - val_loss: 0.7781 - val_acc: 0.8143\n",
      "\n",
      "Epoch 00004: val_acc did not improve from 0.85250\n",
      "Epoch 5/100\n",
      "225/225 [==============================] - 210s 935ms/step - loss: 0.1295 - acc: 0.9273 - val_loss: 0.2560 - val_acc: 0.7714\n",
      "\n",
      "Epoch 00005: val_acc did not improve from 0.85250\n",
      "Epoch 6/100\n",
      "225/225 [==============================] - 209s 931ms/step - loss: 0.1053 - acc: 0.9402 - val_loss: 0.6804 - val_acc: 0.8403\n",
      "\n",
      "Epoch 00006: val_acc did not improve from 0.85250\n",
      "Epoch 7/100\n",
      "225/225 [==============================] - 208s 925ms/step - loss: 0.1021 - acc: 0.9361 - val_loss: 0.5581 - val_acc: 0.7961\n",
      "\n",
      "Epoch 00007: val_acc did not improve from 0.85250\n",
      "Epoch 8/100\n",
      "225/225 [==============================] - 208s 927ms/step - loss: 0.0750 - acc: 0.9486 - val_loss: 0.9898 - val_acc: 0.8104\n",
      "\n",
      "Epoch 00008: val_acc did not improve from 0.85250\n",
      "Epoch 9/100\n",
      "225/225 [==============================] - 209s 929ms/step - loss: 0.0754 - acc: 0.9546 - val_loss: 0.1377 - val_acc: 0.8519\n",
      "\n",
      "Epoch 00009: val_acc did not improve from 0.85250\n",
      "Epoch 10/100\n",
      "225/225 [==============================] - 208s 923ms/step - loss: 0.0656 - acc: 0.9624 - val_loss: 0.4656 - val_acc: 0.7896\n",
      "\n",
      "Epoch 00010: val_acc did not improve from 0.85250\n",
      "Epoch 11/100\n",
      "225/225 [==============================] - 208s 924ms/step - loss: 0.1827 - acc: 0.9326 - val_loss: 0.4988 - val_acc: 0.8091\n",
      "\n",
      "Epoch 00011: val_acc did not improve from 0.85250\n",
      "Epoch 00011: early stopping\n"
     ]
    }
   ],
   "source": [
    "hist = model.fit_generator(steps_per_epoch=training_images.samples//32,generator=training_images, class_weight=class_weights,validation_data= val_images, validation_steps= val_images.samples//32,epochs=100,callbacks=[early,checkpoint])"
   ]
  },
  {
   "cell_type": "code",
   "execution_count": 21,
   "metadata": {},
   "outputs": [],
   "source": [
    "model.save_weights('finalweight.h5')"
   ]
  },
  {
   "cell_type": "code",
   "execution_count": 22,
   "metadata": {},
   "outputs": [],
   "source": [
    "model.save_weights('final.hdf5')"
   ]
  },
  {
   "cell_type": "code",
   "execution_count": 24,
   "metadata": {},
   "outputs": [],
   "source": [
    "import numpy\n",
    "test_steps_per_epoch = numpy.math.ceil(testing_images.samples / testing_images.batch_size)\n",
    "\n",
    "predictions = model.predict_generator(testing_images, steps=test_steps_per_epoch)\n",
    "# Get most likely class\n",
    "predicted_classes = numpy.argmax(predictions, axis=1)"
   ]
  },
  {
   "cell_type": "code",
   "execution_count": 26,
   "metadata": {},
   "outputs": [],
   "source": [
    "\n",
    "true_classes = testing_images.classes\n",
    "class_labels = list(testing_images.class_indices.keys())   "
   ]
  },
  {
   "cell_type": "code",
   "execution_count": null,
   "metadata": {},
   "outputs": [],
   "source": []
  },
  {
   "cell_type": "code",
   "execution_count": 27,
   "metadata": {},
   "outputs": [
    {
     "name": "stdout",
     "output_type": "stream",
     "text": [
      "              precision    recall  f1-score   support\n",
      "\n",
      "           0       0.00      0.00      0.00        61\n",
      "           1       0.05      0.05      0.05        96\n",
      "           2       0.12      0.07      0.09       228\n",
      "           3       0.04      0.03      0.03        37\n",
      "           4       0.13      0.11      0.12       222\n",
      "           5       0.67      0.76      0.71      1327\n",
      "           6       0.00      0.00      0.00        32\n",
      "\n",
      "    accuracy                           0.53      2003\n",
      "   macro avg       0.15      0.15      0.14      2003\n",
      "weighted avg       0.48      0.53      0.50      2003\n",
      "\n"
     ]
    }
   ],
   "source": [
    "import sklearn.metrics as metrics\n",
    "report = metrics.classification_report(true_classes, predicted_classes, target_names=class_labels)\n",
    "print(report)"
   ]
  },
  {
   "cell_type": "code",
   "execution_count": 31,
   "metadata": {},
   "outputs": [
    {
     "data": {
      "text/plain": [
       "5    1327\n",
       "2     228\n",
       "4     222\n",
       "1      96\n",
       "0      61\n",
       "3      37\n",
       "6      32\n",
       "Name: target, dtype: int64"
      ]
     },
     "execution_count": 31,
     "metadata": {},
     "output_type": "execute_result"
    }
   ],
   "source": [
    "test['target'].value_counts()"
   ]
  },
  {
   "cell_type": "code",
   "execution_count": 32,
   "metadata": {},
   "outputs": [
    {
     "ename": "ModuleNotFoundError",
     "evalue": "No module named 'sklearn.metric'",
     "output_type": "error",
     "traceback": [
      "\u001b[0;31m---------------------------------------------------------------------------\u001b[0m",
      "\u001b[0;31mModuleNotFoundError\u001b[0m                       Traceback (most recent call last)",
      "\u001b[0;32m<ipython-input-32-b4db2b5dec3b>\u001b[0m in \u001b[0;36m<module>\u001b[0;34m\u001b[0m\n\u001b[0;32m----> 1\u001b[0;31m \u001b[0;32mfrom\u001b[0m \u001b[0msklearn\u001b[0m\u001b[0;34m.\u001b[0m\u001b[0mmetric\u001b[0m \u001b[0;32mimport\u001b[0m \u001b[0mmultilabel_confusion_matrix\u001b[0m\u001b[0;34m\u001b[0m\u001b[0m\n\u001b[0m\u001b[1;32m      2\u001b[0m \u001b[0mmultilabel_confusion_matrix\u001b[0m\u001b[0;34m(\u001b[0m\u001b[0mtrue_classes\u001b[0m\u001b[0;34m,\u001b[0m \u001b[0mpredicted_classes\u001b[0m\u001b[0;34m)\u001b[0m\u001b[0;34m\u001b[0m\u001b[0m\n",
      "\u001b[0;31mModuleNotFoundError\u001b[0m: No module named 'sklearn.metric'"
     ]
    }
   ],
   "source": [
    "from sklearn.metrics import multilabel_confusion_matrix\n",
    "multilabel_confusion_matrix(true_classes, predicted_classes)"
   ]
  },
  {
   "cell_type": "code",
   "execution_count": null,
   "metadata": {},
   "outputs": [],
   "source": []
  }
 ],
 "metadata": {
  "kernelspec": {
   "display_name": "Python 3",
   "language": "python",
   "name": "python3"
  },
  "language_info": {
   "codemirror_mode": {
    "name": "ipython",
    "version": 3
   },
   "file_extension": ".py",
   "mimetype": "text/x-python",
   "name": "python",
   "nbconvert_exporter": "python",
   "pygments_lexer": "ipython3",
   "version": "3.7.4"
  }
 },
 "nbformat": 4,
 "nbformat_minor": 1
}
