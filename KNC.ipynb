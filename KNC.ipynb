{
 "cells": [
  {
   "cell_type": "code",
   "execution_count": 24,
   "metadata": {},
   "outputs": [],
   "source": [
    "\n",
    "\n",
    "# import numpy as np\n",
    "# import matplotlib.pyplot as plt\n",
    "# from sklearn.model_selection import train_test_split\n",
    "\n",
    "# from sklearn.cluster import KMeans\n",
    "# from sklearn.datasets import make_blobs\n",
    "# from scipy import stats"
   ]
  },
  {
   "cell_type": "code",
   "execution_count": 25,
   "metadata": {},
   "outputs": [],
   "source": [
    "\n",
    "# plt.figure(figsize=(12, 12))\n",
    "\n",
    "# n_samples = 100000\n",
    "# random_state = 170\n",
    "# n_clusters = 30"
   ]
  },
  {
   "cell_type": "code",
   "execution_count": 26,
   "metadata": {},
   "outputs": [],
   "source": [
    "# X, y = make_blobs(n_samples=n_samples, random_state=random_state)\n",
    "# X_train, X_test, y_train, y_test = train_test_split(\n",
    "#     X, y, test_size=0.33, random_state=42)\n",
    "\n",
    "\n",
    "\n",
    "\n",
    "# # plt.subplot(221)\n",
    "# plt.scatter(X_train[:, 0], X_train[:, 1], c=y_train)\n",
    "# plt.title(\"Anisotropicly Distributed Blobs\")\n"
   ]
  },
  {
   "cell_type": "code",
   "execution_count": 27,
   "metadata": {},
   "outputs": [],
   "source": [
    "\n",
    "\n",
    "# # Anisotropicly distributed data\n",
    "# model =  KMeans(n_clusters=n_clusters, random_state=random_state,n_jobs = -1)\n",
    "# y_pred =model.fit_predict(X_train)\n",
    "\n",
    "# # plt.subplot(221)\n",
    "# plt.scatter(X_train[:, 0], X_train[:, 1], c=y_pred)\n",
    "# plt.title(\"Anisotropicly Distributed Blobs\")"
   ]
  },
  {
   "cell_type": "code",
   "execution_count": 28,
   "metadata": {},
   "outputs": [],
   "source": [
    "# np.unique(y_train)"
   ]
  },
  {
   "cell_type": "code",
   "execution_count": 29,
   "metadata": {},
   "outputs": [],
   "source": [
    "# X_train.shape"
   ]
  },
  {
   "cell_type": "code",
   "execution_count": 30,
   "metadata": {},
   "outputs": [],
   "source": [
    "# np.unique(y_pred)"
   ]
  },
  {
   "cell_type": "code",
   "execution_count": 31,
   "metadata": {},
   "outputs": [],
   "source": [
    "# y_pred.shape"
   ]
  },
  {
   "cell_type": "code",
   "execution_count": 32,
   "metadata": {},
   "outputs": [],
   "source": [
    "# #Get the true lable of each cluster\n",
    "\n",
    "# tag = []\n",
    "# new_train_data_x =  model.cluster_centers_\n",
    "# for i in range(n_clusters):\n",
    "#     print(i)\n",
    "#     temp_list =y_train[y_pred==i]\n",
    "#     print(len(y_train[y_pred]))\n",
    "#     print(temp_list)\n",
    "#     tag.append( stats.mode((temp_list)))\n",
    "#     print ( stats.mode((temp_list)))\n",
    "# # print(newdata)\n",
    "# print (tag)    \n",
    "# new_train_data_y= np.asarray(tag) \n",
    "# #print(new_train_data_y)\n",
    "# new_train_data_y = new_train_data_y[:,0]\n",
    "# print ((new_train_data_y) )"
   ]
  },
  {
   "cell_type": "code",
   "execution_count": 34,
   "metadata": {},
   "outputs": [],
   "source": [
    "# ### KNC results\n",
    "\n",
    "# from sklearn.neighbors import KNeighborsClassifier\n",
    "\n",
    "\n",
    "# knn = KNeighborsClassifier(n_neighbors=3)\n",
    "# knn.fit(new_train_data_x, new_train_data_y)\n",
    "\n",
    "# print(knn.score(X_test, y_test))\n",
    "\n",
    "\n",
    "\n"
   ]
  },
  {
   "cell_type": "code",
   "execution_count": 35,
   "metadata": {},
   "outputs": [],
   "source": [
    "\n",
    "### original data results\n",
    "# knn1 = KNeighborsClassifier(n_neighbors=3)\n",
    "# knn1.fit(X_train, y_train)\n",
    "\n",
    "# print(knn1.score(X_test, y_test))"
   ]
  },
  {
   "cell_type": "code",
   "execution_count": 42,
   "metadata": {},
   "outputs": [
    {
     "name": "stdout",
     "output_type": "stream",
     "text": [
      "1.0\n",
      "1.0\n"
     ]
    },
    {
     "name": "stderr",
     "output_type": "stream",
     "text": [
      "C:\\Users\\ven_n_000\\Anaconda3\\lib\\site-packages\\ipykernel_launcher.py:37: DataConversionWarning: A column-vector y was passed when a 1d array was expected. Please change the shape of y to (n_samples, ), for example using ravel().\n"
     ]
    }
   ],
   "source": [
    "\n",
    "import numpy as np\n",
    "import matplotlib.pyplot as plt\n",
    "from sklearn.model_selection import train_test_split\n",
    "from sklearn.neighbors import KNeighborsClassifier\n",
    "from sklearn.cluster import KMeans\n",
    "from scipy import stats\n",
    "import numpy as np\n",
    "import pandas as pd\n",
    "from sklearn.datasets import load_iris\n",
    "\n",
    "\n",
    "iris = load_iris()\n",
    "\n",
    "\n",
    "data1 = pd.DataFrame(data= np.c_[iris['data'], iris['target']],\n",
    "                     columns= iris['feature_names'] + ['target'])\n",
    "y = data1['target']\n",
    "X= data1.drop(['target'],axis=1)\n",
    "X_train, X_test, y_train, y_test = train_test_split(X,y,test_size=0.20 ,random_state=1)\n",
    "\n",
    "model =  KMeans(n_clusters=30, random_state=1,n_jobs = -1)\n",
    "y_pred =model.fit_predict(X_train)\n",
    "tag = []\n",
    "new_train_data_x =  model.cluster_centers_\n",
    "for i in range(n_clusters):\n",
    "    \n",
    "    temp_list =y_train[y_pred==i]\n",
    "   \n",
    "    tag.append( stats.mode((temp_list)))\n",
    "       \n",
    "new_train_data_y= np.asarray(tag) \n",
    "new_train_data_y = new_train_data_y[:,0]\n",
    "\n",
    "\n",
    "\n",
    "knn = KNeighborsClassifier(n_neighbors=3)\n",
    "knn.fit(new_train_data_x, new_train_data_y)\n",
    "\n",
    "print(knn.score(X_test, y_test))\n",
    "\n",
    "\n",
    "\n",
    "knn1 = KNeighborsClassifier(n_neighbors=3)\n",
    "knn1.fit(X_train, y_train)\n",
    "\n",
    "print(knn1.score(X_test, y_test))"
   ]
  },
  {
   "cell_type": "code",
   "execution_count": 38,
   "metadata": {},
   "outputs": [],
   "source": [
    "import numpy as np\n",
    "import pandas as pd\n",
    "from sklearn.datasets import load_iris\n",
    "\n",
    "\n",
    "iris = load_iris()\n",
    "\n",
    "\n",
    "data1 = pd.DataFrame(data= np.c_[iris['data'], iris['target']],\n",
    "                     columns= iris['feature_names'] + ['target'])\n",
    "y = data1['target']\n",
    "X= data1.drop(['target'],axis=1)\n",
    "X_train, X_test, y_train, y_test = train_test_split(X,y,test_size=0.10 ,random_state=1)"
   ]
  },
  {
   "cell_type": "code",
   "execution_count": 40,
   "metadata": {},
   "outputs": [
    {
     "data": {
      "text/plain": [
       "2.0    50\n",
       "1.0    50\n",
       "0.0    50\n",
       "Name: target, dtype: int64"
      ]
     },
     "execution_count": 40,
     "metadata": {},
     "output_type": "execute_result"
    }
   ],
   "source": [
    "data1['target'].value_counts()"
   ]
  },
  {
   "cell_type": "code",
   "execution_count": null,
   "metadata": {},
   "outputs": [],
   "source": []
  }
 ],
 "metadata": {
  "kernelspec": {
   "display_name": "Python 3",
   "language": "python",
   "name": "python3"
  },
  "language_info": {
   "codemirror_mode": {
    "name": "ipython",
    "version": 3
   },
   "file_extension": ".py",
   "mimetype": "text/x-python",
   "name": "python",
   "nbconvert_exporter": "python",
   "pygments_lexer": "ipython3",
   "version": "3.7.4"
  }
 },
 "nbformat": 4,
 "nbformat_minor": 2
}
