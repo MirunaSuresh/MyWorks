{
 "cells": [
  {
   "cell_type": "code",
   "execution_count": 1,
   "metadata": {},
   "outputs": [
    {
     "name": "stdout",
     "output_type": "stream",
     "text": [
      "Collecting neo4j\n",
      "  Downloading https://files.pythonhosted.org/packages/ff/94/01746058f78f3ed8909f4fdeb9614789bdf48e8dbe178a64266eb9dd7af2/neo4j-1.7.6.tar.gz\n",
      "Collecting neobolt~=1.7.15 (from neo4j)\n",
      "  Downloading https://files.pythonhosted.org/packages/9f/63/bb8b2ba18b4929c8bd17299d499530d6779635439e33bcc95043dc597223/neobolt-1.7.15.tar.gz (183kB)\n",
      "Collecting neotime~=1.7.1 (from neo4j)\n",
      "  Downloading https://files.pythonhosted.org/packages/0b/7e/ca368a8d8e288be1352d4e2df35da1e01f8aaffbf526695df71630bcb8a6/neotime-1.7.4.tar.gz\n",
      "Requirement already satisfied: pytz in c:\\users\\ven_n_000\\anaconda3\\lib\\site-packages (from neotime~=1.7.1->neo4j) (2019.3)\n",
      "Requirement already satisfied: six in c:\\users\\ven_n_000\\anaconda3\\lib\\site-packages (from neotime~=1.7.1->neo4j) (1.12.0)\n",
      "Building wheels for collected packages: neo4j, neobolt, neotime\n",
      "  Building wheel for neo4j (setup.py): started\n",
      "  Building wheel for neo4j (setup.py): finished with status 'done'\n",
      "  Created wheel for neo4j: filename=neo4j-1.7.6-cp37-none-any.whl size=32577 sha256=fe0b0c42e66274db15d43e1773bfd7065be129778bd013fb8cb78253b0d8b3d4\n",
      "  Stored in directory: C:\\Users\\ven_n_000\\AppData\\Local\\pip\\Cache\\wheels\\5f\\36\\4c\\bde6e0d19509f6e3697caaf5a2d82039552602d114e1710a7b\n",
      "  Building wheel for neobolt (setup.py): started\n",
      "  Building wheel for neobolt (setup.py): finished with status 'done'\n",
      "  Created wheel for neobolt: filename=neobolt-1.7.15-cp37-none-any.whl size=37184 sha256=14743c4a5d9d492c1ad38491929ff9f0df32b1e28c98dc96f6c09dad334f8ad0\n",
      "  Stored in directory: C:\\Users\\ven_n_000\\AppData\\Local\\pip\\Cache\\wheels\\42\\54\\00\\270de525f8f966d864bd3a0224d38dca2573b53c1a54267720\n",
      "  Building wheel for neotime (setup.py): started\n",
      "  Building wheel for neotime (setup.py): finished with status 'done'\n",
      "  Created wheel for neotime: filename=neotime-1.7.4-cp37-none-any.whl size=20547 sha256=548bdaff921a82333426750fb27fd48df342398e2c914e020c2fb8b3de09d120\n",
      "  Stored in directory: C:\\Users\\ven_n_000\\AppData\\Local\\pip\\Cache\\wheels\\d4\\b4\\c4\\ab867cd0ac9e667f8cd269f9364fd1cb8ee75fe50f5ce97c79\n",
      "Successfully built neo4j neobolt neotime\n",
      "Installing collected packages: neobolt, neotime, neo4j\n",
      "Successfully installed neo4j-1.7.6 neobolt-1.7.15 neotime-1.7.4\n"
     ]
    }
   ],
   "source": [
    "#!pip install neo4j"
   ]
  },
  {
   "cell_type": "code",
   "execution_count": 15,
   "metadata": {},
   "outputs": [],
   "source": [
    "from neo4j.v1 import GraphDatabase\n",
    "\n",
    "uri = \"bolt://localhost:7687\""
   ]
  },
  {
   "cell_type": "code",
   "execution_count": 18,
   "metadata": {},
   "outputs": [],
   "source": [
    "driver = GraphDatabase.driver(uri, auth=(\"neo4j\", \"12345\"))"
   ]
  },
  {
   "cell_type": "code",
   "execution_count": 19,
   "metadata": {},
   "outputs": [],
   "source": [
    "def print_movies_by(tx, name):\n",
    "    for record in tx.run(\"MATCH (a:Person)-[:ACTED_IN]->(anyMovies) \"\n",
    "                         \"WHERE a.name = {name} \"\n",
    "                         \"RETURN anyMovies\", name = name):\n",
    "        print(record[\"anyMovies\"])"
   ]
  },
  {
   "cell_type": "code",
   "execution_count": 21,
   "metadata": {},
   "outputs": [
    {
     "name": "stderr",
     "output_type": "stream",
     "text": [
      "Failed to write data to connection Address(host='localhost', port=7687) (Address(host='127.0.0.1', port=7687)); (\"0; 'Underlying socket connection gone (_ssl.c:2283)'\")\n"
     ]
    },
    {
     "name": "stdout",
     "output_type": "stream",
     "text": [
      "<Node id=144 labels={'Movie'} properties={'title': 'Apollo 13', 'tagline': 'Houston, we have a problem.', 'released': 1995}>\n",
      "<Node id=67 labels={'Movie'} properties={'title': \"You've Got Mail\", 'tagline': 'At odds in life... in love on-line.', 'released': 1998}>\n",
      "<Node id=162 labels={'Movie'} properties={'title': 'A League of Their Own', 'tagline': 'Once in a lifetime you get a chance to do something different.', 'released': 1992}>\n",
      "<Node id=78 labels={'Movie'} properties={'title': 'Joe Versus the Volcano', 'tagline': 'A story of love, lava and burning desire.', 'released': 1990}>\n",
      "<Node id=85 labels={'Movie'} properties={'title': 'That Thing You Do', 'tagline': 'In every life there comes a time when that thing you dream becomes that thing you do', 'released': 1996}>\n",
      "<Node id=111 labels={'Movie'} properties={'title': 'The Da Vinci Code', 'tagline': 'Break The Codes', 'released': 2006}>\n",
      "<Node id=105 labels={'Movie'} properties={'title': 'Cloud Atlas', 'tagline': 'Everything is connected', 'released': 2012}>\n",
      "<Node id=150 labels={'Movie'} properties={'title': 'Cast Away', 'tagline': 'At the edge of the world, his journey begins.', 'released': 2000}>\n",
      "<Node id=130 labels={'Movie'} properties={'title': 'The Green Mile', 'tagline': \"Walk a mile you'll never forget.\", 'released': 1999}>\n",
      "<Node id=73 labels={'Movie'} properties={'title': 'Sleepless in Seattle', 'tagline': 'What if someone you never met, someone you never saw, someone you never knew was the only someone for you?', 'released': 1993}>\n",
      "<Node id=161 labels={'Movie'} properties={'title': 'The Polar Express', 'tagline': 'This Holiday Season… Believe', 'released': 2004}>\n",
      "<Node id=159 labels={'Movie'} properties={'title': \"Charlie Wilson's War\", 'tagline': \"A stiff drink. A little mascara. A lot of nerve. Who said they couldn't bring down the Soviet empire.\", 'released': 2007}>\n"
     ]
    }
   ],
   "source": [
    "with driver.session() as session:\n",
    "    session.read_transaction(print_movies_by, \"Tom Hanks\")"
   ]
  },
  {
   "cell_type": "code",
   "execution_count": 24,
   "metadata": {},
   "outputs": [],
   "source": [
    "#MATCH (cloudAtlas {title: \"Cloud Atlas\"}) RETURN cloudAtlas\n",
    "with driver.session() as session:\n",
    "    session.read_transaction(print_movies_by, \"MATCH (people:Person) RETURN people.name LIMIT 10\")"
   ]
  },
  {
   "cell_type": "code",
   "execution_count": null,
   "metadata": {},
   "outputs": [],
   "source": []
  }
 ],
 "metadata": {
  "kernelspec": {
   "display_name": "Python 3",
   "language": "python",
   "name": "python3"
  },
  "language_info": {
   "codemirror_mode": {
    "name": "ipython",
    "version": 3
   },
   "file_extension": ".py",
   "mimetype": "text/x-python",
   "name": "python",
   "nbconvert_exporter": "python",
   "pygments_lexer": "ipython3",
   "version": "3.7.4"
  }
 },
 "nbformat": 4,
 "nbformat_minor": 2
}
