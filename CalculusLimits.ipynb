{
 "cells": [
  {
   "cell_type": "code",
   "execution_count": 1,
   "metadata": {},
   "outputs": [],
   "source": [
    "import numpy as np\n",
    "import matplotlib.pyplot as plt\n",
    "\n",
    "# get matplot to show charts inline\n",
    "%matplotlib inline"
   ]
  },
  {
   "cell_type": "code",
   "execution_count": 2,
   "metadata": {},
   "outputs": [],
   "source": [
    "# define a function, say f(x) = 1/x\n",
    "def f(x):\n",
    "    return 1/x"
   ]
  },
  {
   "cell_type": "code",
   "execution_count": 3,
   "metadata": {},
   "outputs": [
    {
     "name": "stdout",
     "output_type": "stream",
     "text": [
      "f(4) =  0.25\n"
     ]
    }
   ],
   "source": [
    "print('f(4) = ',f(4))"
   ]
  },
  {
   "cell_type": "code",
   "execution_count": 4,
   "metadata": {},
   "outputs": [
    {
     "ename": "ZeroDivisionError",
     "evalue": "division by zero",
     "output_type": "error",
     "traceback": [
      "\u001b[1;31m---------------------------------------------------------------------------\u001b[0m",
      "\u001b[1;31mZeroDivisionError\u001b[0m                         Traceback (most recent call last)",
      "\u001b[1;32m<ipython-input-4-fdf22ab6e0ed>\u001b[0m in \u001b[0;36m<module>\u001b[1;34m\u001b[0m\n\u001b[0;32m      1\u001b[0m \u001b[1;31m# calculate value of f(x) for 0\u001b[0m\u001b[1;33m\u001b[0m\u001b[1;33m\u001b[0m\u001b[1;33m\u001b[0m\u001b[0m\n\u001b[1;32m----> 2\u001b[1;33m \u001b[0mprint\u001b[0m\u001b[1;33m(\u001b[0m\u001b[1;34m'f(0) = '\u001b[0m\u001b[1;33m,\u001b[0m \u001b[0mf\u001b[0m\u001b[1;33m(\u001b[0m\u001b[1;36m0\u001b[0m\u001b[1;33m)\u001b[0m\u001b[1;33m)\u001b[0m\u001b[1;33m\u001b[0m\u001b[1;33m\u001b[0m\u001b[0m\n\u001b[0m",
      "\u001b[1;32m<ipython-input-2-3242617c6670>\u001b[0m in \u001b[0;36mf\u001b[1;34m(x)\u001b[0m\n\u001b[0;32m      1\u001b[0m \u001b[1;31m# define a function, say f(x) = 1/x\u001b[0m\u001b[1;33m\u001b[0m\u001b[1;33m\u001b[0m\u001b[1;33m\u001b[0m\u001b[0m\n\u001b[0;32m      2\u001b[0m \u001b[1;32mdef\u001b[0m \u001b[0mf\u001b[0m\u001b[1;33m(\u001b[0m\u001b[0mx\u001b[0m\u001b[1;33m)\u001b[0m\u001b[1;33m:\u001b[0m\u001b[1;33m\u001b[0m\u001b[1;33m\u001b[0m\u001b[0m\n\u001b[1;32m----> 3\u001b[1;33m     \u001b[1;32mreturn\u001b[0m \u001b[1;36m1\u001b[0m\u001b[1;33m/\u001b[0m\u001b[0mx\u001b[0m\u001b[1;33m\u001b[0m\u001b[1;33m\u001b[0m\u001b[0m\n\u001b[0m",
      "\u001b[1;31mZeroDivisionError\u001b[0m: division by zero"
     ]
    }
   ],
   "source": [
    "# calculate value of f(x) for 0\n",
    "print('f(0) = ', f(0))"
   ]
  },
  {
   "cell_type": "code",
   "execution_count": 5,
   "metadata": {},
   "outputs": [],
   "source": [
    "x = np.arange(0.1,100,1)\n",
    "y = f(x)"
   ]
  },
  {
   "cell_type": "code",
   "execution_count": 6,
   "metadata": {},
   "outputs": [
    {
     "data": {
      "text/plain": [
       "array([ 0.1,  1.1,  2.1,  3.1,  4.1,  5.1,  6.1,  7.1,  8.1,  9.1, 10.1,\n",
       "       11.1, 12.1, 13.1, 14.1, 15.1, 16.1, 17.1, 18.1, 19.1, 20.1, 21.1,\n",
       "       22.1, 23.1, 24.1, 25.1, 26.1, 27.1, 28.1, 29.1, 30.1, 31.1, 32.1,\n",
       "       33.1, 34.1, 35.1, 36.1, 37.1, 38.1, 39.1, 40.1, 41.1, 42.1, 43.1,\n",
       "       44.1, 45.1, 46.1, 47.1, 48.1, 49.1, 50.1, 51.1, 52.1, 53.1, 54.1,\n",
       "       55.1, 56.1, 57.1, 58.1, 59.1, 60.1, 61.1, 62.1, 63.1, 64.1, 65.1,\n",
       "       66.1, 67.1, 68.1, 69.1, 70.1, 71.1, 72.1, 73.1, 74.1, 75.1, 76.1,\n",
       "       77.1, 78.1, 79.1, 80.1, 81.1, 82.1, 83.1, 84.1, 85.1, 86.1, 87.1,\n",
       "       88.1, 89.1, 90.1, 91.1, 92.1, 93.1, 94.1, 95.1, 96.1, 97.1, 98.1,\n",
       "       99.1])"
      ]
     },
     "execution_count": 6,
     "metadata": {},
     "output_type": "execute_result"
    }
   ],
   "source": [
    "x"
   ]
  },
  {
   "cell_type": "code",
   "execution_count": 7,
   "metadata": {},
   "outputs": [
    {
     "data": {
      "text/plain": [
       "array([10.        ,  0.90909091,  0.47619048,  0.32258065,  0.24390244,\n",
       "        0.19607843,  0.16393443,  0.14084507,  0.12345679,  0.10989011,\n",
       "        0.0990099 ,  0.09009009,  0.08264463,  0.07633588,  0.07092199,\n",
       "        0.06622517,  0.0621118 ,  0.05847953,  0.05524862,  0.05235602,\n",
       "        0.04975124,  0.04739336,  0.04524887,  0.04329004,  0.04149378,\n",
       "        0.03984064,  0.03831418,  0.03690037,  0.03558719,  0.03436426,\n",
       "        0.03322259,  0.03215434,  0.03115265,  0.03021148,  0.02932551,\n",
       "        0.02849003,  0.02770083,  0.02695418,  0.02624672,  0.02557545,\n",
       "        0.02493766,  0.0243309 ,  0.02375297,  0.02320186,  0.02267574,\n",
       "        0.02217295,  0.02169197,  0.02123142,  0.02079002,  0.0203666 ,\n",
       "        0.01996008,  0.01956947,  0.01919386,  0.01883239,  0.01848429,\n",
       "        0.01814882,  0.01782531,  0.01751313,  0.0172117 ,  0.01692047,\n",
       "        0.01663894,  0.01636661,  0.01610306,  0.01584786,  0.01560062,\n",
       "        0.01536098,  0.01512859,  0.01490313,  0.01468429,  0.01447178,\n",
       "        0.01426534,  0.0140647 ,  0.01386963,  0.01367989,  0.01349528,\n",
       "        0.01331558,  0.0131406 ,  0.01297017,  0.0128041 ,  0.01264223,\n",
       "        0.01248439,  0.01233046,  0.01218027,  0.01203369,  0.01189061,\n",
       "        0.01175088,  0.0116144 ,  0.01148106,  0.01135074,  0.01122334,\n",
       "        0.01109878,  0.01097695,  0.01085776,  0.01074114,  0.01062699,\n",
       "        0.01051525,  0.01040583,  0.01029866,  0.01019368,  0.01009082])"
      ]
     },
     "execution_count": 7,
     "metadata": {},
     "output_type": "execute_result"
    }
   ],
   "source": [
    "y"
   ]
  },
  {
   "cell_type": "code",
   "execution_count": 8,
   "metadata": {},
   "outputs": [
    {
     "data": {
      "image/png": "[encoded data removed]",
      "text/plain": [
       "<Figure size 432x288 with 1 Axes>"
      ]
     },
     "metadata": {
      "needs_background": "light"
     },
     "output_type": "display_data"
    }
   ],
   "source": [
    "plt.plot(x,y)\n",
    "plt.xlabel('x')\n",
    "plt.ylabel('f(x)')\n",
    "plt.yscale('log')\n",
    "plt.show()"
   ]
  },
  {
   "cell_type": "code",
   "execution_count": 9,
   "metadata": {},
   "outputs": [],
   "source": [
    "x = np.arange(0.1,100,1)\n",
    "y = f(x)"
   ]
  },
  {
   "cell_type": "code",
   "execution_count": 10,
   "metadata": {},
   "outputs": [
    {
     "data": {
      "text/plain": [
       "array([ 0.1,  1.1,  2.1,  3.1,  4.1,  5.1,  6.1,  7.1,  8.1,  9.1, 10.1,\n",
       "       11.1, 12.1, 13.1, 14.1, 15.1, 16.1, 17.1, 18.1, 19.1, 20.1, 21.1,\n",
       "       22.1, 23.1, 24.1, 25.1, 26.1, 27.1, 28.1, 29.1, 30.1, 31.1, 32.1,\n",
       "       33.1, 34.1, 35.1, 36.1, 37.1, 38.1, 39.1, 40.1, 41.1, 42.1, 43.1,\n",
       "       44.1, 45.1, 46.1, 47.1, 48.1, 49.1, 50.1, 51.1, 52.1, 53.1, 54.1,\n",
       "       55.1, 56.1, 57.1, 58.1, 59.1, 60.1, 61.1, 62.1, 63.1, 64.1, 65.1,\n",
       "       66.1, 67.1, 68.1, 69.1, 70.1, 71.1, 72.1, 73.1, 74.1, 75.1, 76.1,\n",
       "       77.1, 78.1, 79.1, 80.1, 81.1, 82.1, 83.1, 84.1, 85.1, 86.1, 87.1,\n",
       "       88.1, 89.1, 90.1, 91.1, 92.1, 93.1, 94.1, 95.1, 96.1, 97.1, 98.1,\n",
       "       99.1])"
      ]
     },
     "execution_count": 10,
     "metadata": {},
     "output_type": "execute_result"
    }
   ],
   "source": [
    "x"
   ]
  },
  {
   "cell_type": "code",
   "execution_count": 11,
   "metadata": {},
   "outputs": [
    {
     "data": {
      "text/plain": [
       "array([10.        ,  0.90909091,  0.47619048,  0.32258065,  0.24390244,\n",
       "        0.19607843,  0.16393443,  0.14084507,  0.12345679,  0.10989011,\n",
       "        0.0990099 ,  0.09009009,  0.08264463,  0.07633588,  0.07092199,\n",
       "        0.06622517,  0.0621118 ,  0.05847953,  0.05524862,  0.05235602,\n",
       "        0.04975124,  0.04739336,  0.04524887,  0.04329004,  0.04149378,\n",
       "        0.03984064,  0.03831418,  0.03690037,  0.03558719,  0.03436426,\n",
       "        0.03322259,  0.03215434,  0.03115265,  0.03021148,  0.02932551,\n",
       "        0.02849003,  0.02770083,  0.02695418,  0.02624672,  0.02557545,\n",
       "        0.02493766,  0.0243309 ,  0.02375297,  0.02320186,  0.02267574,\n",
       "        0.02217295,  0.02169197,  0.02123142,  0.02079002,  0.0203666 ,\n",
       "        0.01996008,  0.01956947,  0.01919386,  0.01883239,  0.01848429,\n",
       "        0.01814882,  0.01782531,  0.01751313,  0.0172117 ,  0.01692047,\n",
       "        0.01663894,  0.01636661,  0.01610306,  0.01584786,  0.01560062,\n",
       "        0.01536098,  0.01512859,  0.01490313,  0.01468429,  0.01447178,\n",
       "        0.01426534,  0.0140647 ,  0.01386963,  0.01367989,  0.01349528,\n",
       "        0.01331558,  0.0131406 ,  0.01297017,  0.0128041 ,  0.01264223,\n",
       "        0.01248439,  0.01233046,  0.01218027,  0.01203369,  0.01189061,\n",
       "        0.01175088,  0.0116144 ,  0.01148106,  0.01135074,  0.01122334,\n",
       "        0.01109878,  0.01097695,  0.01085776,  0.01074114,  0.01062699,\n",
       "        0.01051525,  0.01040583,  0.01029866,  0.01019368,  0.01009082])"
      ]
     },
     "execution_count": 11,
     "metadata": {},
     "output_type": "execute_result"
    }
   ],
   "source": [
    "y"
   ]
  },
  {
   "cell_type": "code",
   "execution_count": 12,
   "metadata": {},
   "outputs": [
    {
     "data": {
      "image/png": "[encoded data removed]",
      "text/plain": [
       "<Figure size 432x288 with 1 Axes>"
      ]
     },
     "metadata": {
      "needs_background": "light"
     },
     "output_type": "display_data"
    }
   ],
   "source": [
    "plt.plot(x,y)\n",
    "plt.xlabel('x')\n",
    "plt.ylabel('f(x)')\n",
    "plt.yscale('log')\n",
    "plt.show()"
   ]
  },
  {
   "cell_type": "code",
   "execution_count": null,
   "metadata": {},
   "outputs": [],
   "source": []
  }
 ],
 "metadata": {
  "kernelspec": {
   "display_name": "Python 3",
   "language": "python",
   "name": "python3"
  },
  "language_info": {
   "codemirror_mode": {
    "name": "ipython",
    "version": 3
   },
   "file_extension": ".py",
   "mimetype": "text/x-python",
   "name": "python",
   "nbconvert_exporter": "python",
   "pygments_lexer": "ipython3",
   "version": "3.7.4"
  }
 },
 "nbformat": 4,
 "nbformat_minor": 2
}
