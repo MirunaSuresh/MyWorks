{
 "cells": [
  {
   "cell_type": "code",
   "execution_count": 1,
   "metadata": {},
   "outputs": [],
   "source": [
    "import requests\n",
    "import json\n",
    "from datetime import datetime, date, time"
   ]
  },
  {
   "cell_type": "code",
   "execution_count": 2,
   "metadata": {},
   "outputs": [],
   "source": [
    "response = requests.get(\"http://api.open-notify.org/iss-now.json\")"
   ]
  },
  {
   "cell_type": "code",
   "execution_count": 12,
   "metadata": {},
   "outputs": [
    {
     "name": "stdout",
     "output_type": "stream",
     "text": [
      "200\n"
     ]
    }
   ],
   "source": [
    "print(response.status_code)\n"
   ]
  },
  {
   "cell_type": "code",
   "execution_count": 19,
   "metadata": {},
   "outputs": [
    {
     "name": "stdout",
     "output_type": "stream",
     "text": [
      "{'message': 'success', 'request': {'altitude': 100, 'datetime': 1576628991, 'latitude': -33.87, 'longitude': 151.21, 'passes': 5}, 'response': [{'duration': 589, 'risetime': 1576657357}, {'duration': 649, 'risetime': 1576663119}, {'duration': 486, 'risetime': 1576669053}, {'duration': 344, 'risetime': 1576675029}, {'duration': 497, 'risetime': 1576680854}]}\n"
     ]
    }
   ],
   "source": [
    "parameters = {\n",
    "    \"lat\": -33.87,\n",
    "    \"lon\": 151.21\n",
    "}\n",
    "response = requests.get(\"http://api.open-notify.org/iss-pass.json\", params=parameters)\n",
    "\n",
    "print(response.json())"
   ]
  },
  {
   "cell_type": "code",
   "execution_count": 20,
   "metadata": {},
   "outputs": [
    {
     "name": "stdout",
     "output_type": "stream",
     "text": [
      "{\n",
      "   \"message\": \"success\",\n",
      "   \"request\": {\n",
      "      \"altitude\": 100,\n",
      "      \"datetime\": 1576628991,\n",
      "      \"latitude\": -33.87,\n",
      "      \"longitude\": 151.21,\n",
      "      \"passes\": 5\n",
      "   },\n",
      "   \"response\": [\n",
      "      {\n",
      "         \"duration\": 589,\n",
      "         \"risetime\": 1576657357\n",
      "      },\n",
      "      {\n",
      "         \"duration\": 649,\n",
      "         \"risetime\": 1576663119\n",
      "      },\n",
      "      {\n",
      "         \"duration\": 486,\n",
      "         \"risetime\": 1576669053\n",
      "      },\n",
      "      {\n",
      "         \"duration\": 344,\n",
      "         \"risetime\": 1576675029\n",
      "      },\n",
      "      {\n",
      "         \"duration\": 497,\n",
      "         \"risetime\": 1576680854\n",
      "      }\n",
      "   ]\n",
      "}\n"
     ]
    }
   ],
   "source": [
    "print(json.dumps(response.json(), indent=3, sort_keys=True))"
   ]
  },
  {
   "cell_type": "code",
   "execution_count": 22,
   "metadata": {},
   "outputs": [
    {
     "name": "stdout",
     "output_type": "stream",
     "text": [
      "{'Server': 'nginx/1.10.3', 'Date': 'Wed, 18 Dec 2019 01:24:04 GMT', 'Content-Type': 'application/json', 'Content-Length': '521', 'Connection': 'keep-alive', 'Via': '1.1 vegur'}\n"
     ]
    }
   ],
   "source": [
    "print(response.headers)"
   ]
  },
  {
   "cell_type": "code",
   "execution_count": 26,
   "metadata": {},
   "outputs": [
    {
     "name": "stdout",
     "output_type": "stream",
     "text": [
      "b'{\\n  \"message\": \"success\", \\n  \"request\": {\\n    \"altitude\": 100, \\n    \"datetime\": 1576628991, \\n    \"latitude\": -33.87, \\n    \"longitude\": 151.21, \\n    \"passes\": 5\\n  }, \\n  \"response\": [\\n    {\\n      \"duration\": 589, \\n      \"risetime\": 1576657357\\n    }, \\n    {\\n      \"duration\": 649, \\n      \"risetime\": 1576663119\\n    }, \\n    {\\n      \"duration\": 486, \\n      \"risetime\": 1576669053\\n    }, \\n    {\\n      \"duration\": 344, \\n      \"risetime\": 1576675029\\n    }, \\n    {\\n      \"duration\": 497, \\n      \"risetime\": 1576680854\\n    }\\n  ]\\n}\\n'\n"
     ]
    }
   ],
   "source": [
    "print(response.content)"
   ]
  },
  {
   "cell_type": "code",
   "execution_count": 27,
   "metadata": {},
   "outputs": [
    {
     "name": "stdout",
     "output_type": "stream",
     "text": [
      "{\n",
      "  \"message\": \"success\", \n",
      "  \"request\": {\n",
      "    \"altitude\": 100, \n",
      "    \"datetime\": 1576628991, \n",
      "    \"latitude\": -33.87, \n",
      "    \"longitude\": 151.21, \n",
      "    \"passes\": 5\n",
      "  }, \n",
      "  \"response\": [\n",
      "    {\n",
      "      \"duration\": 589, \n",
      "      \"risetime\": 1576657357\n",
      "    }, \n",
      "    {\n",
      "      \"duration\": 649, \n",
      "      \"risetime\": 1576663119\n",
      "    }, \n",
      "    {\n",
      "      \"duration\": 486, \n",
      "      \"risetime\": 1576669053\n",
      "    }, \n",
      "    {\n",
      "      \"duration\": 344, \n",
      "      \"risetime\": 1576675029\n",
      "    }, \n",
      "    {\n",
      "      \"duration\": 497, \n",
      "      \"risetime\": 1576680854\n",
      "    }\n",
      "  ]\n",
      "}\n",
      "\n"
     ]
    }
   ],
   "source": [
    "print(response.content.decode(\"utf-8\"))"
   ]
  },
  {
   "cell_type": "code",
   "execution_count": 28,
   "metadata": {},
   "outputs": [
    {
     "name": "stdout",
     "output_type": "stream",
     "text": [
      "application/json\n"
     ]
    }
   ],
   "source": [
    "print(response.headers['Content-Type'])"
   ]
  },
  {
   "cell_type": "code",
   "execution_count": 37,
   "metadata": {},
   "outputs": [
    {
     "name": "stdout",
     "output_type": "stream",
     "text": [
      "[1576657357, 1576663119, 1576669053, 1576675029, 1576680854]\n"
     ]
    }
   ],
   "source": [
    "response_json =json.loads(response.content.decode(\"utf-8\"))\n",
    "srisetime = []\n",
    "for r in response_json['response']:\n",
    "    srisetime.append(r['risetime'])\n",
    "print(srisetime)"
   ]
  },
  {
   "cell_type": "code",
   "execution_count": 40,
   "metadata": {},
   "outputs": [
    {
     "name": "stdout",
     "output_type": "stream",
     "text": [
      "[datetime.datetime(2019, 12, 18, 19, 22, 37), datetime.datetime(2019, 12, 18, 20, 58, 39), datetime.datetime(2019, 12, 18, 22, 37, 33), datetime.datetime(2019, 12, 19, 0, 17, 9), datetime.datetime(2019, 12, 19, 1, 54, 14)]\n"
     ]
    }
   ],
   "source": [
    "\n",
    "srisetimestamp = []\n",
    "for r in srisetime:\n",
    "    srisetimestamp.append(datetime.fromtimestamp(r))\n",
    "print(srisetimestamp)"
   ]
  },
  {
   "cell_type": "code",
   "execution_count": 41,
   "metadata": {},
   "outputs": [
    {
     "name": "stdout",
     "output_type": "stream",
     "text": [
      "18/12/19 07:22\n",
      "18/12/19 08:58\n",
      "18/12/19 10:37\n",
      "19/12/19 12:17\n",
      "19/12/19 01:54\n"
     ]
    }
   ],
   "source": [
    "for r in srisetimestamp:\n",
    "    print(r.strftime('%d/%m/%y %I:%M'))\n"
   ]
  },
  {
   "cell_type": "code",
   "execution_count": 42,
   "metadata": {},
   "outputs": [],
   "source": [
    "response = requests.get(\"http://api.open-notify.org/astros.json\")"
   ]
  },
  {
   "cell_type": "code",
   "execution_count": 43,
   "metadata": {},
   "outputs": [
    {
     "name": "stdout",
     "output_type": "stream",
     "text": [
      "200\n"
     ]
    }
   ],
   "source": [
    "print(response.status_code)"
   ]
  },
  {
   "cell_type": "code",
   "execution_count": 44,
   "metadata": {},
   "outputs": [
    {
     "name": "stdout",
     "output_type": "stream",
     "text": [
      "{\n",
      "   \"message\": \"success\",\n",
      "   \"number\": 6,\n",
      "   \"people\": [\n",
      "      {\n",
      "         \"craft\": \"ISS\",\n",
      "         \"name\": \"Christina Koch\"\n",
      "      },\n",
      "      {\n",
      "         \"craft\": \"ISS\",\n",
      "         \"name\": \"Alexander Skvortsov\"\n",
      "      },\n",
      "      {\n",
      "         \"craft\": \"ISS\",\n",
      "         \"name\": \"Luca Parmitano\"\n",
      "      },\n",
      "      {\n",
      "         \"craft\": \"ISS\",\n",
      "         \"name\": \"Andrew Morgan\"\n",
      "      },\n",
      "      {\n",
      "         \"craft\": \"ISS\",\n",
      "         \"name\": \"Oleg Skripochka\"\n",
      "      },\n",
      "      {\n",
      "         \"craft\": \"ISS\",\n",
      "         \"name\": \"Jessica Meir\"\n",
      "      }\n",
      "   ]\n",
      "}\n"
     ]
    }
   ],
   "source": [
    "print(json.dumps(response.json(), indent=3, sort_keys=True))"
   ]
  },
  {
   "cell_type": "code",
   "execution_count": 47,
   "metadata": {},
   "outputs": [
    {
     "name": "stdout",
     "output_type": "stream",
     "text": [
      "The number of astronaunts\n",
      "6\n"
     ]
    }
   ],
   "source": [
    "response_json =json.loads(response.content.decode(\"utf-8\"))\n",
    "print(\"The number of astronaunts\")\n",
    "print(response_json['number'])"
   ]
  },
  {
   "cell_type": "code",
   "execution_count": 48,
   "metadata": {},
   "outputs": [
    {
     "name": "stdout",
     "output_type": "stream",
     "text": [
      "Christina Koch\n",
      "Alexander Skvortsov\n",
      "Luca Parmitano\n",
      "Andrew Morgan\n",
      "Oleg Skripochka\n",
      "Jessica Meir\n"
     ]
    }
   ],
   "source": [
    "for r in response_json['people']:\n",
    "    print(r['name'])\n",
    "    "
   ]
  },
  {
   "cell_type": "code",
   "execution_count": 64,
   "metadata": {},
   "outputs": [],
   "source": [
    "def handleResponse(response, verbose = False):\n",
    "    '''\n",
    "    Returns Boolean Value, Status Code, \n",
    "\n",
    "    '''\n",
    "    if response.status_code == 200:\n",
    "        return False , response.status_code\n",
    "    else:\n",
    "        return True , response.status_code\n",
    "  # if Status Code is 200 return false, and status code\n",
    "  # Otherwise Return True and Status Code"
   ]
  },
  {
   "cell_type": "code",
   "execution_count": 66,
   "metadata": {},
   "outputs": [
    {
     "name": "stdout",
     "output_type": "stream",
     "text": [
      "No issues\n"
     ]
    },
    {
     "data": {
      "text/plain": [
       "True"
      ]
     },
     "execution_count": 66,
     "metadata": {},
     "output_type": "execute_result"
    }
   ],
   "source": [
    "response = requests.get(\"http://api.open-notify.org/astros.json\")\n",
    "if handleResponse(response)[0]:\n",
    "    print('API call failed. Resolve issue before continuing!')\n",
    "else:\n",
    "    print(\"No issues\")\n",
    "    \n",
    "response = requests.get(\"http://api.open-notify.org/iss-pass.json\")\n",
    "handleResponse(response, True)[0]"
   ]
  },
  {
   "cell_type": "code",
   "execution_count": null,
   "metadata": {},
   "outputs": [],
   "source": []
  }
 ],
 "metadata": {
  "kernelspec": {
   "display_name": "Python 3",
   "language": "python",
   "name": "python3"
  },
  "language_info": {
   "codemirror_mode": {
    "name": "ipython",
    "version": 3
   },
   "file_extension": ".py",
   "mimetype": "text/x-python",
   "name": "python",
   "nbconvert_exporter": "python",
   "pygments_lexer": "ipython3",
   "version": "3.7.4"
  }
 },
 "nbformat": 4,
 "nbformat_minor": 2
}
