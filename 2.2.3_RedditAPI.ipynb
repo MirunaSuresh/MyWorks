{
 "cells": [
  {
   "cell_type": "code",
   "execution_count": 2,
   "metadata": {},
   "outputs": [
    {
     "name": "stdout",
     "output_type": "stream",
     "text": [
      "Collecting praw\n",
      "  Downloading https://files.pythonhosted.org/packages/f6/df/b42c0a3b86a43a62a46e5b2f07930230ac7719624800a2052218993fb767/praw-6.4.0-py2.py3-none-any.whl (126kB)\n",
      "Collecting update-checker>=0.16 (from praw)\n",
      "  Downloading https://files.pythonhosted.org/packages/17/c9/ab11855af164d03be0ff4fddd4c46a5bd44799a9ecc1770e01a669c21168/update_checker-0.16-py2.py3-none-any.whl\n",
      "Collecting websocket-client>=0.54.0 (from praw)\n",
      "  Downloading https://files.pythonhosted.org/packages/29/19/44753eab1fdb50770ac69605527e8859468f3c0fd7dc5a76dd9c4dbd7906/websocket_client-0.56.0-py2.py3-none-any.whl (200kB)\n",
      "Collecting prawcore<2.0,>=1.0.1 (from praw)\n",
      "  Downloading https://files.pythonhosted.org/packages/76/b5/ce6282dea45cba6f08a30e25d18e0f3d33277e2c9fcbda75644b8dc0089b/prawcore-1.0.1-py2.py3-none-any.whl\n",
      "Requirement already satisfied: requests>=2.3.0 in c:\\users\\ven_n_000\\anaconda3\\lib\\site-packages (from update-checker>=0.16->praw) (2.22.0)\n",
      "Requirement already satisfied: six in c:\\users\\ven_n_000\\anaconda3\\lib\\site-packages (from websocket-client>=0.54.0->praw) (1.12.0)\n",
      "Requirement already satisfied: chardet<3.1.0,>=3.0.2 in c:\\users\\ven_n_000\\anaconda3\\lib\\site-packages (from requests>=2.3.0->update-checker>=0.16->praw) (3.0.4)\n",
      "Requirement already satisfied: urllib3!=1.25.0,!=1.25.1,<1.26,>=1.21.1 in c:\\users\\ven_n_000\\anaconda3\\lib\\site-packages (from requests>=2.3.0->update-checker>=0.16->praw) (1.24.2)\n",
      "Requirement already satisfied: idna<2.9,>=2.5 in c:\\users\\ven_n_000\\anaconda3\\lib\\site-packages (from requests>=2.3.0->update-checker>=0.16->praw) (2.8)\n",
      "Requirement already satisfied: certifi>=2017.4.17 in c:\\users\\ven_n_000\\anaconda3\\lib\\site-packages (from requests>=2.3.0->update-checker>=0.16->praw) (2019.9.11)\n",
      "Installing collected packages: update-checker, websocket-client, prawcore, praw\n",
      "Successfully installed praw-6.4.0 prawcore-1.0.1 update-checker-0.16 websocket-client-0.56.0\n"
     ]
    }
   ],
   "source": [
    "!pip install praw\n",
    "import praw\n",
    "import requests\n",
    "import json\n",
    "import pprint\n",
    "from datetime import datetime, date, time"
   ]
  },
  {
   "cell_type": "code",
   "execution_count": 3,
   "metadata": {},
   "outputs": [],
   "source": [
    "my_user_agent = 'MirunaSuresh23'   # your user Agent string goes in here\n",
    "my_client_id = '5eW2UCXpthcDlw'   # your Client ID string goes in here\n",
    "my_client_secret = 'lNhtu6-pdxkNTRjSzhL4EXu_7LE'   # your Secret string goes in here"
   ]
  },
  {
   "cell_type": "code",
   "execution_count": 4,
   "metadata": {},
   "outputs": [
    {
     "name": "stdout",
     "output_type": "stream",
     "text": [
      "Read-only = True\n"
     ]
    }
   ],
   "source": [
    "reddit = praw.Reddit(client_id = my_client_id, \n",
    "                     client_secret = my_client_secret, \n",
    "                     user_agent = my_user_agent)\n",
    "\n",
    "print('Read-only = ' + str(reddit.read_only)) "
   ]
  },
  {
   "cell_type": "code",
   "execution_count": 5,
   "metadata": {},
   "outputs": [
    {
     "data": {
      "text/plain": [
       "<praw.models.auth.Auth at 0x12233a4f948>"
      ]
     },
     "execution_count": 5,
     "metadata": {},
     "output_type": "execute_result"
    }
   ],
   "source": [
    "\n",
    "reddit.auth"
   ]
  },
  {
   "cell_type": "code",
   "execution_count": 6,
   "metadata": {},
   "outputs": [
    {
     "data": {
      "text/plain": [
       "<bound method Reddit.comment of <praw.reddit.Reddit object at 0x0000012233A4CBC8>>"
      ]
     },
     "execution_count": 6,
     "metadata": {},
     "output_type": "execute_result"
    }
   ],
   "source": [
    "reddit.comment"
   ]
  },
  {
   "cell_type": "code",
   "execution_count": 7,
   "metadata": {},
   "outputs": [
    {
     "data": {
      "text/plain": [
       "<bound method Reddit.domain of <praw.reddit.Reddit object at 0x0000012233A4CBC8>>"
      ]
     },
     "execution_count": 7,
     "metadata": {},
     "output_type": "execute_result"
    }
   ],
   "source": [
    "reddit.domain"
   ]
  },
  {
   "cell_type": "code",
   "execution_count": 8,
   "metadata": {},
   "outputs": [
    {
     "data": {
      "text/plain": [
       "True"
      ]
     },
     "execution_count": 8,
     "metadata": {},
     "output_type": "execute_result"
    }
   ],
   "source": [
    "reddit.update_checked"
   ]
  },
  {
   "cell_type": "code",
   "execution_count": 9,
   "metadata": {},
   "outputs": [
    {
     "data": {
      "text/plain": [
       "<praw.models.user.User at 0x12233a4f0c8>"
      ]
     },
     "execution_count": 9,
     "metadata": {},
     "output_type": "execute_result"
    }
   ],
   "source": [
    "reddit.user\n"
   ]
  },
  {
   "cell_type": "code",
   "execution_count": 10,
   "metadata": {},
   "outputs": [
    {
     "name": "stdout",
     "output_type": "stream",
     "text": [
      "Ask Anything Monday - Weekly Thread\n",
      "I am embarrassed to ask this newbie question\n",
      "Why in python 150_000 or 23_232 are just same as 150000 or 23232 ?\n",
      "PETITION TO MAKE THIS THE SUBREDDIT LOGO\n",
      "Working my way through Edabit.com challenges, struggling with \"Pythonic\" solutions.\n",
      "Is it possible to create such GUIs in Python?\n",
      "Can you solve it ?\n",
      "Creating simple data model classes with metaclasses\n",
      "What are the advantages of Conda environments over venv?\n",
      "Learn python with hands-on labs, a good way to learn by doing\n"
     ]
    }
   ],
   "source": [
    "for submission in reddit.subreddit('learnpython').hot(limit=10):\n",
    "    print(submission.title)"
   ]
  },
  {
   "cell_type": "code",
   "execution_count": 11,
   "metadata": {},
   "outputs": [
    {
     "name": "stdout",
     "output_type": "stream",
     "text": [
      "AutoModerator\n",
      "TN-Gman\n",
      "sparsh-gupta\n",
      "jEsUs-QuEsTiOn-MaRk\n",
      "unnecessary_kindness\n",
      "ForlornExistence\n",
      "neerajjoon\n",
      "maniekb12\n",
      "max_motyshen\n",
      "Zyra_get_a_new_skin\n"
     ]
    }
   ],
   "source": [
    "for submission in reddit.subreddit('learnpython').hot(limit=10):\n",
    "    print(submission.author)"
   ]
  },
  {
   "cell_type": "code",
   "execution_count": 14,
   "metadata": {},
   "outputs": [
    {
     "name": "stdout",
     "output_type": "stream",
     "text": [
      "author AutoModerator\n",
      "title Ask Anything Monday - Weekly Thread\n",
      "author TN-Gman\n",
      "title I am embarrassed to ask this newbie question\n",
      "author sparsh-gupta\n",
      "title Why in python 150_000 or 23_232 are just same as 150000 or 23232 ?\n",
      "author jEsUs-QuEsTiOn-MaRk\n",
      "title PETITION TO MAKE THIS THE SUBREDDIT LOGO\n",
      "author unnecessary_kindness\n",
      "title Working my way through Edabit.com challenges, struggling with \"Pythonic\" solutions.\n",
      "author ForlornExistence\n",
      "title Is it possible to create such GUIs in Python?\n",
      "author neerajjoon\n",
      "title Can you solve it ?\n",
      "author maniekb12\n",
      "title Creating simple data model classes with metaclasses\n",
      "author max_motyshen\n",
      "title What are the advantages of Conda environments over venv?\n",
      "author Zyra_get_a_new_skin\n",
      "title Learn python with hands-on labs, a good way to learn by doing\n"
     ]
    }
   ],
   "source": [
    "for submission in reddit.subreddit('learnpython').hot(limit=10):\n",
    "    print(\"author \"+str(submission.author))\n",
    "    print(\"title \"+str(submission.title))"
   ]
  },
  {
   "cell_type": "code",
   "execution_count": 18,
   "metadata": {},
   "outputs": [
    {
     "name": "stdout",
     "output_type": "stream",
     "text": [
      "No values for submissions\n"
     ]
    }
   ],
   "source": [
    "try:\n",
    "    for submission in submissions:\n",
    "        print(submission.comments)\n",
    "except:\n",
    "        print(\"No values for submissions\")"
   ]
  },
  {
   "cell_type": "code",
   "execution_count": 19,
   "metadata": {},
   "outputs": [
    {
     "name": "stdout",
     "output_type": "stream",
     "text": [
      "I'm new to programming new things in python and in general, the first project is something that I kinda want to do for fun, it doesn't exist in exactly the way I want it and so I'm creating it from scratch, just a simple project. But having completed most of it, I have to say that I really just used a bunch of other peoples libraries (?), like a bunch of import statements, and linked together their functionalities. Is this normal or even okay to do? Can I call this my own project? What are the logistics behind doing something like this? Thanks for helping me out with any answers.\n",
      "What are the basic building blocks of python I should be familiar with that will allow me to just sit at my IDE and bang out a program?\n",
      "You *have* to run it. The cell's just an editable text box until you run the code.\n",
      "\n",
      "You can hit shift+enter to run the cell, though, if that's the shortcut you're looking for.\n",
      "You're not a \"newbie\" or a \"dumbass\" for not knowing a specific keyboard shortcut off the top of your head. There are seasoned professionals out there who don't know that shortcut.\n",
      "\n",
      "The thing about this question that marks you as a newbie is that you asked it rather than going straight to google or the jupyter notebook docs.\n",
      "\n",
      "Next time you hit a similar problem try the following:\n",
      "\n",
      "(1) google \"jupyter notebook <command you want> keyboard shortcut\"\n",
      "\n",
      "if that doesn't work...\n",
      "\n",
      "(2) google \"jupyter notebook official documentation\" and look around for what you need\n",
      "\n",
      "if THAT doesn't work...\n",
      "\n",
      "(3) search stackoverflow\n",
      "\n",
      "if THAT STILL doesn't work...\n",
      "\n",
      "(4) post a question on reddit and/or stackoverflow\n",
      "\n",
      "&#x200B;\n",
      "\n",
      "50% of programming, no exaggeration, is some variation of the process I outlined above. For me, if I'm hitting a problem I (1) search google, (2) search docs, (3) search forums, (4) search git, (5) post question on stackoverflow.\n",
      "Because code should be human readable, and sometimes its convenient to add separators to literals.\n",
      "[Underscores are allowed in numeric literals](https://www.python.org/dev/peps/pep-0515/) as a way to provide visual separation. `1_000_000_000` makes it more immediately obvious that it's one billion than `1000000000` does. Other languages have similar constructs, like single quotes in C++: `1'000'000 == 1000000`\n",
      "I like the idea of the design but I think the execution could take a little more improvement\n",
      "Python graduating... Nice.\n",
      "As nice as one-liners are for solving coding challenges, if they get complicated enough they wouldn't pass code review at the company I work at.\n",
      "\n",
      "The one-liner you've provided there is pretty clear in it's intention so may pass, but there's nothing wrong with the code you wrote - it's perfectly good code and I wouldn't judge it negatively for being 5 lines rather than 1.\n",
      "While readability is important, I think it's more important not to iterate when you don't have to. Operations like the one you attempted to do in a loop can, and should, be done in a list comprehension or with lambda +map/reduce/filter. Depending on your skill level, filter with lambda should be just as readable as for loop with if statement. \n",
      "\n",
      "Something you'll also want to think about later, especially if you're handling a lot of data, is computational overhead for an action. Sometimes the differences between approaches seems trivial to us, especially when we're early in the learning process, because the results look the same. They only *look* the same though. If you time them or have a comprehensive understanding of what's going on under the hood, they can be wildly different.\n",
      "Pyqt5 can do that. Back at my old job I made a UI that looked like a Hearthstone card which included animations and sound effects when hovering, clicking, etc. Look into canvas, painting and the abstract version of widgets to create custom art. You can even use css for custom colouring, font etc. It's a very open system. \n",
      "\n",
      "As a very basic example, in my character sheet app I have some QAbstractButtons which use custom art. The Dot class here cycles between a empty and full dot. https://github.com/further-reading/Dicecord/blob/master/code/basicUI.py\n",
      "\n",
      "Edit: You can also use QMovie widgets in pyqt5 to add embedded gifs for animation. I had one app that would pause and play gifs when loading, working and finishing tasks.\n",
      "\n",
      "Double edit: I found an old demo clip I made for that hearthstone inpsired UI: https://www.youtube.com/watch?v=Nef7boZO6BE. Over my Christmas break I'll strip the non-UI code out of it and work on a blog post explaining how to make something like this. If you'd be interested keep an eye on my blog for the update: https://further-reading.net/\n",
      "Honestly you could do this with almost any of the GUI frameworks. Even tkinter. Best get subclassin'!\n",
      "Interviewers like recursive solutions:\n",
      "\n",
      "    def delve(dict_or_value):\n",
      "        if not isinstance(dict_or_value, dict):\n",
      "            return dict_or_value\n",
      "        for val in dict_or_value.values():\n",
      "            return delve(val)\n",
      "\n",
      "    print(delve(a))\n",
      "\n",
      "This'll get the depth-first value that isn't a dictionary (if I did this right.)\n",
      "    while isinstance(a, dict):\n",
      "        a = a.values()[0]\n",
      "    print(a)\n",
      "Probably not what you want but you can use **args or **kwargs to take a bunch of arguments that can be stored as a single attribute.  In the example below we assign **kwargs which will be a dict to self.att attribute.  You can then get the values for your arguments by using an accessor on that att attribute.\n",
      "\n",
      "~~~\n",
      "\n",
      "class Gummy:\n",
      "    def __init__(self, **kwargs):\n",
      "        self.att = kwargs\n",
      "        \n",
      "blue_gum = Gummy(name = \"Blue Berry Gummy\", color = \"blue\", flavor = \"blue_berry\")\n",
      "\n",
      "print(blue_gum.att[\"name\"])\n",
      "\n",
      "~~~\n",
      "\n",
      "This slims down your __init__ method but makes it easier for your users to call your function wrong by using incorrect kwargs key names for the keys your class methods try to use. I use kwargs a lot I’m my classes but my init method always calls a method to validate that the caller passed in valid arguments.\n",
      "Yeah, We could even do something like `self.__dict__.update(kwargs)` in init body (instead of self.att = dict, then these attributes could be directly accessed: blue_gum.name, but it indeed be even easier to break something. Anyways, my goal is to have model classes declare their fields, so the reader of the code knows what to expect. (Btw, there is quite nice comment written by Stew below this question https://stackoverflow.com/questions/6578986/how-to-convert-json-data-into-a-python-object about why  object may be better than dict.)\n",
      "Conda doesn't duplicate downloaded packages. If you have 10 `venv` created virtual environments, you have to either interlink them in a hierarchical way (real clusterfuck), or you will have each of the packages repeated in these environments downloaded and stored on your computer as many times it is used.\n",
      "\n",
      "Conda has a central repository, and environments automatically link to it, if they need an already existing package.\n",
      "You can google this exact question and get a more thought out response with a bonus play by the rules on the sidebar. \n",
      "\n",
      "My opinion is that conda was great before pip wheels were a thing. Installing from pip used to mean compilation from source so the developer needed to install dependencies etc. this was especially hard in Windows that doesn’t come preconfigured with a compiler without installing the windows SDK sand visual studio matching python version.\n"
     ]
    }
   ],
   "source": [
    "submissions = reddit.subreddit('learnpython').hot(limit=10)\n",
    "for submission in submissions:\n",
    "    top_level_comments = list(submission.comments)\n",
    "    all_comments = submission.comments.list()[:2]\n",
    "    for comment in all_comments:\n",
    "        print(comment.body)"
   ]
  },
  {
   "cell_type": "code",
   "execution_count": 23,
   "metadata": {},
   "outputs": [
    {
     "name": "stdout",
     "output_type": "stream",
     "text": [
      "author AutoModerator\n",
      "title Ask Anything Monday - Weekly Thread\n",
      "clicked False\n",
      "comment <praw.models.comment_forest.CommentForest object at 0x000001223537F3C8>\n",
      "author TN-Gman\n",
      "title I am embarrassed to ask this newbie question\n",
      "clicked False\n",
      "comment <praw.models.comment_forest.CommentForest object at 0x00000122351FD288>\n",
      "author sparsh-gupta\n",
      "title Why in python 150_000 or 23_232 are just same as 150000 or 23232 ?\n",
      "clicked False\n",
      "comment <praw.models.comment_forest.CommentForest object at 0x0000012235046708>\n",
      "author jEsUs-QuEsTiOn-MaRk\n",
      "title PETITION TO MAKE THIS THE SUBREDDIT LOGO\n",
      "clicked False\n",
      "comment <praw.models.comment_forest.CommentForest object at 0x0000012234F5B308>\n",
      "author unnecessary_kindness\n",
      "title Working my way through Edabit.com challenges, struggling with \"Pythonic\" solutions.\n",
      "clicked False\n",
      "comment <praw.models.comment_forest.CommentForest object at 0x000001223520FA88>\n",
      "author ForlornExistence\n",
      "title Is it possible to create such GUIs in Python?\n",
      "clicked False\n",
      "comment <praw.models.comment_forest.CommentForest object at 0x000001223553C408>\n",
      "author neerajjoon\n",
      "title Can you solve it ?\n",
      "clicked False\n",
      "comment <praw.models.comment_forest.CommentForest object at 0x00000122355AD688>\n",
      "author maniekb12\n",
      "title Creating simple data model classes with metaclasses\n",
      "clicked False\n",
      "comment <praw.models.comment_forest.CommentForest object at 0x0000012234F929C8>\n",
      "author max_motyshen\n",
      "title What are the advantages of Conda environments over venv?\n",
      "clicked False\n",
      "comment <praw.models.comment_forest.CommentForest object at 0x00000122355723C8>\n",
      "author testfire10\n",
      "title Help finding a place to download financial data for stocks for a little project I'm doing\n",
      "clicked False\n",
      "comment <praw.models.comment_forest.CommentForest object at 0x0000012234F28B08>\n"
     ]
    }
   ],
   "source": [
    "for submission in reddit.subreddit('learnpython').hot(limit=10):\n",
    "    print(\"author \"+str(submission.author))\n",
    "    print(\"title \"+str(submission.title))\n",
    "    print(\"clicked \"+str(submission.clicked))\n",
    "    print(\"edited \"+str(submission.edited))\n",
    "    print(\"name \"+str(submission.name))\n",
    "    print(\"clicked \"+str(submission.score))\n",
    "    print(\"comment \"+str(submission.comments))"
   ]
  },
  {
   "cell_type": "code",
   "execution_count": 26,
   "metadata": {},
   "outputs": [
    {
     "name": "stdout",
     "output_type": "stream",
     "text": [
      "False\n"
     ]
    }
   ],
   "source": [
    "reddit = praw.Reddit(client_id='my client id',\n",
    "                     client_secret='my client secret',\n",
    "                     user_agent='my user agent',\n",
    "                     username='MirunaSuresh23',\n",
    "                     password='lotusfeet')\n",
    "print(reddit.read_only)  # Output: False"
   ]
  },
  {
   "cell_type": "code",
   "execution_count": null,
   "metadata": {},
   "outputs": [],
   "source": [
    "re"
   ]
  }
 ],
 "metadata": {
  "kernelspec": {
   "display_name": "Python 3",
   "language": "python",
   "name": "python3"
  },
  "language_info": {
   "codemirror_mode": {
    "name": "ipython",
    "version": 3
   },
   "file_extension": ".py",
   "mimetype": "text/x-python",
   "name": "python",
   "nbconvert_exporter": "python",
   "pygments_lexer": "ipython3",
   "version": "3.7.4"
  }
 },
 "nbformat": 4,
 "nbformat_minor": 2
}
