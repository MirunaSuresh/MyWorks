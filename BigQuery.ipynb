{
 "cells": [
  {
   "cell_type": "code",
   "execution_count": 1,
   "metadata": {},
   "outputs": [],
   "source": [
    "#pip install --upgrade google-cloud-storage"
   ]
  },
  {
   "cell_type": "code",
   "execution_count": 2,
   "metadata": {},
   "outputs": [],
   "source": [
    "#pip install --upgrade google-cloud-bigquery"
   ]
  },
  {
   "cell_type": "code",
   "execution_count": 1,
   "metadata": {},
   "outputs": [],
   "source": [
    "from google.cloud import bigquery\n",
    "from google.cloud.bigquery import Dataset\n",
    "from google.cloud import storage"
   ]
  },
  {
   "cell_type": "code",
   "execution_count": 2,
   "metadata": {},
   "outputs": [],
   "source": [
    "def implicit():\n",
    "    from google.cloud import storage\n",
    "\n",
    "    # If you don't specify credentials when constructing the client, the\n",
    "    # client library will look for credentials in the environment.\n",
    "    storage_client = storage.Client()\n",
    "\n",
    "    # Make an authenticated API request\n",
    "    buckets = list(storage_client.list_buckets())\n",
    "    print(buckets)"
   ]
  },
  {
   "cell_type": "code",
   "execution_count": 4,
   "metadata": {},
   "outputs": [],
   "source": [
    "key_path = '../../../../BigQueryProjectMiruna-279521d23cbc.json'"
   ]
  },
  {
   "cell_type": "code",
   "execution_count": 5,
   "metadata": {},
   "outputs": [],
   "source": [
    "storage_client = storage.Client.from_service_account_json(key_path)"
   ]
  },
  {
   "cell_type": "code",
   "execution_count": 7,
   "metadata": {},
   "outputs": [
    {
     "data": {
      "text/plain": [
       "'bigqueryprojectmiruna'"
      ]
     },
     "execution_count": 7,
     "metadata": {},
     "output_type": "execute_result"
    }
   ],
   "source": [
    "storage_client.project"
   ]
  },
  {
   "cell_type": "code",
   "execution_count": 8,
   "metadata": {},
   "outputs": [],
   "source": [
    "client = bigquery.Client.from_service_account_json(key_path)"
   ]
  },
  {
   "cell_type": "code",
   "execution_count": 9,
   "metadata": {},
   "outputs": [
    {
     "data": {
      "text/plain": [
       "'bigqueryprojectmiruna'"
      ]
     },
     "execution_count": 9,
     "metadata": {},
     "output_type": "execute_result"
    }
   ],
   "source": [
    "client.project"
   ]
  },
  {
   "cell_type": "code",
   "execution_count": 37,
   "metadata": {},
   "outputs": [
    {
     "name": "stdout",
     "output_type": "stream",
     "text": [
      "bigqueryprojectmiruna\n"
     ]
    }
   ],
   "source": [
    "client = bigquery.Client.from_service_account_json(key_path)\n",
    "print(client.project)"
   ]
  },
  {
   "cell_type": "code",
   "execution_count": 12,
   "metadata": {},
   "outputs": [
    {
     "name": "stdout",
     "output_type": "stream",
     "text": [
      "[<google.cloud.bigquery.dataset.DatasetListItem object at 0x000001972667BF88>, <google.cloud.bigquery.dataset.DatasetListItem object at 0x000001972667BB88>, <google.cloud.bigquery.dataset.DatasetListItem object at 0x000001972667B948>, <google.cloud.bigquery.dataset.DatasetListItem object at 0x000001972656FB48>, <google.cloud.bigquery.dataset.DatasetListItem object at 0x000001972656F088>, <google.cloud.bigquery.dataset.DatasetListItem object at 0x000001972656F1C8>, <google.cloud.bigquery.dataset.DatasetListItem object at 0x000001972656F348>, <google.cloud.bigquery.dataset.DatasetListItem object at 0x0000019726684E88>, <google.cloud.bigquery.dataset.DatasetListItem object at 0x0000019726568488>, <google.cloud.bigquery.dataset.DatasetListItem object at 0x000001972669A988>, <google.cloud.bigquery.dataset.DatasetListItem object at 0x000001972669AC88>, <google.cloud.bigquery.dataset.DatasetListItem object at 0x000001972669A5C8>, <google.cloud.bigquery.dataset.DatasetListItem object at 0x000001972669A488>, <google.cloud.bigquery.dataset.DatasetListItem object at 0x000001972669AB48>, <google.cloud.bigquery.dataset.DatasetListItem object at 0x000001972669A6C8>, <google.cloud.bigquery.dataset.DatasetListItem object at 0x00000197266A1C88>, <google.cloud.bigquery.dataset.DatasetListItem object at 0x00000197266A1D48>, <google.cloud.bigquery.dataset.DatasetListItem object at 0x00000197266A19C8>, <google.cloud.bigquery.dataset.DatasetListItem object at 0x00000197266A1A48>, <google.cloud.bigquery.dataset.DatasetListItem object at 0x00000197266A1A88>, <google.cloud.bigquery.dataset.DatasetListItem object at 0x00000197266A1AC8>, <google.cloud.bigquery.dataset.DatasetListItem object at 0x00000197266A1A08>, <google.cloud.bigquery.dataset.DatasetListItem object at 0x00000197266A1D88>, <google.cloud.bigquery.dataset.DatasetListItem object at 0x00000197266A1608>, <google.cloud.bigquery.dataset.DatasetListItem object at 0x00000197266A1948>, <google.cloud.bigquery.dataset.DatasetListItem object at 0x00000197266A1DC8>, <google.cloud.bigquery.dataset.DatasetListItem object at 0x00000197266A1848>, <google.cloud.bigquery.dataset.DatasetListItem object at 0x00000197266A1888>, <google.cloud.bigquery.dataset.DatasetListItem object at 0x00000197266A1D08>, <google.cloud.bigquery.dataset.DatasetListItem object at 0x00000197266A1EC8>, <google.cloud.bigquery.dataset.DatasetListItem object at 0x00000197266A1E48>, <google.cloud.bigquery.dataset.DatasetListItem object at 0x00000197266F4688>, <google.cloud.bigquery.dataset.DatasetListItem object at 0x00000197266F46C8>, <google.cloud.bigquery.dataset.DatasetListItem object at 0x00000197266F4708>, <google.cloud.bigquery.dataset.DatasetListItem object at 0x00000197266F4748>, <google.cloud.bigquery.dataset.DatasetListItem object at 0x00000197266F4788>, <google.cloud.bigquery.dataset.DatasetListItem object at 0x00000197266F47C8>, <google.cloud.bigquery.dataset.DatasetListItem object at 0x00000197266F4808>, <google.cloud.bigquery.dataset.DatasetListItem object at 0x00000197266F4848>, <google.cloud.bigquery.dataset.DatasetListItem object at 0x00000197266F4888>, <google.cloud.bigquery.dataset.DatasetListItem object at 0x00000197266F48C8>, <google.cloud.bigquery.dataset.DatasetListItem object at 0x00000197266F4908>, <google.cloud.bigquery.dataset.DatasetListItem object at 0x00000197266F4948>, <google.cloud.bigquery.dataset.DatasetListItem object at 0x00000197266F4988>, <google.cloud.bigquery.dataset.DatasetListItem object at 0x00000197266F49C8>, <google.cloud.bigquery.dataset.DatasetListItem object at 0x00000197266F4A08>, <google.cloud.bigquery.dataset.DatasetListItem object at 0x00000197266F4A48>, <google.cloud.bigquery.dataset.DatasetListItem object at 0x00000197266F4A88>, <google.cloud.bigquery.dataset.DatasetListItem object at 0x00000197266F4AC8>, <google.cloud.bigquery.dataset.DatasetListItem object at 0x00000197266F4B08>, <google.cloud.bigquery.dataset.DatasetListItem object at 0x0000019725E20F88>, <google.cloud.bigquery.dataset.DatasetListItem object at 0x0000019725B43C48>, <google.cloud.bigquery.dataset.DatasetListItem object at 0x000001972669DD08>, <google.cloud.bigquery.dataset.DatasetListItem object at 0x000001972668B448>, <google.cloud.bigquery.dataset.DatasetListItem object at 0x000001972667BE88>, <google.cloud.bigquery.dataset.DatasetListItem object at 0x000001972669A0C8>, <google.cloud.bigquery.dataset.DatasetListItem object at 0x00000197266846C8>, <google.cloud.bigquery.dataset.DatasetListItem object at 0x00000197266F4C88>, <google.cloud.bigquery.dataset.DatasetListItem object at 0x00000197266F4D88>, <google.cloud.bigquery.dataset.DatasetListItem object at 0x00000197266F4D08>, <google.cloud.bigquery.dataset.DatasetListItem object at 0x00000197266F4CC8>, <google.cloud.bigquery.dataset.DatasetListItem object at 0x00000197266F4EC8>, <google.cloud.bigquery.dataset.DatasetListItem object at 0x00000197266F4E48>, <google.cloud.bigquery.dataset.DatasetListItem object at 0x00000197266F4D48>, <google.cloud.bigquery.dataset.DatasetListItem object at 0x00000197266F4F88>, <google.cloud.bigquery.dataset.DatasetListItem object at 0x00000197266F81C8>, <google.cloud.bigquery.dataset.DatasetListItem object at 0x00000197266F8188>, <google.cloud.bigquery.dataset.DatasetListItem object at 0x00000197266F8148>, <google.cloud.bigquery.dataset.DatasetListItem object at 0x00000197266F8108>, <google.cloud.bigquery.dataset.DatasetListItem object at 0x00000197266F80C8>, <google.cloud.bigquery.dataset.DatasetListItem object at 0x00000197266F8648>, <google.cloud.bigquery.dataset.DatasetListItem object at 0x00000197266F8548>, <google.cloud.bigquery.dataset.DatasetListItem object at 0x00000197266F8508>, <google.cloud.bigquery.dataset.DatasetListItem object at 0x00000197266F8448>, <google.cloud.bigquery.dataset.DatasetListItem object at 0x00000197266F84C8>, <google.cloud.bigquery.dataset.DatasetListItem object at 0x00000197266A1C48>, <google.cloud.bigquery.dataset.DatasetListItem object at 0x00000197266A1548>, <google.cloud.bigquery.dataset.DatasetListItem object at 0x00000197266A14C8>, <google.cloud.bigquery.dataset.DatasetListItem object at 0x00000197266A1CC8>, <google.cloud.bigquery.dataset.DatasetListItem object at 0x00000197266A1F88>, <google.cloud.bigquery.dataset.DatasetListItem object at 0x00000197266A1FC8>, <google.cloud.bigquery.dataset.DatasetListItem object at 0x00000197266A1E88>, <google.cloud.bigquery.dataset.DatasetListItem object at 0x00000197266A1308>, <google.cloud.bigquery.dataset.DatasetListItem object at 0x00000197266A1508>, <google.cloud.bigquery.dataset.DatasetListItem object at 0x00000197266A1448>, <google.cloud.bigquery.dataset.DatasetListItem object at 0x00000197266A1F48>, <google.cloud.bigquery.dataset.DatasetListItem object at 0x00000197266A1348>, <google.cloud.bigquery.dataset.DatasetListItem object at 0x00000197266FDAC8>, <google.cloud.bigquery.dataset.DatasetListItem object at 0x00000197266FDB08>, <google.cloud.bigquery.dataset.DatasetListItem object at 0x00000197266FDB48>, <google.cloud.bigquery.dataset.DatasetListItem object at 0x00000197266FDB88>, <google.cloud.bigquery.dataset.DatasetListItem object at 0x00000197266FDBC8>, <google.cloud.bigquery.dataset.DatasetListItem object at 0x00000197266FDC08>, <google.cloud.bigquery.dataset.DatasetListItem object at 0x00000197266FDC48>, <google.cloud.bigquery.dataset.DatasetListItem object at 0x00000197266FDC88>, <google.cloud.bigquery.dataset.DatasetListItem object at 0x00000197266FDCC8>, <google.cloud.bigquery.dataset.DatasetListItem object at 0x00000197266FDD08>, <google.cloud.bigquery.dataset.DatasetListItem object at 0x00000197266FDD48>, <google.cloud.bigquery.dataset.DatasetListItem object at 0x00000197266FDD88>, <google.cloud.bigquery.dataset.DatasetListItem object at 0x00000197266FDDC8>, <google.cloud.bigquery.dataset.DatasetListItem object at 0x000001972668BF08>, <google.cloud.bigquery.dataset.DatasetListItem object at 0x000001972669A7C8>, <google.cloud.bigquery.dataset.DatasetListItem object at 0x00000197266ED6C8>, <google.cloud.bigquery.dataset.DatasetListItem object at 0x00000197266ED588>, <google.cloud.bigquery.dataset.DatasetListItem object at 0x00000197266F4FC8>, <google.cloud.bigquery.dataset.DatasetListItem object at 0x00000197266F4B48>, <google.cloud.bigquery.dataset.DatasetListItem object at 0x00000197266F4BC8>, <google.cloud.bigquery.dataset.DatasetListItem object at 0x00000197266F4B88>, <google.cloud.bigquery.dataset.DatasetListItem object at 0x00000197266F4C48>, <google.cloud.bigquery.dataset.DatasetListItem object at 0x00000197266F4E08>, <google.cloud.bigquery.dataset.DatasetListItem object at 0x00000197266F8088>, <google.cloud.bigquery.dataset.DatasetListItem object at 0x00000197266F8488>, <google.cloud.bigquery.dataset.DatasetListItem object at 0x00000197266F8408>, <google.cloud.bigquery.dataset.DatasetListItem object at 0x00000197266F8208>]"
     ]
    },
    {
     "name": "stdout",
     "output_type": "stream",
     "text": [
      "\n"
     ]
    }
   ],
   "source": [
    "datasets = list(client.list_datasets())\n",
    "print(datasets)"
   ]
  },
  {
   "cell_type": "code",
   "execution_count": 13,
   "metadata": {},
   "outputs": [
    {
     "name": "stdout",
     "output_type": "stream",
     "text": [
      "austin_311\n",
      "austin_bikeshare\n",
      "austin_crime\n",
      "austin_incidents\n",
      "austin_waste\n",
      "baseball\n",
      "bitcoin_blockchain\n",
      "bls\n",
      "census_bureau_acs\n",
      "census_bureau_construction\n",
      "census_bureau_international\n",
      "census_bureau_usa\n",
      "census_utility\n",
      "chicago_crime\n",
      "chicago_taxi_trips\n",
      "cloud_storage_geo_index\n",
      "cms_codes\n",
      "cms_medicare\n",
      "cms_synthetic_patient_data_omop\n",
      "crypto_bitcoin\n",
      "crypto_bitcoin_cash\n",
      "crypto_dash\n",
      "crypto_dogecoin\n",
      "crypto_ethereum\n",
      "crypto_ethereum_classic\n",
      "crypto_litecoin\n",
      "crypto_zcash\n",
      "eclipse_megamovie\n",
      "epa_historical_air_quality\n",
      "ethereum_blockchain\n",
      "faa\n",
      "fda_drug\n",
      "fda_food\n",
      "fec\n",
      "genomics_cannabis\n",
      "genomics_rice\n",
      "geo_census_blockgroups\n",
      "geo_census_tracts\n",
      "geo_international_ports\n",
      "geo_us_boundaries\n",
      "geo_us_census_places\n",
      "geo_us_roads\n",
      "geolite2\n",
      "ghcn_d\n",
      "ghcn_m\n",
      "github_repos\n",
      "google_analytics_sample\n",
      "google_political_ads\n",
      "hacker_news\n",
      "human_genome_variants\n",
      "human_variant_annotation\n",
      "iowa_liquor_sales\n",
      "irs_990\n",
      "labeled_patents\n",
      "libraries_io\n",
      "london_bicycles\n",
      "london_crime\n",
      "london_fire_brigade\n",
      "medicare\n",
      "ml_datasets\n",
      "moon_phases\n",
      "nasa_wildfire\n",
      "ncaa_basketball\n",
      "new_york\n",
      "new_york_311\n",
      "new_york_citibike\n",
      "new_york_mv_collisions\n",
      "new_york_subway\n",
      "new_york_taxi_trips\n",
      "new_york_trees\n",
      "nhtsa_traffic_fatalities\n",
      "nlm_rxnorm\n",
      "noaa_goes16\n",
      "noaa_goes17\n",
      "noaa_gsod\n",
      "noaa_historic_severe_storms\n",
      "noaa_hurricanes\n",
      "noaa_icoads\n",
      "noaa_lightning\n",
      "noaa_passive_acoustic_index\n",
      "noaa_pifsc_metadata\n",
      "noaa_preliminary_severe_storms\n",
      "noaa_significant_earthquakes\n",
      "noaa_tsunami\n",
      "nppes\n",
      "open_images\n",
      "openaq\n",
      "persistent_udfs\n",
      "samples\n",
      "san_francisco\n",
      "san_francisco_311\n",
      "san_francisco_bikeshare\n",
      "san_francisco_film_locations\n",
      "san_francisco_sffd_service_calls\n",
      "san_francisco_sfpd_incidents\n",
      "san_francisco_transit_muni\n",
      "san_francisco_trees\n",
      "sec_quarterly_financials\n",
      "stackoverflow\n",
      "sunroof_solar\n",
      "the_met\n",
      "umiami_lincs\n",
      "un_sdg\n",
      "usa_names\n",
      "usda_nass_agriculture\n",
      "usfs_fia\n",
      "utility_eu\n",
      "utility_us\n",
      "wikipedia\n",
      "wise_all_sky_data_release\n",
      "world_bank_health_population\n",
      "world_bank_intl_debt\n",
      "world_bank_intl_education\n",
      "world_bank_wdi\n"
     ]
    }
   ],
   "source": [
    "for data in datasets:\n",
    "    print(data.dataset_id)"
   ]
  },
  {
   "cell_type": "code",
   "execution_count": 15,
   "metadata": {},
   "outputs": [],
   "source": [
    "def printDatasetList(client):\n",
    "    project = client.project    #: only one project can be associated with a client instance\n",
    "    datasets = list(client.list_datasets())\n",
    "    if datasets:\n",
    "        print('Datasets in project {}:'.format(project))\n",
    "        for dataset in datasets:  \n",
    "            print('\\t{}'.format(dataset.dataset_id))\n",
    "        found = True\n",
    "    else:\n",
    "        print('{} project does not contain any datasets.'.format(project))\n",
    "        found = False\n",
    "    return found"
   ]
  },
  {
   "cell_type": "code",
   "execution_count": 16,
   "metadata": {},
   "outputs": [
    {
     "name": "stdout",
     "output_type": "stream",
     "text": [
      "Datasets in project bigquery-public-data:\n",
      "\taustin_311\n",
      "\taustin_bikeshare\n",
      "\taustin_crime\n",
      "\taustin_incidents\n",
      "\taustin_waste\n",
      "\tbaseball\n",
      "\tbitcoin_blockchain\n",
      "\tbls\n",
      "\tcensus_bureau_acs\n",
      "\tcensus_bureau_construction\n",
      "\tcensus_bureau_international\n",
      "\tcensus_bureau_usa\n",
      "\tcensus_utility\n",
      "\tchicago_crime\n",
      "\tchicago_taxi_trips\n",
      "\tcloud_storage_geo_index\n",
      "\tcms_codes\n",
      "\tcms_medicare\n",
      "\tcms_synthetic_patient_data_omop\n",
      "\tcrypto_bitcoin\n",
      "\tcrypto_bitcoin_cash\n",
      "\tcrypto_dash\n",
      "\tcrypto_dogecoin\n",
      "\tcrypto_ethereum\n",
      "\tcrypto_ethereum_classic\n",
      "\tcrypto_litecoin\n",
      "\tcrypto_zcash\n",
      "\teclipse_megamovie\n",
      "\tepa_historical_air_quality\n",
      "\tethereum_blockchain\n",
      "\tfaa\n",
      "\tfda_drug\n",
      "\tfda_food\n",
      "\tfec\n",
      "\tgenomics_cannabis\n",
      "\tgenomics_rice\n",
      "\tgeo_census_blockgroups\n",
      "\tgeo_census_tracts\n",
      "\tgeo_international_ports\n",
      "\tgeo_us_boundaries\n",
      "\tgeo_us_census_places\n",
      "\tgeo_us_roads\n",
      "\tgeolite2\n",
      "\tghcn_d\n",
      "\tghcn_m\n",
      "\tgithub_repos\n",
      "\tgoogle_analytics_sample\n",
      "\tgoogle_political_ads\n",
      "\thacker_news\n",
      "\thuman_genome_variants\n",
      "\thuman_variant_annotation\n",
      "\tiowa_liquor_sales\n",
      "\tirs_990\n",
      "\tlabeled_patents\n",
      "\tlibraries_io\n",
      "\tlondon_bicycles\n",
      "\tlondon_crime\n",
      "\tlondon_fire_brigade\n",
      "\tmedicare\n",
      "\tml_datasets\n",
      "\tmoon_phases\n",
      "\tnasa_wildfire\n",
      "\tncaa_basketball\n",
      "\tnew_york\n",
      "\tnew_york_311\n",
      "\tnew_york_citibike\n",
      "\tnew_york_mv_collisions\n",
      "\tnew_york_subway\n",
      "\tnew_york_taxi_trips\n",
      "\tnew_york_trees\n",
      "\tnhtsa_traffic_fatalities\n",
      "\tnlm_rxnorm\n",
      "\tnoaa_goes16\n",
      "\tnoaa_goes17\n",
      "\tnoaa_gsod\n",
      "\tnoaa_historic_severe_storms\n",
      "\tnoaa_hurricanes\n",
      "\tnoaa_icoads\n",
      "\tnoaa_lightning\n",
      "\tnoaa_passive_acoustic_index\n",
      "\tnoaa_pifsc_metadata\n",
      "\tnoaa_preliminary_severe_storms\n",
      "\tnoaa_significant_earthquakes\n",
      "\tnoaa_tsunami\n",
      "\tnppes\n",
      "\topen_images\n",
      "\topenaq\n",
      "\tpersistent_udfs\n",
      "\tsamples\n",
      "\tsan_francisco\n",
      "\tsan_francisco_311\n",
      "\tsan_francisco_bikeshare\n",
      "\tsan_francisco_film_locations\n",
      "\tsan_francisco_sffd_service_calls\n",
      "\tsan_francisco_sfpd_incidents\n",
      "\tsan_francisco_transit_muni\n",
      "\tsan_francisco_trees\n",
      "\tsec_quarterly_financials\n",
      "\tstackoverflow\n",
      "\tsunroof_solar\n",
      "\tthe_met\n",
      "\tumiami_lincs\n",
      "\tun_sdg\n",
      "\tusa_names\n",
      "\tusda_nass_agriculture\n",
      "\tusfs_fia\n",
      "\tutility_eu\n",
      "\tutility_us\n",
      "\twikipedia\n",
      "\twise_all_sky_data_release\n",
      "\tworld_bank_health_population\n",
      "\tworld_bank_intl_debt\n",
      "\tworld_bank_intl_education\n",
      "\tworld_bank_wdi\n"
     ]
    }
   ],
   "source": [
    "flag = printDatasetList(client)"
   ]
  },
  {
   "cell_type": "code",
   "execution_count": 17,
   "metadata": {},
   "outputs": [],
   "source": [
    "dataset_id = 'samples'\n",
    "dataset_ref = client.dataset(dataset_id)"
   ]
  },
  {
   "cell_type": "code",
   "execution_count": 18,
   "metadata": {},
   "outputs": [
    {
     "name": "stdout",
     "output_type": "stream",
     "text": [
      "DatasetReference('bigquery-public-data', 'samples')\n"
     ]
    }
   ],
   "source": [
    "print(dataset_ref)"
   ]
  },
  {
   "cell_type": "code",
   "execution_count": 19,
   "metadata": {},
   "outputs": [
    {
     "name": "stdout",
     "output_type": "stream",
     "text": [
      "/projects/bigquery-public-data/datasets/samples\n"
     ]
    }
   ],
   "source": [
    "print(dataset_ref.path)"
   ]
  },
  {
   "cell_type": "code",
   "execution_count": 21,
   "metadata": {},
   "outputs": [
    {
     "name": "stdout",
     "output_type": "stream",
     "text": [
      "<bound method _get_model_reference of DatasetReference('bigquery-public-data', 'samples')>\n"
     ]
    }
   ],
   "source": [
    "print(dataset_ref.model)"
   ]
  },
  {
   "cell_type": "code",
   "execution_count": 22,
   "metadata": {},
   "outputs": [],
   "source": [
    "def printTableList(client, dataset_id):\n",
    "    project = client.project\n",
    "    dataset_ref = client.dataset(dataset_id, project = project)    \n",
    "    tables = list(client.list_tables(dataset_ref))\n",
    "    if tables:\n",
    "        print('Tables in dataset {}:'.format(dataset_id))\n",
    "        for table in tables: \n",
    "            print('\\t{}'.format(table.table_id))\n",
    "        found = True\n",
    "    else:\n",
    "        print('{} dataset does not contain any tables.'.format(dataset_id))\n",
    "        found = False\n",
    "    return found"
   ]
  },
  {
   "cell_type": "code",
   "execution_count": 23,
   "metadata": {},
   "outputs": [
    {
     "name": "stdout",
     "output_type": "stream",
     "text": [
      "Tables in dataset samples:\n",
      "\tgithub_nested\n",
      "\tgithub_timeline\n",
      "\tgsod\n",
      "\tmodel\n",
      "\tnatality\n",
      "\tshakespeare\n",
      "\ttrigrams\n",
      "\twikipedia\n"
     ]
    },
    {
     "data": {
      "text/plain": [
       "True"
      ]
     },
     "execution_count": 23,
     "metadata": {},
     "output_type": "execute_result"
    }
   ],
   "source": [
    "printTableList(client,dataset_id)"
   ]
  },
  {
   "cell_type": "code",
   "execution_count": 24,
   "metadata": {},
   "outputs": [],
   "source": [
    "table_id = 'shakespeare'\n",
    "table_ref = dataset_ref.table(table_id)"
   ]
  },
  {
   "cell_type": "code",
   "execution_count": 25,
   "metadata": {},
   "outputs": [
    {
     "name": "stdout",
     "output_type": "stream",
     "text": [
      "Tables in dataset samples:\n",
      "\tgithub_nested\n",
      "\tgithub_timeline\n",
      "\tgsod\n",
      "\tmodel\n",
      "\tnatality\n",
      "\tshakespeare\n",
      "\ttrigrams\n",
      "\twikipedia\n"
     ]
    },
    {
     "data": {
      "text/plain": [
       "True"
      ]
     },
     "execution_count": 25,
     "metadata": {},
     "output_type": "execute_result"
    }
   ],
   "source": [
    "printTableList(client,dataset_id)"
   ]
  },
  {
   "cell_type": "code",
   "execution_count": 26,
   "metadata": {},
   "outputs": [
    {
     "data": {
      "text/plain": [
       "'shakespeare'"
      ]
     },
     "execution_count": 26,
     "metadata": {},
     "output_type": "execute_result"
    }
   ],
   "source": [
    "table_ref.table_id"
   ]
  },
  {
   "cell_type": "code",
   "execution_count": 27,
   "metadata": {},
   "outputs": [],
   "source": [
    "table = client.get_table(table_ref)  # API Request"
   ]
  },
  {
   "cell_type": "code",
   "execution_count": 28,
   "metadata": {},
   "outputs": [
    {
     "name": "stdout",
     "output_type": "stream",
     "text": [
      "Table(TableReference(DatasetReference('bigquery-public-data', 'samples'), 'shakespeare'))\n"
     ]
    }
   ],
   "source": [
    "print(table)"
   ]
  },
  {
   "cell_type": "code",
   "execution_count": 29,
   "metadata": {},
   "outputs": [],
   "source": [
    "table.description"
   ]
  },
  {
   "cell_type": "code",
   "execution_count": 30,
   "metadata": {},
   "outputs": [],
   "source": [
    "table.friendly_name"
   ]
  },
  {
   "cell_type": "code",
   "execution_count": 31,
   "metadata": {},
   "outputs": [
    {
     "data": {
      "text/plain": [
       "[SchemaField('word', 'STRING', 'REQUIRED', 'A single unique word (where whitespace is the delimiter) extracted from a corpus.', ()),\n",
       " SchemaField('word_count', 'INTEGER', 'REQUIRED', 'The number of times this word appears in this corpus.', ()),\n",
       " SchemaField('corpus', 'STRING', 'REQUIRED', 'The work from which this word was extracted.', ()),\n",
       " SchemaField('corpus_date', 'INTEGER', 'REQUIRED', 'The year in which this corpus was published.', ())]"
      ]
     },
     "execution_count": 31,
     "metadata": {},
     "output_type": "execute_result"
    }
   ],
   "source": [
    "table.schema"
   ]
  },
  {
   "cell_type": "code",
   "execution_count": 32,
   "metadata": {},
   "outputs": [
    {
     "name": "stdout",
     "output_type": "stream",
     "text": [
      "['word STRING', 'word_count INTEGER', 'corpus STRING', 'corpus_date INTEGER']\n"
     ]
    }
   ],
   "source": [
    "result = [\"{0} {1}\".format(schema.name,schema.field_type) for schema in table.schema]\n",
    "print(result)"
   ]
  },
  {
   "cell_type": "code",
   "execution_count": 33,
   "metadata": {},
   "outputs": [],
   "source": [
    "def printTableSchema(aTable):\n",
    "    schemas = list(aTable.schema)\n",
    "    if schemas:\n",
    "        print('Table schema for {}:'.format(aTable.table_id))\n",
    "        for aSchema in schemas:\n",
    "            print('\\t{0} {1}'.format(aSchema.name, aSchema.field_type))\n",
    "        found = True\n",
    "    else:\n",
    "        found = False\n",
    "    return found"
   ]
  },
  {
   "cell_type": "code",
   "execution_count": 34,
   "metadata": {},
   "outputs": [
    {
     "name": "stdout",
     "output_type": "stream",
     "text": [
      "Table schema for shakespeare:\n",
      "\tword STRING\n",
      "\tword_count INTEGER\n",
      "\tcorpus STRING\n",
      "\tcorpus_date INTEGER\n"
     ]
    },
    {
     "data": {
      "text/plain": [
       "True"
      ]
     },
     "execution_count": 34,
     "metadata": {},
     "output_type": "execute_result"
    }
   ],
   "source": [
    "printTableSchema(table)"
   ]
  },
  {
   "cell_type": "code",
   "execution_count": 38,
   "metadata": {},
   "outputs": [],
   "source": [
    "sql = \"SELECT COUNT(1) FROM `bigquery-public-data.samples.shakespeare`\"\n",
    "query_job = client.query(sql)\n",
    "#added bigquery job user role to my account and made client point my project"
   ]
  },
  {
   "cell_type": "code",
   "execution_count": 39,
   "metadata": {},
   "outputs": [
    {
     "name": "stdout",
     "output_type": "stream",
     "text": [
      "<google.cloud.bigquery.job.QueryJob object at 0x0000019729687C88>\n"
     ]
    }
   ],
   "source": [
    "print(query_job)"
   ]
  },
  {
   "cell_type": "code",
   "execution_count": 40,
   "metadata": {},
   "outputs": [
    {
     "name": "stdout",
     "output_type": "stream",
     "text": [
      "Row((164656,), {'f0_': 0})\n"
     ]
    }
   ],
   "source": [
    "for row in query_job:  # API request - fetches results\n",
    "    print(row)"
   ]
  },
  {
   "cell_type": "code",
   "execution_count": 41,
   "metadata": {},
   "outputs": [
    {
     "name": "stdout",
     "output_type": "stream",
     "text": [
      "164656\n"
     ]
    }
   ],
   "source": [
    "\n",
    "print(row[0])"
   ]
  },
  {
   "cell_type": "code",
   "execution_count": 47,
   "metadata": {},
   "outputs": [],
   "source": [
    "sql = \"SELECT COUNT(1) as num_rows FROM `bigquery-public-data.samples.shakespeare`\"\n",
    "query_job = client.query(sql)"
   ]
  },
  {
   "cell_type": "code",
   "execution_count": 48,
   "metadata": {},
   "outputs": [
    {
     "name": "stdout",
     "output_type": "stream",
     "text": [
      "<google.cloud.bigquery.job.QueryJob object at 0x0000019728D8D9C8>\n"
     ]
    }
   ],
   "source": [
    "print(query_job)"
   ]
  },
  {
   "cell_type": "code",
   "execution_count": 49,
   "metadata": {},
   "outputs": [
    {
     "name": "stdout",
     "output_type": "stream",
     "text": [
      "Row((164656,), {'num_rows': 0})\n"
     ]
    }
   ],
   "source": [
    "for row in query_job:  # API request - fetches results\n",
    "    print(row)"
   ]
  },
  {
   "cell_type": "code",
   "execution_count": 52,
   "metadata": {},
   "outputs": [
    {
     "name": "stdout",
     "output_type": "stream",
     "text": [
      "164656\n",
      "164656\n"
     ]
    }
   ],
   "source": [
    "for row in query_job:  # API request - fetches results\n",
    "    # Row values can be accessed by field name or index:\n",
    "    #assert row[0] == row.num_rows == row['num_rows']  #: for debugging bad sql\n",
    "    print(row.num_rows)\n",
    "    print(row[0])"
   ]
  },
  {
   "cell_type": "code",
   "execution_count": 53,
   "metadata": {},
   "outputs": [
    {
     "name": "stdout",
     "output_type": "stream",
     "text": [
      "   num_rows\n",
      "0    164656\n"
     ]
    }
   ],
   "source": [
    "df = query_job.to_dataframe()\n",
    "print(df)"
   ]
  },
  {
   "cell_type": "code",
   "execution_count": null,
   "metadata": {},
   "outputs": [],
   "source": []
  }
 ],
 "metadata": {
  "kernelspec": {
   "display_name": "Python 3",
   "language": "python",
   "name": "python3"
  },
  "language_info": {
   "codemirror_mode": {
    "name": "ipython",
    "version": 3
   },
   "file_extension": ".py",
   "mimetype": "text/x-python",
   "name": "python",
   "nbconvert_exporter": "python",
   "pygments_lexer": "ipython3",
   "version": "3.7.4"
  }
 },
 "nbformat": 4,
 "nbformat_minor": 2
}
