{
 "cells": [
  {
   "cell_type": "code",
   "execution_count": 1,
   "metadata": {},
   "outputs": [],
   "source": [
    "import numpy as np\n",
    "import matplotlib.pyplot as plt\n",
    "import matplotlib\n"
   ]
  },
  {
   "cell_type": "code",
   "execution_count": 2,
   "metadata": {},
   "outputs": [],
   "source": [
    "height= np.round(np.random.normal(1.75, 0.20, 7000), 2)\n",
    "weight= np.round(np.random.normal(60.32, 15, 7000), 2)\n",
    "population=np.column_stack((height, weight))"
   ]
  },
  {
   "cell_type": "code",
   "execution_count": 4,
   "metadata": {},
   "outputs": [
    {
     "name": "stdout",
     "output_type": "stream",
     "text": [
      "height:\n",
      " [1.68 1.44 1.53 ... 1.74 2.   1.57]\n",
      "weight:\n",
      " [71.85 93.56 61.18 ... 59.84 52.1  81.48]\n",
      "population:\n",
      " [[ 1.68 71.85]\n",
      " [ 1.44 93.56]\n",
      " [ 1.53 61.18]\n",
      " ...\n",
      " [ 1.74 59.84]\n",
      " [ 2.   52.1 ]\n",
      " [ 1.57 81.48]]\n"
     ]
    }
   ],
   "source": [
    "print('height:\\n',height)\n",
    "print('weight:\\n',weight)\n",
    "print('population:\\n',population)"
   ]
  },
  {
   "cell_type": "code",
   "execution_count": 5,
   "metadata": {},
   "outputs": [
    {
     "name": "stdout",
     "output_type": "stream",
     "text": [
      "1\n"
     ]
    }
   ],
   "source": [
    "print(height.ndim)"
   ]
  },
  {
   "cell_type": "code",
   "execution_count": 6,
   "metadata": {},
   "outputs": [
    {
     "name": "stdout",
     "output_type": "stream",
     "text": [
      "1\n"
     ]
    }
   ],
   "source": [
    "print(weight.ndim)"
   ]
  },
  {
   "cell_type": "code",
   "execution_count": 7,
   "metadata": {},
   "outputs": [
    {
     "name": "stdout",
     "output_type": "stream",
     "text": [
      "2\n"
     ]
    }
   ],
   "source": [
    "print(population.ndim)"
   ]
  },
  {
   "cell_type": "code",
   "execution_count": 8,
   "metadata": {},
   "outputs": [
    {
     "name": "stdout",
     "output_type": "stream",
     "text": [
      "(7000,)\n"
     ]
    }
   ],
   "source": [
    "print(height.shape)"
   ]
  },
  {
   "cell_type": "code",
   "execution_count": 9,
   "metadata": {},
   "outputs": [
    {
     "name": "stdout",
     "output_type": "stream",
     "text": [
      "(7000,)\n"
     ]
    }
   ],
   "source": [
    "print(weight.shape)"
   ]
  },
  {
   "cell_type": "code",
   "execution_count": 11,
   "metadata": {},
   "outputs": [
    {
     "name": "stdout",
     "output_type": "stream",
     "text": [
      "(7000, 2)\n"
     ]
    }
   ],
   "source": [
    "print(population.shape)"
   ]
  },
  {
   "cell_type": "code",
   "execution_count": 12,
   "metadata": {},
   "outputs": [
    {
     "name": "stdout",
     "output_type": "stream",
     "text": [
      "7000\n"
     ]
    }
   ],
   "source": [
    "print(np.size(height))"
   ]
  },
  {
   "cell_type": "code",
   "execution_count": 13,
   "metadata": {},
   "outputs": [
    {
     "name": "stdout",
     "output_type": "stream",
     "text": [
      "7000\n"
     ]
    }
   ],
   "source": [
    "print(np.size(weight))"
   ]
  },
  {
   "cell_type": "code",
   "execution_count": 14,
   "metadata": {},
   "outputs": [
    {
     "name": "stdout",
     "output_type": "stream",
     "text": [
      "14000\n"
     ]
    }
   ],
   "source": [
    "print(np.size(population))"
   ]
  },
  {
   "cell_type": "code",
   "execution_count": 15,
   "metadata": {},
   "outputs": [
    {
     "name": "stdout",
     "output_type": "stream",
     "text": [
      "8\n"
     ]
    }
   ],
   "source": [
    "print(height.itemsize)"
   ]
  },
  {
   "cell_type": "code",
   "execution_count": 16,
   "metadata": {},
   "outputs": [
    {
     "name": "stdout",
     "output_type": "stream",
     "text": [
      "8\n"
     ]
    }
   ],
   "source": [
    "print(weight.itemsize)"
   ]
  },
  {
   "cell_type": "code",
   "execution_count": 17,
   "metadata": {},
   "outputs": [
    {
     "name": "stdout",
     "output_type": "stream",
     "text": [
      "8\n"
     ]
    }
   ],
   "source": [
    "print(population.itemsize)"
   ]
  },
  {
   "cell_type": "code",
   "execution_count": 21,
   "metadata": {},
   "outputs": [
    {
     "name": "stdout",
     "output_type": "stream",
     "text": [
      "1.09\n",
      "9.4\n",
      "1.09\n"
     ]
    }
   ],
   "source": [
    "print(height.min())\n",
    "print(weight.min())\n",
    "print(population.min())"
   ]
  },
  {
   "cell_type": "code",
   "execution_count": 22,
   "metadata": {},
   "outputs": [
    {
     "name": "stdout",
     "output_type": "stream",
     "text": [
      "2.48\n",
      "114.12\n",
      "114.12\n"
     ]
    }
   ],
   "source": [
    "print(height.max())\n",
    "print(weight.max())\n",
    "print(population.max())"
   ]
  },
  {
   "cell_type": "code",
   "execution_count": 23,
   "metadata": {},
   "outputs": [
    {
     "name": "stdout",
     "output_type": "stream",
     "text": [
      "1.7504\n",
      "60.388532857142856\n",
      "31.06946642857143\n"
     ]
    }
   ],
   "source": [
    "print(height.mean())\n",
    "print(weight.mean())\n",
    "print(population.mean())"
   ]
  },
  {
   "cell_type": "code",
   "execution_count": 24,
   "metadata": {},
   "outputs": [
    {
     "name": "stdout",
     "output_type": "stream",
     "text": [
      "0.20001802775892835\n",
      "14.942452240094054\n",
      "31.16514237609776\n"
     ]
    }
   ],
   "source": [
    "print(height.std())\n",
    "print(weight.std())\n",
    "print(population.std())"
   ]
  },
  {
   "cell_type": "code",
   "execution_count": 25,
   "metadata": {},
   "outputs": [
    {
     "name": "stdout",
     "output_type": "stream",
     "text": [
      "12252.8\n",
      "422719.73\n",
      "434972.53\n"
     ]
    }
   ],
   "source": [
    "print(height.sum())\n",
    "print(weight.sum())\n",
    "print(population.sum())"
   ]
  },
  {
   "cell_type": "code",
   "execution_count": 26,
   "metadata": {},
   "outputs": [
    {
     "name": "stdout",
     "output_type": "stream",
     "text": [
      "Help on function hist in module matplotlib.pyplot:\n",
      "\n",
      "hist(x, bins=None, range=None, density=None, weights=None, cumulative=False, bottom=None, histtype='bar', align='mid', orientation='vertical', rwidth=None, log=False, color=None, label=None, stacked=False, normed=None, *, data=None, **kwargs)\n",
      "    Plot a histogram.\n",
      "    \n",
      "    Compute and draw the histogram of *x*.  The return value is a tuple\n",
      "    (*n*, *bins*, *patches*) or ([*n0*, *n1*, ...], *bins*, [*patches0*,\n",
      "    *patches1*,...]) if the input contains multiple data.  See the\n",
      "    documentation of the *weights* parameter to draw a histogram of\n",
      "    already-binned data.\n",
      "    \n",
      "    Multiple data can be provided via *x* as a list of datasets\n",
      "    of potentially different length ([*x0*, *x1*, ...]), or as\n",
      "    a 2-D ndarray in which each column is a dataset.  Note that\n",
      "    the ndarray form is transposed relative to the list form.\n",
      "    \n",
      "    Masked arrays are not supported at present.\n",
      "    \n",
      "    Parameters\n",
      "    ----------\n",
      "    x : (n,) array or sequence of (n,) arrays\n",
      "        Input values, this takes either a single array or a sequence of\n",
      "        arrays which are not required to be of the same length.\n",
      "    \n",
      "    bins : int or sequence or str, optional\n",
      "        If an integer is given, ``bins + 1`` bin edges are calculated and\n",
      "        returned, consistent with `numpy.histogram`.\n",
      "    \n",
      "        If `bins` is a sequence, gives bin edges, including left edge of\n",
      "        first bin and right edge of last bin.  In this case, `bins` is\n",
      "        returned unmodified.\n",
      "    \n",
      "        All but the last (righthand-most) bin is half-open.  In other\n",
      "        words, if `bins` is::\n",
      "    \n",
      "            [1, 2, 3, 4]\n",
      "    \n",
      "        then the first bin is ``[1, 2)`` (including 1, but excluding 2) and\n",
      "        the second ``[2, 3)``.  The last bin, however, is ``[3, 4]``, which\n",
      "        *includes* 4.\n",
      "    \n",
      "        Unequally spaced bins are supported if *bins* is a sequence.\n",
      "    \n",
      "        With Numpy 1.11 or newer, you can alternatively provide a string\n",
      "        describing a binning strategy, such as 'auto', 'sturges', 'fd',\n",
      "        'doane', 'scott', 'rice' or 'sqrt', see\n",
      "        `numpy.histogram`.\n",
      "    \n",
      "        The default is taken from :rc:`hist.bins`.\n",
      "    \n",
      "    range : tuple or None, optional\n",
      "        The lower and upper range of the bins. Lower and upper outliers\n",
      "        are ignored. If not provided, *range* is ``(x.min(), x.max())``.\n",
      "        Range has no effect if *bins* is a sequence.\n",
      "    \n",
      "        If *bins* is a sequence or *range* is specified, autoscaling\n",
      "        is based on the specified bin range instead of the\n",
      "        range of x.\n",
      "    \n",
      "        Default is ``None``\n",
      "    \n",
      "    density : bool, optional\n",
      "        If ``True``, the first element of the return tuple will\n",
      "        be the counts normalized to form a probability density, i.e.,\n",
      "        the area (or integral) under the histogram will sum to 1.\n",
      "        This is achieved by dividing the count by the number of\n",
      "        observations times the bin width and not dividing by the total\n",
      "        number of observations. If *stacked* is also ``True``, the sum of\n",
      "        the histograms is normalized to 1.\n",
      "    \n",
      "        Default is ``None`` for both *normed* and *density*. If either is\n",
      "        set, then that value will be used. If neither are set, then the\n",
      "        args will be treated as ``False``.\n",
      "    \n",
      "        If both *density* and *normed* are set an error is raised.\n",
      "    \n",
      "    weights : (n, ) array_like or None, optional\n",
      "        An array of weights, of the same shape as *x*.  Each value in *x*\n",
      "        only contributes its associated weight towards the bin count\n",
      "        (instead of 1).  If *normed* or *density* is ``True``,\n",
      "        the weights are normalized, so that the integral of the density\n",
      "        over the range remains 1.\n",
      "    \n",
      "        Default is ``None``.\n",
      "    \n",
      "        This parameter can be used to draw a histogram of data that has\n",
      "        already been binned, e.g. using `np.histogram` (by treating each\n",
      "        bin as a single point with a weight equal to its count) ::\n",
      "    \n",
      "            counts, bins = np.histogram(data)\n",
      "            plt.hist(bins[:-1], bins, weights=counts)\n",
      "    \n",
      "        (or you may alternatively use `~.bar()`).\n",
      "    \n",
      "    cumulative : bool, optional\n",
      "        If ``True``, then a histogram is computed where each bin gives the\n",
      "        counts in that bin plus all bins for smaller values. The last bin\n",
      "        gives the total number of datapoints. If *normed* or *density*\n",
      "        is also ``True`` then the histogram is normalized such that the\n",
      "        last bin equals 1. If *cumulative* evaluates to less than 0\n",
      "        (e.g., -1), the direction of accumulation is reversed.\n",
      "        In this case, if *normed* and/or *density* is also ``True``, then\n",
      "        the histogram is normalized such that the first bin equals 1.\n",
      "    \n",
      "        Default is ``False``\n",
      "    \n",
      "    bottom : array_like, scalar, or None\n",
      "        Location of the bottom baseline of each bin.  If a scalar,\n",
      "        the base line for each bin is shifted by the same amount.\n",
      "        If an array, each bin is shifted independently and the length\n",
      "        of bottom must match the number of bins.  If None, defaults to 0.\n",
      "    \n",
      "        Default is ``None``\n",
      "    \n",
      "    histtype : {'bar', 'barstacked', 'step',  'stepfilled'}, optional\n",
      "        The type of histogram to draw.\n",
      "    \n",
      "        - 'bar' is a traditional bar-type histogram.  If multiple data\n",
      "          are given the bars are arranged side by side.\n",
      "    \n",
      "        - 'barstacked' is a bar-type histogram where multiple\n",
      "          data are stacked on top of each other.\n",
      "    \n",
      "        - 'step' generates a lineplot that is by default\n",
      "          unfilled.\n",
      "    \n",
      "        - 'stepfilled' generates a lineplot that is by default\n",
      "          filled.\n",
      "    \n",
      "        Default is 'bar'\n",
      "    \n",
      "    align : {'left', 'mid', 'right'}, optional\n",
      "        Controls how the histogram is plotted.\n",
      "    \n",
      "            - 'left': bars are centered on the left bin edges.\n",
      "    \n",
      "            - 'mid': bars are centered between the bin edges.\n",
      "    \n",
      "            - 'right': bars are centered on the right bin edges.\n",
      "    \n",
      "        Default is 'mid'\n",
      "    \n",
      "    orientation : {'horizontal', 'vertical'}, optional\n",
      "        If 'horizontal', `~matplotlib.pyplot.barh` will be used for\n",
      "        bar-type histograms and the *bottom* kwarg will be the left edges.\n",
      "    \n",
      "    rwidth : scalar or None, optional\n",
      "        The relative width of the bars as a fraction of the bin width.  If\n",
      "        ``None``, automatically compute the width.\n",
      "    \n",
      "        Ignored if *histtype* is 'step' or 'stepfilled'.\n",
      "    \n",
      "        Default is ``None``\n",
      "    \n",
      "    log : bool, optional\n",
      "        If ``True``, the histogram axis will be set to a log scale. If\n",
      "        *log* is ``True`` and *x* is a 1D array, empty bins will be\n",
      "        filtered out and only the non-empty ``(n, bins, patches)``\n",
      "        will be returned.\n",
      "    \n",
      "        Default is ``False``\n",
      "    \n",
      "    color : color or array_like of colors or None, optional\n",
      "        Color spec or sequence of color specs, one per dataset.  Default\n",
      "        (``None``) uses the standard line color sequence.\n",
      "    \n",
      "        Default is ``None``\n",
      "    \n",
      "    label : str or None, optional\n",
      "        String, or sequence of strings to match multiple datasets.  Bar\n",
      "        charts yield multiple patches per dataset, but only the first gets\n",
      "        the label, so that the legend command will work as expected.\n",
      "    \n",
      "        default is ``None``\n",
      "    \n",
      "    stacked : bool, optional\n",
      "        If ``True``, multiple data are stacked on top of each other If\n",
      "        ``False`` multiple data are arranged side by side if histtype is\n",
      "        'bar' or on top of each other if histtype is 'step'\n",
      "    \n",
      "        Default is ``False``\n",
      "    \n",
      "    normed : bool, optional\n",
      "        Deprecated; use the density keyword argument instead.\n",
      "    \n",
      "    Returns\n",
      "    -------\n",
      "    n : array or list of arrays\n",
      "        The values of the histogram bins. See *density* and *weights* for a\n",
      "        description of the possible semantics.  If input *x* is an array,\n",
      "        then this is an array of length *nbins*. If input is a sequence of\n",
      "        arrays ``[data1, data2,..]``, then this is a list of arrays with\n",
      "        the values of the histograms for each of the arrays in the same\n",
      "        order.  The dtype of the array *n* (or of its element arrays) will\n",
      "        always be float even if no weighting or normalization is used.\n",
      "    \n",
      "    bins : array\n",
      "        The edges of the bins. Length nbins + 1 (nbins left edges and right\n",
      "        edge of last bin).  Always a single array even when multiple data\n",
      "        sets are passed in.\n",
      "    \n",
      "    patches : list or list of lists\n",
      "        Silent list of individual patches used to create the histogram\n",
      "        or list of such list if multiple input datasets.\n",
      "    \n",
      "    Other Parameters\n",
      "    ----------------\n",
      "    **kwargs : `~matplotlib.patches.Patch` properties\n",
      "    \n",
      "    See also\n",
      "    --------\n",
      "    hist2d : 2D histograms\n",
      "    \n",
      "    Notes\n",
      "    -----\n",
      "    \n",
      "    \n",
      "    .. note::\n",
      "        In addition to the above described arguments, this function can take a\n",
      "        **data** keyword argument. If such a **data** argument is given, the\n",
      "        following arguments are replaced by **data[<arg>]**:\n",
      "    \n",
      "        * All arguments with the following names: 'weights', 'x'.\n",
      "    \n",
      "        Objects passed as **data** must support item access (``data[<arg>]``) and\n",
      "        membership test (``<arg> in data``).\n",
      "\n"
     ]
    }
   ],
   "source": [
    "help(plt.hist)"
   ]
  },
  {
   "cell_type": "code",
   "execution_count": null,
   "metadata": {},
   "outputs": [],
   "source": []
  }
 ],
 "metadata": {
  "kernelspec": {
   "display_name": "Python 3",
   "language": "python",
   "name": "python3"
  },
  "language_info": {
   "codemirror_mode": {
    "name": "ipython",
    "version": 3
   },
   "file_extension": ".py",
   "mimetype": "text/x-python",
   "name": "python",
   "nbconvert_exporter": "python",
   "pygments_lexer": "ipython3",
   "version": "3.7.4"
  }
 },
 "nbformat": 4,
 "nbformat_minor": 2
}
