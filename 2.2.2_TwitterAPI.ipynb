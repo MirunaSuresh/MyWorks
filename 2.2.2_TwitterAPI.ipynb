{
 "cells": [
  {
   "cell_type": "code",
   "execution_count": 1,
   "metadata": {},
   "outputs": [],
   "source": [
    "import tweepy\n",
    "import json\n",
    "import pprint"
   ]
  },
  {
   "cell_type": "code",
   "execution_count": 2,
   "metadata": {},
   "outputs": [],
   "source": [
    "my_consumer_key = 'TzwMspSvqZ4ewPJ1bSPApPSZZ'      # your consumer key (string) goes in here\n",
    "my_consumer_secret = 'prg3ETqTaMaIr5j2IgRmEXSh4NIeX1eAXQwMlb7G06wR2TK9sP'   # your consumer secret key (string) goes in here\n",
    "my_access_token = '1206716899616149504-tEgEkauzlhQAhZrX3BCVZNbxe6gquN'      # your access token (string goes in here\n",
    "access_token_secret = 'JXRwt2JAsHuyIQ3tYm02Mqf34bgIW3yQuL8UBHRGdCSzn'  # your access token secret (string) goes in here"
   ]
  },
  {
   "cell_type": "code",
   "execution_count": 3,
   "metadata": {},
   "outputs": [
    {
     "name": "stdout",
     "output_type": "stream",
     "text": [
      "C:\\Users\\ven_n_000\\Desktop\\iod_work\\2019_12_09_DS_FT_SYD_Projects\\miruna\\labs\\module_2\n"
     ]
    }
   ],
   "source": [
    "import os\n",
    "print(os.getcwd())"
   ]
  },
  {
   "cell_type": "code",
   "execution_count": 6,
   "metadata": {},
   "outputs": [],
   "source": [
    "path_auth = 'auth_twitter.json'\n",
    "auth = json.loads(open(path_auth).read())\n",
    "pp = pprint.PrettyPrinter(indent=4)\n",
    "# For debugging only:\n",
    "#pp.pprint(auth)\n",
    "\n",
    "my_consumer_key = auth['my_consumer_key']\n",
    "my_consumer_secret = auth['my_consumer_secret']\n",
    "my_access_token = auth['my_access_token']\n",
    "my_access_token_secret = auth['access_token_secret']"
   ]
  },
  {
   "cell_type": "code",
   "execution_count": 7,
   "metadata": {},
   "outputs": [],
   "source": [
    "auth = tweepy.OAuthHandler(my_consumer_key, my_consumer_secret)\n",
    "auth.set_access_token(my_access_token, my_access_token_secret)\n",
    "api = tweepy.API(auth)"
   ]
  },
  {
   "cell_type": "code",
   "execution_count": 8,
   "metadata": {},
   "outputs": [
    {
     "name": "stdout",
     "output_type": "stream",
     "text": [
      "/1.1\n"
     ]
    }
   ],
   "source": [
    "print(api.api_root)"
   ]
  },
  {
   "cell_type": "code",
   "execution_count": 9,
   "metadata": {},
   "outputs": [
    {
     "name": "stdout",
     "output_type": "stream",
     "text": [
      "<tweepy.auth.OAuthHandler object at 0x000001AFE8E22F08>\n"
     ]
    }
   ],
   "source": [
    "print(api.auth)"
   ]
  },
  {
   "cell_type": "code",
   "execution_count": 10,
   "metadata": {},
   "outputs": [
    {
     "name": "stdout",
     "output_type": "stream",
     "text": [
      "<function bind_api.<locals>._call at 0x000001AFEA51F9D8>\n"
     ]
    }
   ],
   "source": [
    "print(api.blocks)"
   ]
  },
  {
   "cell_type": "code",
   "execution_count": 11,
   "metadata": {},
   "outputs": [
    {
     "name": "stdout",
     "output_type": "stream",
     "text": [
      "<function bind_api.<locals>._call at 0x000001AFEA1645E8>\n"
     ]
    }
   ],
   "source": [
    "print(api.favorites)"
   ]
  },
  {
   "cell_type": "code",
   "execution_count": 13,
   "metadata": {},
   "outputs": [
    {
     "name": "stdout",
     "output_type": "stream",
     "text": [
      "What a suspenseful episode! Seemed like Mando was actually in some danger. Interested to see how the season conclud… https://t.co/ww10ADcNK7\n",
      "Initial reactions to #StarWarsTheRiseofSkywalker look really promising! Don’t want to get my expectations too high… https://t.co/hHrqWcmBzb\n",
      "RT @adambvary: I’m gonna need a minute to digest #StarWarsTheRiseofSkywalker. There’s so much movie in this movie. But its best moments are…\n",
      "RT @markellislive: I’m emotional, overwhelmed, surprised, shocked &amp; stunned.  More than anything, I’m happy.  Thanks for coming through one…\n",
      "RT @ErikDavis: Epic. All of it. #TheRiseofSkywalker is a terrific finale that is just stuffed with so much of everything. Action, adventure…\n",
      "RT @JennaBusch: #StarWars #TheRiseOfSkywalker...OH MY GOD! I am absolutely blown away! I’ve never been so satisfied by a film. This is the…\n",
      "RT @rob_keyes: Just stepped out of #TheRiseofSkywalker. It’s an immensely satisfying and MASSIVE end to the saga. It somehow addresses issu…\n",
      "Check out our latest episode in which we talk about the latest releases Frozen II and Knives Out.\n",
      "\n",
      "Direct Link:… https://t.co/b9HDQuIyjt\n",
      "Look who’s arrived at CogRecal HQ!#BatmanBeyond #BatmanoftheFuture #SpecialEdition #Batman #Bluray https://t.co/GHtt4KrRSX\n",
      "Home Alone cast revealed for Disney+ reboot  https://t.co/XxwI1c1HSc\n",
      "What was your favourite comic book movie of the year? #bestof2019 #BestMovieOfTheYear #BestComicBookMovie… https://t.co/YSydK8UW6K\n",
      "Enjoyed #Chapter5 of #Mandelorian, but seemed more like a filler episode for things to come. Who do you think the m… https://t.co/dpsbkPyhzD\n",
      "RT @Fandango: The first #WonderWoman 1984 trailer is here.... How does it feel?\n",
      "\n",
      "June 5, 2020 #WW84 https://t.co/R5XdMCKSIk\n",
      "A quiet Saturday night in! #MrBoogedy  #DisneyPlus @disneyplus https://t.co/gUOycAIiEa\n",
      "Another great episode! Too bad we have to wait for another week for the next one! #TheMandelorian #Episode3 https://t.co/6euUjom5cE\n",
      "Done with episode 2, this guy has a lot of questions to answer! #TheMandalorian #StarWars https://t.co/BBSB2tvlAP\n",
      "50 episodes down, ∞ to go! Check out our 50th episode in which we talk about #CharliesAngels, #DoctorSleepMovie and… https://t.co/PohJhpCHGF\n",
      "Just finished episode 1 of #TheMandalorian. Great production values, feels like Star Wars but a different part of t… https://t.co/dl0PrFIrvh\n",
      "RT @midnightcap: https://t.co/af8vg3G0et https://t.co/qzIQ9dblCH\n",
      "RT @Fandango: Dwayne Johnson reveals Black Adam’s release date with a new poster\n",
      "\n",
      "December 22, 2021 https://t.co/jA5vBPkiCv\n"
     ]
    }
   ],
   "source": [
    "tweets = api.home_timeline()\n",
    "for tweet in tweets:\n",
    "    print(tweet.text)"
   ]
  },
  {
   "cell_type": "code",
   "execution_count": 14,
   "metadata": {},
   "outputs": [],
   "source": [
    "tweets = api.user_timeline()\n",
    "for tweet in tweets:\n",
    "    print(tweet.text)\n"
   ]
  },
  {
   "cell_type": "code",
   "execution_count": 15,
   "metadata": {},
   "outputs": [
    {
     "name": "stdout",
     "output_type": "stream",
     "text": [
      "2019-12-17 09:52:02\n",
      "1206874684156854272\n",
      "What a suspenseful episode! Seemed like Mando was actually in some danger. Interested to see how the season conclud… https://t.co/ww10ADcNK7\n",
      "2019-12-17 07:19:50\n",
      "1206836382104047616\n",
      "Initial reactions to #StarWarsTheRiseofSkywalker look really promising! Don’t want to get my expectations too high… https://t.co/hHrqWcmBzb\n",
      "2019-12-17 07:18:21\n",
      "1206836010870423552\n",
      "RT @adambvary: I’m gonna need a minute to digest #StarWarsTheRiseofSkywalker. There’s so much movie in this movie. But its best moments are…\n",
      "2019-12-17 07:18:12\n",
      "1206835973746610176\n",
      "RT @markellislive: I’m emotional, overwhelmed, surprised, shocked &amp; stunned.  More than anything, I’m happy.  Thanks for coming through one…\n",
      "2019-12-17 07:18:10\n",
      "1206835964808531970\n",
      "RT @ErikDavis: Epic. All of it. #TheRiseofSkywalker is a terrific finale that is just stuffed with so much of everything. Action, adventure…\n",
      "2019-12-17 07:18:08\n",
      "1206835955702759424\n",
      "RT @JennaBusch: #StarWars #TheRiseOfSkywalker...OH MY GOD! I am absolutely blown away! I’ve never been so satisfied by a film. This is the…\n",
      "2019-12-17 07:18:05\n",
      "1206835944956907520\n",
      "RT @rob_keyes: Just stepped out of #TheRiseofSkywalker. It’s an immensely satisfying and MASSIVE end to the saga. It somehow addresses issu…\n",
      "2019-12-16 05:46:24\n",
      "1206450483428093952\n",
      "Check out our latest episode in which we talk about the latest releases Frozen II and Knives Out.\n",
      "\n",
      "Direct Link:… https://t.co/b9HDQuIyjt\n",
      "2019-12-15 08:31:31\n",
      "1206129649329197057\n",
      "Look who’s arrived at CogRecal HQ!#BatmanBeyond #BatmanoftheFuture #SpecialEdition #Batman #Bluray https://t.co/GHtt4KrRSX\n",
      "2019-12-11 22:55:18\n",
      "1204897475263221760\n",
      "Home Alone cast revealed for Disney+ reboot  https://t.co/XxwI1c1HSc\n",
      "2019-12-10 11:39:21\n",
      "1204364976992841728\n",
      "What was your favourite comic book movie of the year? #bestof2019 #BestMovieOfTheYear #BestComicBookMovie… https://t.co/YSydK8UW6K\n",
      "2019-12-10 11:30:16\n",
      "1204362691902496769\n",
      "Enjoyed #Chapter5 of #Mandelorian, but seemed more like a filler episode for things to come. Who do you think the m… https://t.co/dpsbkPyhzD\n",
      "2019-12-08 21:17:06\n",
      "1203785596465926144\n",
      "RT @Fandango: The first #WonderWoman 1984 trailer is here.... How does it feel?\n",
      "\n",
      "June 5, 2020 #WW84 https://t.co/R5XdMCKSIk\n",
      "2019-11-23 08:50:11\n",
      "1198161811524046848\n",
      "A quiet Saturday night in! #MrBoogedy  #DisneyPlus @disneyplus https://t.co/gUOycAIiEa\n",
      "2019-11-22 10:38:48\n",
      "1197826758327750657\n",
      "Another great episode! Too bad we have to wait for another week for the next one! #TheMandelorian #Episode3 https://t.co/6euUjom5cE\n",
      "2019-11-20 09:48:09\n",
      "1197089237167853568\n",
      "Done with episode 2, this guy has a lot of questions to answer! #TheMandalorian #StarWars https://t.co/BBSB2tvlAP\n",
      "2019-11-19 20:10:03\n",
      "1196883354781532160\n",
      "50 episodes down, ∞ to go! Check out our 50th episode in which we talk about #CharliesAngels, #DoctorSleepMovie and… https://t.co/PohJhpCHGF\n",
      "2019-11-19 10:04:04\n",
      "1196730855353307136\n",
      "Just finished episode 1 of #TheMandalorian. Great production values, feels like Star Wars but a different part of t… https://t.co/dl0PrFIrvh\n",
      "2019-11-15 01:07:58\n",
      "1195146390424313856\n",
      "RT @midnightcap: https://t.co/af8vg3G0et https://t.co/qzIQ9dblCH\n",
      "2019-11-14 20:32:26\n",
      "1195077049125224448\n",
      "RT @Fandango: Dwayne Johnson reveals Black Adam’s release date with a new poster\n",
      "\n",
      "December 22, 2021 https://t.co/jA5vBPkiCv\n"
     ]
    }
   ],
   "source": [
    "tweets = api.home_timeline()\n",
    "for tweet in tweets:\n",
    "    print(tweet.created_at)\n",
    "    print(tweet.id_str)\n",
    "    print(tweet.text)"
   ]
  },
  {
   "cell_type": "code",
   "execution_count": 16,
   "metadata": {},
   "outputs": [],
   "source": [
    "tweet = api.update_status('My first tweet made with Made with Tweepy')"
   ]
  },
  {
   "cell_type": "code",
   "execution_count": 17,
   "metadata": {},
   "outputs": [
    {
     "name": "stdout",
     "output_type": "stream",
     "text": [
      "My first tweet made with Made with Tweepy\n"
     ]
    }
   ],
   "source": [
    "tweets = api.user_timeline()\n",
    "for tweet in tweets:\n",
    "    print(tweet.text)\n"
   ]
  },
  {
   "cell_type": "code",
   "execution_count": 24,
   "metadata": {},
   "outputs": [],
   "source": [
    "tweets = api.update_status('Tweet to delete')"
   ]
  },
  {
   "cell_type": "code",
   "execution_count": 25,
   "metadata": {},
   "outputs": [
    {
     "name": "stdout",
     "output_type": "stream",
     "text": [
      "Tweet to delete\n",
      "My first tweet made with Made with Tweepy\n"
     ]
    }
   ],
   "source": [
    "tweetss = api.user_timeline()\n",
    "for tweet in tweetss:\n",
    "    print(tweet.text)\n"
   ]
  },
  {
   "cell_type": "code",
   "execution_count": 26,
   "metadata": {},
   "outputs": [],
   "source": [
    "status = api.destroy_status(tweets.id_str)"
   ]
  },
  {
   "cell_type": "code",
   "execution_count": 27,
   "metadata": {},
   "outputs": [
    {
     "name": "stdout",
     "output_type": "stream",
     "text": [
      "My first tweet made with Made with Tweepy\n"
     ]
    }
   ],
   "source": [
    "tweetss = api.user_timeline()\n",
    "for tweet in tweetss:\n",
    "    print(tweet.text)\n"
   ]
  },
  {
   "cell_type": "code",
   "execution_count": 28,
   "metadata": {},
   "outputs": [
    {
     "data": {
      "text/plain": [
       "User(_api=<tweepy.api.API object at 0x000001AFE8DBD888>, _json={'id': 10228272, 'id_str': '10228272', 'name': 'YouTube', 'screen_name': 'YouTube', 'location': 'San Bruno, CA', 'description': \"here's to what you DID like #YouTubeRewind 2019 https://t.co/FA6q3pyPQ8\", 'url': 'https://t.co/FA6q3pyPQ8', 'entities': {'url': {'urls': [{'url': 'https://t.co/FA6q3pyPQ8', 'expanded_url': 'https://youtu.be/2lAe1cqCOXo', 'display_url': 'youtu.be/2lAe1cqCOXo', 'indices': [0, 23]}]}, 'description': {'urls': [{'url': 'https://t.co/FA6q3pyPQ8', 'expanded_url': 'https://youtu.be/2lAe1cqCOXo', 'display_url': 'youtu.be/2lAe1cqCOXo', 'indices': [48, 71]}]}}, 'protected': False, 'followers_count': 72127907, 'friends_count': 1051, 'listed_count': 81712, 'created_at': 'Tue Nov 13 21:43:46 +0000 2007', 'favourites_count': 2733, 'utc_offset': None, 'time_zone': None, 'geo_enabled': False, 'verified': True, 'statuses_count': 24309, 'lang': None, 'status': {'created_at': 'Wed Dec 18 01:44:50 +0000 2019', 'id': 1207114465461686272, 'id_str': '1207114465461686272', 'text': \"@yoonchkin 🤣 sounds so suspenseful... where's it going to take you next?!\", 'truncated': False, 'entities': {'hashtags': [], 'symbols': [], 'user_mentions': [{'screen_name': 'yoonchkin', 'name': '// 𝚊. 🤟✨', 'id': 1134959838629380096, 'id_str': '1134959838629380096', 'indices': [0, 10]}], 'urls': []}, 'source': '<a href=\"https://mobile.twitter.com\" rel=\"nofollow\">Twitter Web App</a>', 'in_reply_to_status_id': 1207064407223799815, 'in_reply_to_status_id_str': '1207064407223799815', 'in_reply_to_user_id': 1134959838629380096, 'in_reply_to_user_id_str': '1134959838629380096', 'in_reply_to_screen_name': 'yoonchkin', 'geo': None, 'coordinates': None, 'place': None, 'contributors': None, 'is_quote_status': False, 'retweet_count': 1, 'favorite_count': 1, 'favorited': False, 'retweeted': False, 'lang': 'en'}, 'contributors_enabled': False, 'is_translator': False, 'is_translation_enabled': True, 'profile_background_color': 'AF0000', 'profile_background_image_url': 'http://abs.twimg.com/images/themes/theme14/bg.gif', 'profile_background_image_url_https': 'https://abs.twimg.com/images/themes/theme14/bg.gif', 'profile_background_tile': True, 'profile_image_url': 'http://pbs.twimg.com/profile_images/1202651309473579008/gRPBklCS_normal.jpg', 'profile_image_url_https': 'https://pbs.twimg.com/profile_images/1202651309473579008/gRPBklCS_normal.jpg', 'profile_banner_url': 'https://pbs.twimg.com/profile_banners/10228272/1575568824', 'profile_link_color': 'C9191D', 'profile_sidebar_border_color': '000000', 'profile_sidebar_fill_color': 'EFEFEF', 'profile_text_color': '333333', 'profile_use_background_image': True, 'has_extended_profile': False, 'default_profile': False, 'default_profile_image': False, 'can_media_tag': True, 'followed_by': False, 'following': False, 'follow_request_sent': False, 'notifications': False, 'muting': False, 'translator_type': 'regular'}, id=10228272, id_str='10228272', name='YouTube', screen_name='YouTube', location='San Bruno, CA', description=\"here's to what you DID like #YouTubeRewind 2019 https://t.co/FA6q3pyPQ8\", url='https://t.co/FA6q3pyPQ8', entities={'url': {'urls': [{'url': 'https://t.co/FA6q3pyPQ8', 'expanded_url': 'https://youtu.be/2lAe1cqCOXo', 'display_url': 'youtu.be/2lAe1cqCOXo', 'indices': [0, 23]}]}, 'description': {'urls': [{'url': 'https://t.co/FA6q3pyPQ8', 'expanded_url': 'https://youtu.be/2lAe1cqCOXo', 'display_url': 'youtu.be/2lAe1cqCOXo', 'indices': [48, 71]}]}}, protected=False, followers_count=72127907, friends_count=1051, listed_count=81712, created_at=datetime.datetime(2007, 11, 13, 21, 43, 46), favourites_count=2733, utc_offset=None, time_zone=None, geo_enabled=False, verified=True, statuses_count=24309, lang=None, status=Status(_api=<tweepy.api.API object at 0x000001AFE8DBD888>, _json={'created_at': 'Wed Dec 18 01:44:50 +0000 2019', 'id': 1207114465461686272, 'id_str': '1207114465461686272', 'text': \"@yoonchkin 🤣 sounds so suspenseful... where's it going to take you next?!\", 'truncated': False, 'entities': {'hashtags': [], 'symbols': [], 'user_mentions': [{'screen_name': 'yoonchkin', 'name': '// 𝚊. 🤟✨', 'id': 1134959838629380096, 'id_str': '1134959838629380096', 'indices': [0, 10]}], 'urls': []}, 'source': '<a href=\"https://mobile.twitter.com\" rel=\"nofollow\">Twitter Web App</a>', 'in_reply_to_status_id': 1207064407223799815, 'in_reply_to_status_id_str': '1207064407223799815', 'in_reply_to_user_id': 1134959838629380096, 'in_reply_to_user_id_str': '1134959838629380096', 'in_reply_to_screen_name': 'yoonchkin', 'geo': None, 'coordinates': None, 'place': None, 'contributors': None, 'is_quote_status': False, 'retweet_count': 1, 'favorite_count': 1, 'favorited': False, 'retweeted': False, 'lang': 'en'}, created_at=datetime.datetime(2019, 12, 18, 1, 44, 50), id=1207114465461686272, id_str='1207114465461686272', text=\"@yoonchkin 🤣 sounds so suspenseful... where's it going to take you next?!\", truncated=False, entities={'hashtags': [], 'symbols': [], 'user_mentions': [{'screen_name': 'yoonchkin', 'name': '// 𝚊. 🤟✨', 'id': 1134959838629380096, 'id_str': '1134959838629380096', 'indices': [0, 10]}], 'urls': []}, source='Twitter Web App', source_url='https://mobile.twitter.com', in_reply_to_status_id=1207064407223799815, in_reply_to_status_id_str='1207064407223799815', in_reply_to_user_id=1134959838629380096, in_reply_to_user_id_str='1134959838629380096', in_reply_to_screen_name='yoonchkin', geo=None, coordinates=None, place=None, contributors=None, is_quote_status=False, retweet_count=1, favorite_count=1, favorited=False, retweeted=False, lang='en'), contributors_enabled=False, is_translator=False, is_translation_enabled=True, profile_background_color='AF0000', profile_background_image_url='http://abs.twimg.com/images/themes/theme14/bg.gif', profile_background_image_url_https='https://abs.twimg.com/images/themes/theme14/bg.gif', profile_background_tile=True, profile_image_url='http://pbs.twimg.com/profile_images/1202651309473579008/gRPBklCS_normal.jpg', profile_image_url_https='https://pbs.twimg.com/profile_images/1202651309473579008/gRPBklCS_normal.jpg', profile_banner_url='https://pbs.twimg.com/profile_banners/10228272/1575568824', profile_link_color='C9191D', profile_sidebar_border_color='000000', profile_sidebar_fill_color='EFEFEF', profile_text_color='333333', profile_use_background_image=True, has_extended_profile=False, default_profile=False, default_profile_image=False, can_media_tag=True, followed_by=False, following=False, follow_request_sent=False, notifications=False, muting=False, translator_type='regular')"
      ]
     },
     "execution_count": 28,
     "metadata": {},
     "output_type": "execute_result"
    }
   ],
   "source": [
    "api.create_friendship('@YouTube')"
   ]
  },
  {
   "cell_type": "code",
   "execution_count": null,
   "metadata": {},
   "outputs": [],
   "source": []
  }
 ],
 "metadata": {
  "kernelspec": {
   "display_name": "Python 3",
   "language": "python",
   "name": "python3"
  },
  "language_info": {
   "codemirror_mode": {
    "name": "ipython",
    "version": 3
   },
   "file_extension": ".py",
   "mimetype": "text/x-python",
   "name": "python",
   "nbconvert_exporter": "python",
   "pygments_lexer": "ipython3",
   "version": "3.7.4"
  }
 },
 "nbformat": 4,
 "nbformat_minor": 2
}
